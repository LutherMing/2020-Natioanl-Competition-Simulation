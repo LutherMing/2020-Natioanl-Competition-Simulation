{
 "cells": [
  {
   "cell_type": "code",
   "execution_count": 1,
   "id": "d03f4672",
   "metadata": {
    "ExecuteTime": {
     "end_time": "2021-08-30T14:35:29.848740Z",
     "start_time": "2021-08-30T14:35:26.345854Z"
    }
   },
   "outputs": [],
   "source": [
    "import warnings\n",
    "warnings.filterwarnings(\"ignore\")\n",
    "import numpy as np\n",
    "import pandas as pd\n",
    "import matplotlib.pyplot as plt\n",
    "import statsmodels.formula.api as smf\n",
    "from sklearn.model_selection import train_test_split\n",
    "import seaborn as sns\n",
    "plt.style.use('ggplot')\n",
    "# 声明使用 Seaborn 样式\n",
    "sns.set()\n",
    "# 有五种seaborn的绘图风格，它们分别是：darkgrid, whitegrid, dark, white, ticks。默认的主题是darkgrid。\n",
    "sns.set_style(\"whitegrid\")\n",
    "# 有四个预置的环境，按大小从小到大排列分别为：paper, notebook, talk, poster。其中，notebook是默认的。\n",
    "sns.set_context('notebook')\n",
    "# 中文字体设置-黑体\n",
    "plt.rcParams['font.sans-serif'] = ['Microsoft YaHei']\n",
    "# 解决保存图像是负号'-'显示为方块的问题\n",
    "plt.rcParams['axes.unicode_minus'] = False"
   ]
  },
  {
   "cell_type": "code",
   "execution_count": 5,
   "id": "b9db5db5",
   "metadata": {
    "ExecuteTime": {
     "end_time": "2021-08-30T14:45:05.064181Z",
     "start_time": "2021-08-30T14:45:03.860687Z"
    }
   },
   "outputs": [
    {
     "name": "stdout",
     "output_type": "stream",
     "text": [
      "<class 'pandas.core.frame.DataFrame'>\n",
      "RangeIndex: 123 entries, 0 to 122\n",
      "Data columns (total 4 columns):\n",
      " #   Column  Non-Null Count  Dtype \n",
      "---  ------  --------------  ----- \n",
      " 0   企业代号    123 non-null    object\n",
      " 1   企业名称    123 non-null    object\n",
      " 2   信誉评级    123 non-null    object\n",
      " 3   是否违约    123 non-null    object\n",
      "dtypes: object(4)\n",
      "memory usage: 4.0+ KB\n"
     ]
    }
   ],
   "source": [
    "a11=pd.read_excel('附件1：123家有信贷记录企业的相关数据.xlsx',sheet_name='企业信息')\n",
    "a11.info()"
   ]
  },
  {
   "cell_type": "code",
   "execution_count": 6,
   "id": "372c3a1f",
   "metadata": {
    "ExecuteTime": {
     "end_time": "2021-08-30T14:45:37.835432Z",
     "start_time": "2021-08-30T14:45:05.099054Z"
    },
    "scrolled": true
   },
   "outputs": [
    {
     "name": "stdout",
     "output_type": "stream",
     "text": [
      "<class 'pandas.core.frame.DataFrame'>\n",
      "RangeIndex: 210947 entries, 0 to 210946\n",
      "Data columns (total 8 columns):\n",
      " #   Column  Non-Null Count   Dtype         \n",
      "---  ------  --------------   -----         \n",
      " 0   企业代号    210947 non-null  object        \n",
      " 1   发票号码    210947 non-null  int64         \n",
      " 2   开票日期    210947 non-null  datetime64[ns]\n",
      " 3   销方单位代号  210947 non-null  object        \n",
      " 4   金额      210947 non-null  float64       \n",
      " 5   税额      210947 non-null  float64       \n",
      " 6   价税合计    210947 non-null  float64       \n",
      " 7   发票状态    210947 non-null  object        \n",
      "dtypes: datetime64[ns](1), float64(3), int64(1), object(3)\n",
      "memory usage: 12.9+ MB\n"
     ]
    }
   ],
   "source": [
    "a12=pd.read_excel('附件1：123家有信贷记录企业的相关数据.xlsx',sheet_name='进项发票信息')\n",
    "a12.info()"
   ]
  },
  {
   "cell_type": "code",
   "execution_count": 7,
   "id": "fd4fe023",
   "metadata": {
    "ExecuteTime": {
     "end_time": "2021-08-30T14:46:03.962454Z",
     "start_time": "2021-08-30T14:45:37.881572Z"
    }
   },
   "outputs": [
    {
     "name": "stdout",
     "output_type": "stream",
     "text": [
      "<class 'pandas.core.frame.DataFrame'>\n",
      "RangeIndex: 162484 entries, 0 to 162483\n",
      "Data columns (total 8 columns):\n",
      " #   Column  Non-Null Count   Dtype         \n",
      "---  ------  --------------   -----         \n",
      " 0   企业代号    162484 non-null  object        \n",
      " 1   发票号码    162484 non-null  int64         \n",
      " 2   开票日期    162484 non-null  datetime64[ns]\n",
      " 3   购方单位代号  162484 non-null  object        \n",
      " 4   金额      162484 non-null  float64       \n",
      " 5   税额      162484 non-null  float64       \n",
      " 6   价税合计    162484 non-null  float64       \n",
      " 7   发票状态    162484 non-null  object        \n",
      "dtypes: datetime64[ns](1), float64(3), int64(1), object(3)\n",
      "memory usage: 9.9+ MB\n"
     ]
    }
   ],
   "source": [
    "a13=pd.read_excel('附件1：123家有信贷记录企业的相关数据.xlsx',sheet_name='销项发票信息')\n",
    "a13.info()"
   ]
  },
  {
   "cell_type": "markdown",
   "id": "32be1966",
   "metadata": {},
   "source": [
    "# 附件1"
   ]
  },
  {
   "cell_type": "code",
   "execution_count": 8,
   "id": "764c9e6e",
   "metadata": {
    "ExecuteTime": {
     "end_time": "2021-08-31T00:53:31.004189Z",
     "start_time": "2021-08-31T00:53:30.986616Z"
    }
   },
   "outputs": [
    {
     "data": {
      "text/plain": [
       "0        E1\n",
       "1        E2\n",
       "2        E3\n",
       "3        E4\n",
       "4        E5\n",
       "       ... \n",
       "118    E119\n",
       "119    E120\n",
       "120    E121\n",
       "121    E122\n",
       "122    E123\n",
       "Name: 企业代号, Length: 123, dtype: object"
      ]
     },
     "execution_count": 8,
     "metadata": {},
     "output_type": "execute_result"
    }
   ],
   "source": [
    "names=a11.iloc[:,0]\n",
    "names"
   ]
  },
  {
   "cell_type": "code",
   "execution_count": 13,
   "id": "16cb7eee",
   "metadata": {
    "ExecuteTime": {
     "end_time": "2021-08-31T01:08:15.219141Z",
     "start_time": "2021-08-31T01:08:15.210610Z"
    }
   },
   "outputs": [
    {
     "data": {
      "text/plain": [
       "0.00891693174114825"
      ]
     },
     "execution_count": 13,
     "metadata": {},
     "output_type": "execute_result"
    }
   ],
   "source": [
    "a12['价税合计'][a12['价税合计']<0].count()/a12['价税合计'].count()"
   ]
  },
  {
   "cell_type": "code",
   "execution_count": 14,
   "id": "548b90a7",
   "metadata": {
    "ExecuteTime": {
     "end_time": "2021-08-31T01:10:50.630080Z",
     "start_time": "2021-08-31T01:10:50.592670Z"
    }
   },
   "outputs": [
    {
     "data": {
      "text/plain": [
       "0.036065931252873946"
      ]
     },
     "execution_count": 14,
     "metadata": {},
     "output_type": "execute_result"
    }
   ],
   "source": [
    "a12['发票状态'][a12['发票状态']=='作废发票'].count()/a12['发票状态'].count()"
   ]
  },
  {
   "cell_type": "code",
   "execution_count": 15,
   "id": "270e11bf",
   "metadata": {
    "ExecuteTime": {
     "end_time": "2021-08-31T01:13:25.262215Z",
     "start_time": "2021-08-31T01:13:25.238640Z"
    }
   },
   "outputs": [
    {
     "data": {
      "text/plain": [
       "array(['A00297', 'A05061', 'A05991', ..., 'A02028', 'A02519', 'A00046'],\n",
       "      dtype=object)"
      ]
     },
     "execution_count": 15,
     "metadata": {},
     "output_type": "execute_result"
    }
   ],
   "source": [
    "a12['销方单位代号'].unique()"
   ]
  },
  {
   "cell_type": "code",
   "execution_count": 16,
   "id": "f0f81dd2",
   "metadata": {
    "ExecuteTime": {
     "end_time": "2021-08-31T01:13:58.814240Z",
     "start_time": "2021-08-31T01:13:58.779334Z"
    }
   },
   "outputs": [
    {
     "data": {
      "text/plain": [
       "13961"
      ]
     },
     "execution_count": 16,
     "metadata": {},
     "output_type": "execute_result"
    }
   ],
   "source": [
    "a12['销方单位代号'].nunique()"
   ]
  },
  {
   "cell_type": "code",
   "execution_count": null,
   "id": "cbc76b7a",
   "metadata": {
    "ExecuteTime": {
     "end_time": "2021-08-31T01:35:53.821550Z",
     "start_time": "2021-08-31T01:35:46.869832Z"
    }
   },
   "outputs": [],
   "source": [
    "# temp_names=[name for name, data in a12.groupby('销方单位代号')]\n",
    "# temp_datas=[data['价税合计'].agg(sum) for name, data in a12.groupby('销方单位代号')]\n",
    "temp_tuple=[(name,data['价税合计'].agg(sum)/a12['价税合计'].sum()) for name, data in a12.groupby('销方单位代号')]"
   ]
  },
  {
   "cell_type": "code",
   "execution_count": 29,
   "id": "11688e6c",
   "metadata": {
    "ExecuteTime": {
     "end_time": "2021-08-31T02:12:38.898252Z",
     "start_time": "2021-08-31T02:12:38.872322Z"
    }
   },
   "outputs": [
    {
     "data": {
      "text/plain": [
       "[0.37706323142548204,\n",
       " 0.001063537753994928,\n",
       " 0.000220681133171142,\n",
       " 9.988353328294449e-05,\n",
       " 5.443915743473652e-05,\n",
       " 3.499931352443534e-05,\n",
       " 3.1002125532943435e-05,\n",
       " 2.0483139704827317e-05,\n",
       " 1.6756290077007574e-05,\n",
       " 1.333856919857728e-05]"
      ]
     },
     "execution_count": 29,
     "metadata": {},
     "output_type": "execute_result"
    }
   ],
   "source": [
    "sorted(temp_tuple,key=lambda x:x[-1],reverse=True )[:10]\n",
    "HHI=[pow(i[-1],2)for i in sorted(temp_tuple,key=lambda x:x[-1],reverse=True )[:10]]\n",
    "HHI"
   ]
  },
  {
   "cell_type": "code",
   "execution_count": 27,
   "id": "2c4f2cbb",
   "metadata": {
    "ExecuteTime": {
     "end_time": "2021-08-31T02:12:32.217344Z",
     "start_time": "2021-08-31T02:12:32.212384Z"
    }
   },
   "outputs": [
    {
     "data": {
      "text/plain": [
       "[0.37706323142548204,\n",
       " 0.001063537753994928,\n",
       " 0.000220681133171142,\n",
       " 9.988353328294449e-05,\n",
       " 5.443915743473652e-05,\n",
       " 3.499931352443534e-05,\n",
       " 3.1002125532943435e-05,\n",
       " 2.0483139704827317e-05,\n",
       " 1.6756290077007574e-05,\n",
       " 1.333856919857728e-05]"
      ]
     },
     "execution_count": 27,
     "metadata": {},
     "output_type": "execute_result"
    }
   ],
   "source": [
    "HHI[:100]"
   ]
  },
  {
   "cell_type": "code",
   "execution_count": 26,
   "id": "225d646e",
   "metadata": {
    "ExecuteTime": {
     "end_time": "2021-08-31T01:39:52.258852Z",
     "start_time": "2021-08-31T01:39:52.252867Z"
    }
   },
   "outputs": [
    {
     "data": {
      "text/plain": [
       "0.3786183524414035"
      ]
     },
     "execution_count": 26,
     "metadata": {},
     "output_type": "execute_result"
    }
   ],
   "source": [
    "sum(HHI)"
   ]
  },
  {
   "cell_type": "code",
   "execution_count": 88,
   "id": "f70eaca3",
   "metadata": {
    "ExecuteTime": {
     "end_time": "2021-08-31T03:08:47.475628Z",
     "start_time": "2021-08-31T03:08:47.469644Z"
    }
   },
   "outputs": [],
   "source": [
    "def calculate_purchase(df):\n",
    "    \n",
    "    '''进项发票信息'''\n",
    "    \n",
    "    expense = df['价税合计'].sum()  #进货支出【价税合计】\n",
    "    nega_ratio = df['价税合计'][df['价税合计'] < 0].count() / df['价税合计'].count()\n",
    "    void_ratio = df['发票状态'][df['发票状态'] == '作废发票'].count() / df['发票状态'].count()\n",
    "\n",
    "    proportion = [(unit_name, unit_data['价税合计'].agg(sum) / df['价税合计'].sum())\n",
    "                  for unit_name, unit_data in df.groupby('价税合计')]\n",
    "    HHI =sum( [\n",
    "        pow(i[-1], 2)\n",
    "        for i in sorted(proportion, key=lambda x: x[-1], reverse=True)[:10]\n",
    "    ])\n",
    "    return expense, nega_ratio, void_ratio, HHI"
   ]
  },
  {
   "cell_type": "code",
   "execution_count": 66,
   "id": "bd19ad44",
   "metadata": {
    "ExecuteTime": {
     "end_time": "2021-08-31T02:39:47.120638Z",
     "start_time": "2021-08-31T02:39:47.113659Z"
    }
   },
   "outputs": [
    {
     "data": {
      "text/plain": [
       "(datetime.datetime(2017, 1, 1, 0, 0), datetime.datetime(2018, 1, 1, 0, 0))"
      ]
     },
     "execution_count": 66,
     "metadata": {},
     "output_type": "execute_result"
    }
   ],
   "source": [
    "# a13['year']=a\n",
    "import datetime\n",
    "y_17 = datetime.datetime.strptime('20170101', '%Y%m%d')\n",
    "y_18= datetime.datetime.strptime('20180101', '%Y%m%d')\n",
    "y_19 = datetime.datetime.strptime('20190101', '%Y%m%d')\n",
    "y_20 = datetime.datetime.strptime('20200101', '%Y%m%d')\n",
    "y_17,y_18"
   ]
  },
  {
   "cell_type": "markdown",
   "id": "79ee1743",
   "metadata": {},
   "source": [
    "原因是由于在python中 or 和 and 的声明需要 truth-values, 即真实的True或者False\n",
    "\n",
    "但是df['pop']>3返回并不是True或False，而仍然是一个Series，所以在pandas中这样使用被认为是不明确(ambiguous)\n",
    "\n",
    "因此需要使用位运算符(bitwise)即 |(or) 或者 &(and):"
   ]
  },
  {
   "cell_type": "code",
   "execution_count": 72,
   "id": "a507b47e",
   "metadata": {
    "ExecuteTime": {
     "end_time": "2021-08-31T02:47:21.074678Z",
     "start_time": "2021-08-31T02:47:21.009816Z"
    }
   },
   "outputs": [
    {
     "data": {
      "text/html": [
       "<div>\n",
       "<style scoped>\n",
       "    .dataframe tbody tr th:only-of-type {\n",
       "        vertical-align: middle;\n",
       "    }\n",
       "\n",
       "    .dataframe tbody tr th {\n",
       "        vertical-align: top;\n",
       "    }\n",
       "\n",
       "    .dataframe thead th {\n",
       "        text-align: right;\n",
       "    }\n",
       "</style>\n",
       "<table border=\"1\" class=\"dataframe\">\n",
       "  <thead>\n",
       "    <tr style=\"text-align: right;\">\n",
       "      <th></th>\n",
       "      <th>企业代号</th>\n",
       "      <th>发票号码</th>\n",
       "      <th>开票日期</th>\n",
       "      <th>购方单位代号</th>\n",
       "      <th>金额</th>\n",
       "      <th>税额</th>\n",
       "      <th>价税合计</th>\n",
       "      <th>发票状态</th>\n",
       "    </tr>\n",
       "  </thead>\n",
       "  <tbody>\n",
       "    <tr>\n",
       "      <th>0</th>\n",
       "      <td>E1</td>\n",
       "      <td>11459356</td>\n",
       "      <td>2017-08-04</td>\n",
       "      <td>B03711</td>\n",
       "      <td>9401.71</td>\n",
       "      <td>1598.29</td>\n",
       "      <td>11000.0</td>\n",
       "      <td>有效发票</td>\n",
       "    </tr>\n",
       "    <tr>\n",
       "      <th>1</th>\n",
       "      <td>E1</td>\n",
       "      <td>5076239</td>\n",
       "      <td>2017-08-09</td>\n",
       "      <td>B00844</td>\n",
       "      <td>8170.94</td>\n",
       "      <td>1389.06</td>\n",
       "      <td>9560.0</td>\n",
       "      <td>有效发票</td>\n",
       "    </tr>\n",
       "    <tr>\n",
       "      <th>2</th>\n",
       "      <td>E1</td>\n",
       "      <td>5076240</td>\n",
       "      <td>2017-08-09</td>\n",
       "      <td>B00844</td>\n",
       "      <td>8170.94</td>\n",
       "      <td>1389.06</td>\n",
       "      <td>9560.0</td>\n",
       "      <td>有效发票</td>\n",
       "    </tr>\n",
       "    <tr>\n",
       "      <th>3</th>\n",
       "      <td>E1</td>\n",
       "      <td>5076241</td>\n",
       "      <td>2017-08-09</td>\n",
       "      <td>B00844</td>\n",
       "      <td>4085.47</td>\n",
       "      <td>694.53</td>\n",
       "      <td>4780.0</td>\n",
       "      <td>有效发票</td>\n",
       "    </tr>\n",
       "    <tr>\n",
       "      <th>4</th>\n",
       "      <td>E1</td>\n",
       "      <td>5076242</td>\n",
       "      <td>2017-08-09</td>\n",
       "      <td>B00844</td>\n",
       "      <td>4085.47</td>\n",
       "      <td>694.53</td>\n",
       "      <td>4780.0</td>\n",
       "      <td>有效发票</td>\n",
       "    </tr>\n",
       "    <tr>\n",
       "      <th>...</th>\n",
       "      <td>...</td>\n",
       "      <td>...</td>\n",
       "      <td>...</td>\n",
       "      <td>...</td>\n",
       "      <td>...</td>\n",
       "      <td>...</td>\n",
       "      <td>...</td>\n",
       "      <td>...</td>\n",
       "    </tr>\n",
       "    <tr>\n",
       "      <th>162421</th>\n",
       "      <td>E123</td>\n",
       "      <td>1189779</td>\n",
       "      <td>2017-04-06</td>\n",
       "      <td>B13093</td>\n",
       "      <td>7288.89</td>\n",
       "      <td>1239.11</td>\n",
       "      <td>8528.0</td>\n",
       "      <td>作废发票</td>\n",
       "    </tr>\n",
       "    <tr>\n",
       "      <th>162422</th>\n",
       "      <td>E123</td>\n",
       "      <td>1189780</td>\n",
       "      <td>2017-04-06</td>\n",
       "      <td>B13093</td>\n",
       "      <td>7288.89</td>\n",
       "      <td>1239.11</td>\n",
       "      <td>8528.0</td>\n",
       "      <td>有效发票</td>\n",
       "    </tr>\n",
       "    <tr>\n",
       "      <th>162423</th>\n",
       "      <td>E123</td>\n",
       "      <td>1189781</td>\n",
       "      <td>2017-05-24</td>\n",
       "      <td>B08687</td>\n",
       "      <td>9207.69</td>\n",
       "      <td>1565.31</td>\n",
       "      <td>10773.0</td>\n",
       "      <td>有效发票</td>\n",
       "    </tr>\n",
       "    <tr>\n",
       "      <th>162424</th>\n",
       "      <td>E123</td>\n",
       "      <td>1189782</td>\n",
       "      <td>2017-06-12</td>\n",
       "      <td>B13093</td>\n",
       "      <td>447.85</td>\n",
       "      <td>76.15</td>\n",
       "      <td>524.0</td>\n",
       "      <td>有效发票</td>\n",
       "    </tr>\n",
       "    <tr>\n",
       "      <th>162425</th>\n",
       "      <td>E123</td>\n",
       "      <td>1189783</td>\n",
       "      <td>2017-12-22</td>\n",
       "      <td>B10049</td>\n",
       "      <td>1222.22</td>\n",
       "      <td>207.78</td>\n",
       "      <td>1430.0</td>\n",
       "      <td>有效发票</td>\n",
       "    </tr>\n",
       "  </tbody>\n",
       "</table>\n",
       "<p>48186 rows × 8 columns</p>\n",
       "</div>"
      ],
      "text/plain": [
       "        企业代号      发票号码       开票日期  购方单位代号       金额       税额     价税合计  发票状态\n",
       "0         E1  11459356 2017-08-04  B03711  9401.71  1598.29  11000.0  有效发票\n",
       "1         E1   5076239 2017-08-09  B00844  8170.94  1389.06   9560.0  有效发票\n",
       "2         E1   5076240 2017-08-09  B00844  8170.94  1389.06   9560.0  有效发票\n",
       "3         E1   5076241 2017-08-09  B00844  4085.47   694.53   4780.0  有效发票\n",
       "4         E1   5076242 2017-08-09  B00844  4085.47   694.53   4780.0  有效发票\n",
       "...      ...       ...        ...     ...      ...      ...      ...   ...\n",
       "162421  E123   1189779 2017-04-06  B13093  7288.89  1239.11   8528.0  作废发票\n",
       "162422  E123   1189780 2017-04-06  B13093  7288.89  1239.11   8528.0  有效发票\n",
       "162423  E123   1189781 2017-05-24  B08687  9207.69  1565.31  10773.0  有效发票\n",
       "162424  E123   1189782 2017-06-12  B13093   447.85    76.15    524.0  有效发票\n",
       "162425  E123   1189783 2017-12-22  B10049  1222.22   207.78   1430.0  有效发票\n",
       "\n",
       "[48186 rows x 8 columns]"
      ]
     },
     "execution_count": 72,
     "metadata": {},
     "output_type": "execute_result"
    }
   ],
   "source": [
    "#两者等价：a13[>=][<=]与a13[(>=)&(<=)]\n",
    "a13[(a13['开票日期']>=y_17) & (a13['开票日期']<=y_18)]\n",
    "# a13[ a13['开票日期']<=y_18]\n",
    " a13[(a13['开票日期']>=y_17)][ (a13['开票日期']<=y_18)]"
   ]
  },
  {
   "cell_type": "code",
   "execution_count": 57,
   "id": "1f4beee3",
   "metadata": {
    "ExecuteTime": {
     "end_time": "2021-08-31T02:33:36.977006Z",
     "start_time": "2021-08-31T02:33:36.945039Z"
    }
   },
   "outputs": [
    {
     "data": {
      "text/html": [
       "<div>\n",
       "<style scoped>\n",
       "    .dataframe tbody tr th:only-of-type {\n",
       "        vertical-align: middle;\n",
       "    }\n",
       "\n",
       "    .dataframe tbody tr th {\n",
       "        vertical-align: top;\n",
       "    }\n",
       "\n",
       "    .dataframe thead th {\n",
       "        text-align: right;\n",
       "    }\n",
       "</style>\n",
       "<table border=\"1\" class=\"dataframe\">\n",
       "  <thead>\n",
       "    <tr style=\"text-align: right;\">\n",
       "      <th></th>\n",
       "      <th>企业代号</th>\n",
       "      <th>发票号码</th>\n",
       "      <th>购方单位代号</th>\n",
       "      <th>金额</th>\n",
       "      <th>税额</th>\n",
       "      <th>价税合计</th>\n",
       "      <th>发票状态</th>\n",
       "    </tr>\n",
       "    <tr>\n",
       "      <th>开票日期</th>\n",
       "      <th></th>\n",
       "      <th></th>\n",
       "      <th></th>\n",
       "      <th></th>\n",
       "      <th></th>\n",
       "      <th></th>\n",
       "      <th></th>\n",
       "    </tr>\n",
       "  </thead>\n",
       "  <tbody>\n",
       "    <tr>\n",
       "      <th>2017-08-04</th>\n",
       "      <td>E1</td>\n",
       "      <td>11459356</td>\n",
       "      <td>B03711</td>\n",
       "      <td>9401.71</td>\n",
       "      <td>1598.29</td>\n",
       "      <td>11000.0</td>\n",
       "      <td>有效发票</td>\n",
       "    </tr>\n",
       "    <tr>\n",
       "      <th>2017-08-09</th>\n",
       "      <td>E1</td>\n",
       "      <td>5076239</td>\n",
       "      <td>B00844</td>\n",
       "      <td>8170.94</td>\n",
       "      <td>1389.06</td>\n",
       "      <td>9560.0</td>\n",
       "      <td>有效发票</td>\n",
       "    </tr>\n",
       "    <tr>\n",
       "      <th>2017-08-09</th>\n",
       "      <td>E1</td>\n",
       "      <td>5076240</td>\n",
       "      <td>B00844</td>\n",
       "      <td>8170.94</td>\n",
       "      <td>1389.06</td>\n",
       "      <td>9560.0</td>\n",
       "      <td>有效发票</td>\n",
       "    </tr>\n",
       "    <tr>\n",
       "      <th>2017-08-09</th>\n",
       "      <td>E1</td>\n",
       "      <td>5076241</td>\n",
       "      <td>B00844</td>\n",
       "      <td>4085.47</td>\n",
       "      <td>694.53</td>\n",
       "      <td>4780.0</td>\n",
       "      <td>有效发票</td>\n",
       "    </tr>\n",
       "    <tr>\n",
       "      <th>2017-08-09</th>\n",
       "      <td>E1</td>\n",
       "      <td>5076242</td>\n",
       "      <td>B00844</td>\n",
       "      <td>4085.47</td>\n",
       "      <td>694.53</td>\n",
       "      <td>4780.0</td>\n",
       "      <td>有效发票</td>\n",
       "    </tr>\n",
       "    <tr>\n",
       "      <th>...</th>\n",
       "      <td>...</td>\n",
       "      <td>...</td>\n",
       "      <td>...</td>\n",
       "      <td>...</td>\n",
       "      <td>...</td>\n",
       "      <td>...</td>\n",
       "      <td>...</td>\n",
       "    </tr>\n",
       "    <tr>\n",
       "      <th>2019-12-17</th>\n",
       "      <td>E123</td>\n",
       "      <td>8887701</td>\n",
       "      <td>B10944</td>\n",
       "      <td>4827.67</td>\n",
       "      <td>144.83</td>\n",
       "      <td>4972.5</td>\n",
       "      <td>有效发票</td>\n",
       "    </tr>\n",
       "    <tr>\n",
       "      <th>2019-12-17</th>\n",
       "      <td>E123</td>\n",
       "      <td>8887702</td>\n",
       "      <td>B10944</td>\n",
       "      <td>7412.62</td>\n",
       "      <td>222.38</td>\n",
       "      <td>7635.0</td>\n",
       "      <td>有效发票</td>\n",
       "    </tr>\n",
       "    <tr>\n",
       "      <th>2019-12-17</th>\n",
       "      <td>E123</td>\n",
       "      <td>34173085</td>\n",
       "      <td>B13093</td>\n",
       "      <td>1917.47</td>\n",
       "      <td>57.53</td>\n",
       "      <td>1975.0</td>\n",
       "      <td>有效发票</td>\n",
       "    </tr>\n",
       "    <tr>\n",
       "      <th>2019-12-25</th>\n",
       "      <td>E123</td>\n",
       "      <td>8887703</td>\n",
       "      <td>B13093</td>\n",
       "      <td>7252.42</td>\n",
       "      <td>217.58</td>\n",
       "      <td>7470.0</td>\n",
       "      <td>有效发票</td>\n",
       "    </tr>\n",
       "    <tr>\n",
       "      <th>2019-12-25</th>\n",
       "      <td>E123</td>\n",
       "      <td>8887704</td>\n",
       "      <td>B13093</td>\n",
       "      <td>6660.19</td>\n",
       "      <td>199.81</td>\n",
       "      <td>6860.0</td>\n",
       "      <td>有效发票</td>\n",
       "    </tr>\n",
       "  </tbody>\n",
       "</table>\n",
       "<p>162484 rows × 7 columns</p>\n",
       "</div>"
      ],
      "text/plain": [
       "            企业代号      发票号码  购方单位代号       金额       税额     价税合计  发票状态\n",
       "开票日期                                                               \n",
       "2017-08-04    E1  11459356  B03711  9401.71  1598.29  11000.0  有效发票\n",
       "2017-08-09    E1   5076239  B00844  8170.94  1389.06   9560.0  有效发票\n",
       "2017-08-09    E1   5076240  B00844  8170.94  1389.06   9560.0  有效发票\n",
       "2017-08-09    E1   5076241  B00844  4085.47   694.53   4780.0  有效发票\n",
       "2017-08-09    E1   5076242  B00844  4085.47   694.53   4780.0  有效发票\n",
       "...          ...       ...     ...      ...      ...      ...   ...\n",
       "2019-12-17  E123   8887701  B10944  4827.67   144.83   4972.5  有效发票\n",
       "2019-12-17  E123   8887702  B10944  7412.62   222.38   7635.0  有效发票\n",
       "2019-12-17  E123  34173085  B13093  1917.47    57.53   1975.0  有效发票\n",
       "2019-12-25  E123   8887703  B13093  7252.42   217.58   7470.0  有效发票\n",
       "2019-12-25  E123   8887704  B13093  6660.19   199.81   6860.0  有效发票\n",
       "\n",
       "[162484 rows x 7 columns]"
      ]
     },
     "execution_count": 57,
     "metadata": {},
     "output_type": "execute_result"
    }
   ],
   "source": [
    "temp_time = a13.set_index('开票日期') # 将开票日期设置为index\n",
    "temp_time"
   ]
  },
  {
   "cell_type": "code",
   "execution_count": 132,
   "id": "4dd7b2dd",
   "metadata": {
    "ExecuteTime": {
     "end_time": "2021-08-31T06:29:02.221674Z",
     "start_time": "2021-08-31T06:29:02.209708Z"
    }
   },
   "outputs": [],
   "source": [
    "def calculate_sale(df):\n",
    "    '''销项发票信息'''\n",
    "\n",
    "    income = df['价税合计'].sum()  #销售收入【价税合计】\n",
    "    nega_ratio = df['价税合计'][\n",
    "        df['价税合计'] < 0].count() / df['价税合计'].count()  #负数发票占比\n",
    "    void_ratio = df['发票状态'][df['发票状态'] ==\n",
    "                            '作废发票'].count() / df['发票状态'].count()  #作废发票占比\n",
    "    '''供/需客户集中度'''\n",
    "    proportion = [(unit_name, unit_data['价税合计'].agg(sum) / df['价税合计'].sum())\n",
    "                  for unit_name, unit_data in df.groupby('价税合计')]\n",
    "    HHI =sum( [\n",
    "        pow(i[-1], 2)\n",
    "        for i in sorted(proportion, key=lambda x: x[-1], reverse=True)[:10]\n",
    "    ])\n",
    "    '''销售额的进步因子'''\n",
    "    df_2017 = df[(df['开票日期'] >= y_17) & (df['开票日期'] <= y_18)]\n",
    "    df_2018 = df[(df['开票日期'] >= y_18) & (df['开票日期'] <= y_19)]\n",
    "    df_2019 = df[(df['开票日期'] >= y_19) & (df['开票日期'] <= y_20)]\n",
    "\n",
    "    sale_2017 = df_2017['价税合计'].sum()\n",
    "    sale_2018 = df_2018['价税合计'].sum()\n",
    "    sale_2019 = df_2019['价税合计'].sum()\n",
    "    \n",
    "    if sale_2017==0:\n",
    "        avg_growth = pow(sale_2019 / sale_2018, 1)-1\n",
    "    elif sale_2019==0:\n",
    "        avg_growth = pow(sale_2018 / sale_2017, 1)-1\n",
    "    else:\n",
    "        avg_growth = pow(sale_2019 / sale_2017, 0.5)-1\n",
    "\n",
    "    return income, nega_ratio, void_ratio, HHI, avg_growth"
   ]
  },
  {
   "cell_type": "code",
   "execution_count": 133,
   "id": "2cd53c15",
   "metadata": {
    "ExecuteTime": {
     "end_time": "2021-08-31T06:29:49.838351Z",
     "start_time": "2021-08-31T06:29:03.491021Z"
    }
   },
   "outputs": [],
   "source": [
    "indicators = []\n",
    "for name in names:\n",
    "#     print(name)\n",
    "    df_purchase = a12[a12.iloc[:, 0] == name]\n",
    "    df_sale = a13[a13.iloc[:, 0] == name]\n",
    "#     print(df_purchase)\n",
    "    expense, in_nega_ratio, in_void_ratio, in_HHI = calculate_purchase(\n",
    "        df=df_purchase)\n",
    "    income, out_nega_ratio, out_void_ratio, out_HHI, avg_growth = calculate_sale(\n",
    "        df=df_sale)\n",
    "    indicators.append(\n",
    "        (income, expense, avg_growth, in_nega_ratio, in_void_ratio, in_HHI,\n",
    "          out_nega_ratio, out_void_ratio, out_HHI))"
   ]
  },
  {
   "cell_type": "code",
   "execution_count": 134,
   "id": "5d7387c5",
   "metadata": {
    "ExecuteTime": {
     "end_time": "2021-08-31T06:29:49.982733Z",
     "start_time": "2021-08-31T06:29:49.976749Z"
    }
   },
   "outputs": [
    {
     "data": {
      "text/plain": [
       "(123, 9)"
      ]
     },
     "execution_count": 134,
     "metadata": {},
     "output_type": "execute_result"
    }
   ],
   "source": [
    "np.array(indicators).shape"
   ]
  },
  {
   "cell_type": "code",
   "execution_count": 135,
   "id": "e218fc7a",
   "metadata": {
    "ExecuteTime": {
     "end_time": "2021-08-31T06:29:50.178773Z",
     "start_time": "2021-08-31T06:29:50.155841Z"
    }
   },
   "outputs": [
    {
     "data": {
      "text/html": [
       "<div>\n",
       "<style scoped>\n",
       "    .dataframe tbody tr th:only-of-type {\n",
       "        vertical-align: middle;\n",
       "    }\n",
       "\n",
       "    .dataframe tbody tr th {\n",
       "        vertical-align: top;\n",
       "    }\n",
       "\n",
       "    .dataframe thead th {\n",
       "        text-align: right;\n",
       "    }\n",
       "</style>\n",
       "<table border=\"1\" class=\"dataframe\">\n",
       "  <thead>\n",
       "    <tr style=\"text-align: right;\">\n",
       "      <th></th>\n",
       "      <th>销售收入</th>\n",
       "      <th>进货支出</th>\n",
       "      <th>收入进步因子</th>\n",
       "      <th>进项负数发票占比</th>\n",
       "      <th>进项作废发票占比</th>\n",
       "      <th>供方市场集中度</th>\n",
       "      <th>销项负数发票占比</th>\n",
       "      <th>销项作废发票占比</th>\n",
       "      <th>需方市场集中度</th>\n",
       "    </tr>\n",
       "    <tr>\n",
       "      <th>企业代号</th>\n",
       "      <th></th>\n",
       "      <th></th>\n",
       "      <th></th>\n",
       "      <th></th>\n",
       "      <th></th>\n",
       "      <th></th>\n",
       "      <th></th>\n",
       "      <th></th>\n",
       "      <th></th>\n",
       "    </tr>\n",
       "  </thead>\n",
       "  <tbody>\n",
       "    <tr>\n",
       "      <th>E1</th>\n",
       "      <td>4.798812e+09</td>\n",
       "      <td>6.892694e+09</td>\n",
       "      <td>0.317295</td>\n",
       "      <td>0.020634</td>\n",
       "      <td>0.055798</td>\n",
       "      <td>0.000037</td>\n",
       "      <td>0.028237</td>\n",
       "      <td>0.027620</td>\n",
       "      <td>0.000086</td>\n",
       "    </tr>\n",
       "    <tr>\n",
       "      <th>E2</th>\n",
       "      <td>6.947082e+08</td>\n",
       "      <td>1.717365e+08</td>\n",
       "      <td>0.420467</td>\n",
       "      <td>0.004851</td>\n",
       "      <td>0.022422</td>\n",
       "      <td>0.096395</td>\n",
       "      <td>0.028331</td>\n",
       "      <td>0.082002</td>\n",
       "      <td>0.580404</td>\n",
       "    </tr>\n",
       "    <tr>\n",
       "      <th>E3</th>\n",
       "      <td>6.827398e+08</td>\n",
       "      <td>5.752084e+07</td>\n",
       "      <td>-0.283420</td>\n",
       "      <td>0.005701</td>\n",
       "      <td>0.042535</td>\n",
       "      <td>0.004624</td>\n",
       "      <td>0.186973</td>\n",
       "      <td>0.015993</td>\n",
       "      <td>0.000098</td>\n",
       "    </tr>\n",
       "    <tr>\n",
       "      <th>E4</th>\n",
       "      <td>2.345631e+09</td>\n",
       "      <td>3.804074e+08</td>\n",
       "      <td>-0.697723</td>\n",
       "      <td>0.007168</td>\n",
       "      <td>0.066308</td>\n",
       "      <td>0.054195</td>\n",
       "      <td>0.004034</td>\n",
       "      <td>0.085164</td>\n",
       "      <td>0.002431</td>\n",
       "    </tr>\n",
       "    <tr>\n",
       "      <th>E5</th>\n",
       "      <td>2.427882e+08</td>\n",
       "      <td>2.320502e+08</td>\n",
       "      <td>3.387862</td>\n",
       "      <td>0.008299</td>\n",
       "      <td>0.039189</td>\n",
       "      <td>0.005782</td>\n",
       "      <td>0.009434</td>\n",
       "      <td>0.051887</td>\n",
       "      <td>0.003478</td>\n",
       "    </tr>\n",
       "    <tr>\n",
       "      <th>...</th>\n",
       "      <td>...</td>\n",
       "      <td>...</td>\n",
       "      <td>...</td>\n",
       "      <td>...</td>\n",
       "      <td>...</td>\n",
       "      <td>...</td>\n",
       "      <td>...</td>\n",
       "      <td>...</td>\n",
       "      <td>...</td>\n",
       "    </tr>\n",
       "    <tr>\n",
       "      <th>E119</th>\n",
       "      <td>3.724200e+04</td>\n",
       "      <td>2.497973e+05</td>\n",
       "      <td>0.742524</td>\n",
       "      <td>0.003175</td>\n",
       "      <td>0.003175</td>\n",
       "      <td>0.010523</td>\n",
       "      <td>0.000000</td>\n",
       "      <td>0.142857</td>\n",
       "      <td>0.300803</td>\n",
       "    </tr>\n",
       "    <tr>\n",
       "      <th>E120</th>\n",
       "      <td>1.963934e+05</td>\n",
       "      <td>3.019634e+04</td>\n",
       "      <td>-0.006829</td>\n",
       "      <td>0.000000</td>\n",
       "      <td>0.027778</td>\n",
       "      <td>0.514409</td>\n",
       "      <td>0.000000</td>\n",
       "      <td>0.689655</td>\n",
       "      <td>0.254766</td>\n",
       "    </tr>\n",
       "    <tr>\n",
       "      <th>E121</th>\n",
       "      <td>1.177928e+05</td>\n",
       "      <td>1.251120e+06</td>\n",
       "      <td>-0.182112</td>\n",
       "      <td>0.020000</td>\n",
       "      <td>0.000000</td>\n",
       "      <td>0.030124</td>\n",
       "      <td>0.000000</td>\n",
       "      <td>0.123656</td>\n",
       "      <td>0.007841</td>\n",
       "    </tr>\n",
       "    <tr>\n",
       "      <th>E122</th>\n",
       "      <td>8.748906e+04</td>\n",
       "      <td>5.470826e+04</td>\n",
       "      <td>-0.624792</td>\n",
       "      <td>0.020833</td>\n",
       "      <td>0.020833</td>\n",
       "      <td>0.155568</td>\n",
       "      <td>0.067797</td>\n",
       "      <td>0.135593</td>\n",
       "      <td>0.067094</td>\n",
       "    </tr>\n",
       "    <tr>\n",
       "      <th>E123</th>\n",
       "      <td>2.671682e+05</td>\n",
       "      <td>8.400000e+02</td>\n",
       "      <td>0.218960</td>\n",
       "      <td>0.000000</td>\n",
       "      <td>0.000000</td>\n",
       "      <td>1.000000</td>\n",
       "      <td>0.000000</td>\n",
       "      <td>0.492308</td>\n",
       "      <td>0.275723</td>\n",
       "    </tr>\n",
       "  </tbody>\n",
       "</table>\n",
       "<p>123 rows × 9 columns</p>\n",
       "</div>"
      ],
      "text/plain": [
       "              销售收入          进货支出    收入进步因子  进项负数发票占比  进项作废发票占比   供方市场集中度  \\\n",
       "企业代号                                                                       \n",
       "E1    4.798812e+09  6.892694e+09  0.317295  0.020634  0.055798  0.000037   \n",
       "E2    6.947082e+08  1.717365e+08  0.420467  0.004851  0.022422  0.096395   \n",
       "E3    6.827398e+08  5.752084e+07 -0.283420  0.005701  0.042535  0.004624   \n",
       "E4    2.345631e+09  3.804074e+08 -0.697723  0.007168  0.066308  0.054195   \n",
       "E5    2.427882e+08  2.320502e+08  3.387862  0.008299  0.039189  0.005782   \n",
       "...            ...           ...       ...       ...       ...       ...   \n",
       "E119  3.724200e+04  2.497973e+05  0.742524  0.003175  0.003175  0.010523   \n",
       "E120  1.963934e+05  3.019634e+04 -0.006829  0.000000  0.027778  0.514409   \n",
       "E121  1.177928e+05  1.251120e+06 -0.182112  0.020000  0.000000  0.030124   \n",
       "E122  8.748906e+04  5.470826e+04 -0.624792  0.020833  0.020833  0.155568   \n",
       "E123  2.671682e+05  8.400000e+02  0.218960  0.000000  0.000000  1.000000   \n",
       "\n",
       "      销项负数发票占比  销项作废发票占比   需方市场集中度  \n",
       "企业代号                                \n",
       "E1    0.028237  0.027620  0.000086  \n",
       "E2    0.028331  0.082002  0.580404  \n",
       "E3    0.186973  0.015993  0.000098  \n",
       "E4    0.004034  0.085164  0.002431  \n",
       "E5    0.009434  0.051887  0.003478  \n",
       "...        ...       ...       ...  \n",
       "E119  0.000000  0.142857  0.300803  \n",
       "E120  0.000000  0.689655  0.254766  \n",
       "E121  0.000000  0.123656  0.007841  \n",
       "E122  0.067797  0.135593  0.067094  \n",
       "E123  0.000000  0.492308  0.275723  \n",
       "\n",
       "[123 rows x 9 columns]"
      ]
     },
     "execution_count": 135,
     "metadata": {},
     "output_type": "execute_result"
    }
   ],
   "source": [
    "indic_1 = pd.DataFrame(data=np.array(indicators),\n",
    "                       columns=[\n",
    "                           '销售收入', '进货支出', '收入进步因子', '进项负数发票占比',\n",
    "                           '进项作废发票占比', '供方市场集中度', '销项负数发票占比',\n",
    "                           '销项作废发票占比', '需方市场集中度'\n",
    "                       ],index=names)\n",
    "indic_1"
   ]
  },
  {
   "cell_type": "code",
   "execution_count": 137,
   "id": "745fdcd5",
   "metadata": {
    "ExecuteTime": {
     "end_time": "2021-08-31T06:30:16.310010Z",
     "start_time": "2021-08-31T06:30:16.257131Z"
    }
   },
   "outputs": [],
   "source": [
    "indic_1.reset_index().to_excel('附件1的指标数据.xlsx',index=False)"
   ]
  },
  {
   "cell_type": "raw",
   "id": "c1765ab9",
   "metadata": {},
   "source": [
    "实力\n",
    "销售收入【价税合计】\n",
    "进货支出【价税合计】\n",
    "销售额的进步因子\n",
    "年平均增长率\n",
    "供求关系\n",
    "进项\n",
    "负数发票占比\n",
    "作废发票占比\n",
    "销方单位单号数量\n",
    "供/需客户集中度\n",
    "赫芬达尔指数(Herfindahl Index)的计算方法如下:\n",
    "1、取得竞争对手的市场占有率，可忽略过小的竞争对手。\n",
    "2、将市场占有率平方。\n",
    "3、将这些平方值加总。\n",
    "销项\n",
    "负数发票占比\n",
    "作废发票占比\n",
    "购方单位单号数量\n",
    "集中度\n",
    "信誉\n",
    "信贷评级\n",
    "是否违约"
   ]
  },
  {
   "cell_type": "markdown",
   "id": "6378518d",
   "metadata": {},
   "source": [
    "# 附件2"
   ]
  },
  {
   "cell_type": "code",
   "execution_count": 109,
   "id": "57966d70",
   "metadata": {
    "ExecuteTime": {
     "end_time": "2021-08-31T05:28:37.208941Z",
     "start_time": "2021-08-31T05:28:35.310865Z"
    }
   },
   "outputs": [
    {
     "name": "stdout",
     "output_type": "stream",
     "text": [
      "<class 'pandas.core.frame.DataFrame'>\n",
      "RangeIndex: 302 entries, 0 to 301\n",
      "Data columns (total 2 columns):\n",
      " #   Column  Non-Null Count  Dtype \n",
      "---  ------  --------------  ----- \n",
      " 0   企业代号    302 non-null    object\n",
      " 1   企业名称    302 non-null    object\n",
      "dtypes: object(2)\n",
      "memory usage: 4.8+ KB\n"
     ]
    }
   ],
   "source": [
    "a21=pd.read_excel('附件2：302家无信贷记录企业的相关数据.xlsx',sheet_name='企业信息')\n",
    "a21.info()"
   ]
  },
  {
   "cell_type": "code",
   "execution_count": 111,
   "id": "6365c1a6",
   "metadata": {
    "ExecuteTime": {
     "end_time": "2021-08-31T05:31:09.716381Z",
     "start_time": "2021-08-31T05:30:08.284344Z"
    }
   },
   "outputs": [
    {
     "name": "stdout",
     "output_type": "stream",
     "text": [
      "<class 'pandas.core.frame.DataFrame'>\n",
      "RangeIndex: 395175 entries, 0 to 395174\n",
      "Data columns (total 11 columns):\n",
      " #   Column       Non-Null Count   Dtype         \n",
      "---  ------       --------------   -----         \n",
      " 0   企业代号         395175 non-null  object        \n",
      " 1   发票号码         395175 non-null  int64         \n",
      " 2   开票日期         395175 non-null  datetime64[ns]\n",
      " 3   销方单位代号       395175 non-null  object        \n",
      " 4   金额           395175 non-null  float64       \n",
      " 5   税额           395175 non-null  float64       \n",
      " 6   价税合计         395175 non-null  float64       \n",
      " 7   发票状态         395175 non-null  object        \n",
      " 8   Unnamed: 8   0 non-null       float64       \n",
      " 9   Unnamed: 9   0 non-null       float64       \n",
      " 10  Unnamed: 10  0 non-null       float64       \n",
      "dtypes: datetime64[ns](1), float64(6), int64(1), object(3)\n",
      "memory usage: 33.2+ MB\n"
     ]
    }
   ],
   "source": [
    "a22=pd.read_excel('附件2：302家无信贷记录企业的相关数据.xlsx',sheet_name='进项发票信息')\n",
    "a22.info()"
   ]
  },
  {
   "cell_type": "code",
   "execution_count": 110,
   "id": "a627d1f6",
   "metadata": {
    "ExecuteTime": {
     "end_time": "2021-08-31T05:30:02.840200Z",
     "start_time": "2021-08-31T05:29:11.853068Z"
    }
   },
   "outputs": [
    {
     "name": "stdout",
     "output_type": "stream",
     "text": [
      "<class 'pandas.core.frame.DataFrame'>\n",
      "RangeIndex: 330835 entries, 0 to 330834\n",
      "Data columns (total 8 columns):\n",
      " #   Column  Non-Null Count   Dtype         \n",
      "---  ------  --------------   -----         \n",
      " 0   企业代号    330835 non-null  object        \n",
      " 1   发票号码    330835 non-null  int64         \n",
      " 2   开票日期    330835 non-null  datetime64[ns]\n",
      " 3   购方单位代号  330835 non-null  object        \n",
      " 4   金额      330835 non-null  float64       \n",
      " 5   税额      330835 non-null  float64       \n",
      " 6   价税合计    330835 non-null  float64       \n",
      " 7   发票状态    330835 non-null  object        \n",
      "dtypes: datetime64[ns](1), float64(3), int64(1), object(3)\n",
      "memory usage: 20.2+ MB\n"
     ]
    }
   ],
   "source": [
    "a23=pd.read_excel('附件2：302家无信贷记录企业的相关数据.xlsx',sheet_name='销项发票信息')\n",
    "a23.info()"
   ]
  },
  {
   "cell_type": "code",
   "execution_count": 114,
   "id": "35efdd7e",
   "metadata": {
    "ExecuteTime": {
     "end_time": "2021-08-31T05:32:10.825545Z",
     "start_time": "2021-08-31T05:32:10.816569Z"
    }
   },
   "outputs": [
    {
     "data": {
      "text/plain": [
       "0      E124\n",
       "1      E125\n",
       "2      E126\n",
       "3      E127\n",
       "4      E128\n",
       "       ... \n",
       "297    E421\n",
       "298    E422\n",
       "299    E423\n",
       "300    E424\n",
       "301    E425\n",
       "Name: 企业代号, Length: 302, dtype: object"
      ]
     },
     "execution_count": 114,
     "metadata": {},
     "output_type": "execute_result"
    }
   ],
   "source": [
    "names_2=a21.iloc[:,0]\n",
    "names_2"
   ]
  },
  {
   "cell_type": "code",
   "execution_count": 138,
   "id": "d6b3258d",
   "metadata": {
    "ExecuteTime": {
     "end_time": "2021-08-31T06:32:39.287243Z",
     "start_time": "2021-08-31T06:30:58.757589Z"
    }
   },
   "outputs": [],
   "source": [
    "indicators_2 = []\n",
    "for name in names_2:\n",
    "#     print(name)\n",
    "    df_purchase = a22[a22.iloc[:, 0] == name]\n",
    "    df_sale = a23[a23.iloc[:, 0] == name]\n",
    "#     print(df_purchase)\n",
    "    expense, in_nega_ratio, in_void_ratio, in_HHI = calculate_purchase(\n",
    "        df=df_purchase)\n",
    "    income, out_nega_ratio, out_void_ratio, out_HHI, avg_growth = calculate_sale(\n",
    "        df=df_sale)\n",
    "    indicators_2.append(\n",
    "        (income, expense, avg_growth, in_nega_ratio, in_void_ratio, in_HHI,\n",
    "          out_nega_ratio, out_void_ratio, out_HHI))"
   ]
  },
  {
   "cell_type": "code",
   "execution_count": 139,
   "id": "78d2e250",
   "metadata": {
    "ExecuteTime": {
     "end_time": "2021-08-31T06:32:39.456502Z",
     "start_time": "2021-08-31T06:32:39.447538Z"
    }
   },
   "outputs": [
    {
     "data": {
      "text/plain": [
       "array([[ 9.65061608e+08,  9.92181263e+08,  9.32401768e-01, ...,\n",
       "         3.24825986e-02,  1.50038670e-01,  4.45873397e-01],\n",
       "       [ 1.19510501e+09,  1.17781323e+09,  6.34387858e-01, ...,\n",
       "         2.69592476e-02,  1.34796238e-01,  4.35199748e-01],\n",
       "       [ 6.50309040e+08,  1.34006341e+08,  6.24978453e-01, ...,\n",
       "         2.11081794e-02,  1.66226913e-01,  4.43755230e-03],\n",
       "       ...,\n",
       "       [ 8.07400000e+04,  6.90517000e+04, -1.85617786e-01, ...,\n",
       "         0.00000000e+00,  1.42857143e-01,  2.44979972e-01],\n",
       "       [ 9.06856100e+04,  2.71999390e+05,  5.40729891e-01, ...,\n",
       "         4.65116279e-02,  1.39534884e-01,  5.60578299e-01],\n",
       "       [ 1.57152000e+05,  6.47602400e+04, -8.94479149e-01, ...,\n",
       "         0.00000000e+00,  4.44444444e-01,  5.22925836e-01]])"
      ]
     },
     "execution_count": 139,
     "metadata": {},
     "output_type": "execute_result"
    }
   ],
   "source": [
    "np.array(indicators_2)"
   ]
  },
  {
   "cell_type": "code",
   "execution_count": 140,
   "id": "8d06d42b",
   "metadata": {
    "ExecuteTime": {
     "end_time": "2021-08-31T06:32:39.650982Z",
     "start_time": "2021-08-31T06:32:39.623056Z"
    }
   },
   "outputs": [
    {
     "data": {
      "text/html": [
       "<div>\n",
       "<style scoped>\n",
       "    .dataframe tbody tr th:only-of-type {\n",
       "        vertical-align: middle;\n",
       "    }\n",
       "\n",
       "    .dataframe tbody tr th {\n",
       "        vertical-align: top;\n",
       "    }\n",
       "\n",
       "    .dataframe thead th {\n",
       "        text-align: right;\n",
       "    }\n",
       "</style>\n",
       "<table border=\"1\" class=\"dataframe\">\n",
       "  <thead>\n",
       "    <tr style=\"text-align: right;\">\n",
       "      <th></th>\n",
       "      <th>企业代号</th>\n",
       "      <th>销售收入</th>\n",
       "      <th>进货支出</th>\n",
       "      <th>收入进步因子</th>\n",
       "      <th>进项负数发票占比</th>\n",
       "      <th>进项作废发票占比</th>\n",
       "      <th>供方市场集中度</th>\n",
       "      <th>销项负数发票占比</th>\n",
       "      <th>销项作废发票占比</th>\n",
       "      <th>需方市场集中度</th>\n",
       "    </tr>\n",
       "  </thead>\n",
       "  <tbody>\n",
       "    <tr>\n",
       "      <th>0</th>\n",
       "      <td>E124</td>\n",
       "      <td>9.650616e+08</td>\n",
       "      <td>9.921813e+08</td>\n",
       "      <td>0.932402</td>\n",
       "      <td>0.019872</td>\n",
       "      <td>0.123313</td>\n",
       "      <td>0.046468</td>\n",
       "      <td>0.032483</td>\n",
       "      <td>0.150039</td>\n",
       "      <td>0.445873</td>\n",
       "    </tr>\n",
       "    <tr>\n",
       "      <th>1</th>\n",
       "      <td>E125</td>\n",
       "      <td>1.195105e+09</td>\n",
       "      <td>1.177813e+09</td>\n",
       "      <td>0.634388</td>\n",
       "      <td>0.020012</td>\n",
       "      <td>0.123817</td>\n",
       "      <td>0.048499</td>\n",
       "      <td>0.026959</td>\n",
       "      <td>0.134796</td>\n",
       "      <td>0.435200</td>\n",
       "    </tr>\n",
       "    <tr>\n",
       "      <th>2</th>\n",
       "      <td>E126</td>\n",
       "      <td>6.503090e+08</td>\n",
       "      <td>1.340063e+08</td>\n",
       "      <td>0.624978</td>\n",
       "      <td>0.005629</td>\n",
       "      <td>0.033771</td>\n",
       "      <td>0.021882</td>\n",
       "      <td>0.021108</td>\n",
       "      <td>0.166227</td>\n",
       "      <td>0.004438</td>\n",
       "    </tr>\n",
       "    <tr>\n",
       "      <th>3</th>\n",
       "      <td>E127</td>\n",
       "      <td>7.177467e+08</td>\n",
       "      <td>1.854773e+06</td>\n",
       "      <td>-0.175062</td>\n",
       "      <td>0.001379</td>\n",
       "      <td>0.017931</td>\n",
       "      <td>0.043578</td>\n",
       "      <td>0.000994</td>\n",
       "      <td>0.030303</td>\n",
       "      <td>0.154513</td>\n",
       "    </tr>\n",
       "    <tr>\n",
       "      <th>4</th>\n",
       "      <td>E128</td>\n",
       "      <td>2.646424e+08</td>\n",
       "      <td>1.078804e+07</td>\n",
       "      <td>0.714585</td>\n",
       "      <td>0.004966</td>\n",
       "      <td>0.027312</td>\n",
       "      <td>0.021689</td>\n",
       "      <td>0.000000</td>\n",
       "      <td>0.074900</td>\n",
       "      <td>0.099632</td>\n",
       "    </tr>\n",
       "    <tr>\n",
       "      <th>...</th>\n",
       "      <td>...</td>\n",
       "      <td>...</td>\n",
       "      <td>...</td>\n",
       "      <td>...</td>\n",
       "      <td>...</td>\n",
       "      <td>...</td>\n",
       "      <td>...</td>\n",
       "      <td>...</td>\n",
       "      <td>...</td>\n",
       "      <td>...</td>\n",
       "    </tr>\n",
       "    <tr>\n",
       "      <th>297</th>\n",
       "      <td>E421</td>\n",
       "      <td>2.530718e+05</td>\n",
       "      <td>3.217000e+04</td>\n",
       "      <td>-0.404599</td>\n",
       "      <td>0.000000</td>\n",
       "      <td>0.000000</td>\n",
       "      <td>0.294128</td>\n",
       "      <td>0.000000</td>\n",
       "      <td>0.034483</td>\n",
       "      <td>0.220111</td>\n",
       "    </tr>\n",
       "    <tr>\n",
       "      <th>298</th>\n",
       "      <td>E422</td>\n",
       "      <td>2.920761e+04</td>\n",
       "      <td>9.600000e+02</td>\n",
       "      <td>4.738766</td>\n",
       "      <td>0.000000</td>\n",
       "      <td>0.000000</td>\n",
       "      <td>0.378472</td>\n",
       "      <td>0.000000</td>\n",
       "      <td>0.100000</td>\n",
       "      <td>0.109350</td>\n",
       "    </tr>\n",
       "    <tr>\n",
       "      <th>299</th>\n",
       "      <td>E423</td>\n",
       "      <td>8.074000e+04</td>\n",
       "      <td>6.905170e+04</td>\n",
       "      <td>-0.185618</td>\n",
       "      <td>0.047619</td>\n",
       "      <td>0.000000</td>\n",
       "      <td>0.129974</td>\n",
       "      <td>0.000000</td>\n",
       "      <td>0.142857</td>\n",
       "      <td>0.244980</td>\n",
       "    </tr>\n",
       "    <tr>\n",
       "      <th>300</th>\n",
       "      <td>E424</td>\n",
       "      <td>9.068561e+04</td>\n",
       "      <td>2.719994e+05</td>\n",
       "      <td>0.540730</td>\n",
       "      <td>0.000000</td>\n",
       "      <td>0.000000</td>\n",
       "      <td>0.122982</td>\n",
       "      <td>0.046512</td>\n",
       "      <td>0.139535</td>\n",
       "      <td>0.560578</td>\n",
       "    </tr>\n",
       "    <tr>\n",
       "      <th>301</th>\n",
       "      <td>E425</td>\n",
       "      <td>1.571520e+05</td>\n",
       "      <td>6.476024e+04</td>\n",
       "      <td>-0.894479</td>\n",
       "      <td>0.025424</td>\n",
       "      <td>0.016949</td>\n",
       "      <td>0.046474</td>\n",
       "      <td>0.000000</td>\n",
       "      <td>0.444444</td>\n",
       "      <td>0.522926</td>\n",
       "    </tr>\n",
       "  </tbody>\n",
       "</table>\n",
       "<p>302 rows × 10 columns</p>\n",
       "</div>"
      ],
      "text/plain": [
       "     企业代号          销售收入          进货支出    收入进步因子  进项负数发票占比  进项作废发票占比   供方市场集中度  \\\n",
       "0    E124  9.650616e+08  9.921813e+08  0.932402  0.019872  0.123313  0.046468   \n",
       "1    E125  1.195105e+09  1.177813e+09  0.634388  0.020012  0.123817  0.048499   \n",
       "2    E126  6.503090e+08  1.340063e+08  0.624978  0.005629  0.033771  0.021882   \n",
       "3    E127  7.177467e+08  1.854773e+06 -0.175062  0.001379  0.017931  0.043578   \n",
       "4    E128  2.646424e+08  1.078804e+07  0.714585  0.004966  0.027312  0.021689   \n",
       "..    ...           ...           ...       ...       ...       ...       ...   \n",
       "297  E421  2.530718e+05  3.217000e+04 -0.404599  0.000000  0.000000  0.294128   \n",
       "298  E422  2.920761e+04  9.600000e+02  4.738766  0.000000  0.000000  0.378472   \n",
       "299  E423  8.074000e+04  6.905170e+04 -0.185618  0.047619  0.000000  0.129974   \n",
       "300  E424  9.068561e+04  2.719994e+05  0.540730  0.000000  0.000000  0.122982   \n",
       "301  E425  1.571520e+05  6.476024e+04 -0.894479  0.025424  0.016949  0.046474   \n",
       "\n",
       "     销项负数发票占比  销项作废发票占比   需方市场集中度  \n",
       "0    0.032483  0.150039  0.445873  \n",
       "1    0.026959  0.134796  0.435200  \n",
       "2    0.021108  0.166227  0.004438  \n",
       "3    0.000994  0.030303  0.154513  \n",
       "4    0.000000  0.074900  0.099632  \n",
       "..        ...       ...       ...  \n",
       "297  0.000000  0.034483  0.220111  \n",
       "298  0.000000  0.100000  0.109350  \n",
       "299  0.000000  0.142857  0.244980  \n",
       "300  0.046512  0.139535  0.560578  \n",
       "301  0.000000  0.444444  0.522926  \n",
       "\n",
       "[302 rows x 10 columns]"
      ]
     },
     "execution_count": 140,
     "metadata": {},
     "output_type": "execute_result"
    }
   ],
   "source": [
    "indic_2=pd.DataFrame(data=np.array(indicators_2),columns=[\n",
    "                           '销售收入', '进货支出', '收入进步因子', '进项负数发票占比',\n",
    "                           '进项作废发票占比', '供方市场集中度', '销项负数发票占比',\n",
    "                           '销项作废发票占比', '需方市场集中度'\n",
    "                       ],index=names_2)\n",
    "indic_2.reset_index()"
   ]
  },
  {
   "cell_type": "code",
   "execution_count": 142,
   "id": "90073ca0",
   "metadata": {
    "ExecuteTime": {
     "end_time": "2021-08-31T06:32:54.581515Z",
     "start_time": "2021-08-31T06:32:54.494452Z"
    }
   },
   "outputs": [],
   "source": [
    "indic_2.reset_index().to_excel('附件2的指标数据.xlsx',index=False)"
   ]
  },
  {
   "cell_type": "markdown",
   "id": "196d90fc",
   "metadata": {},
   "source": [
    "# 特征工程"
   ]
  },
  {
   "cell_type": "code",
   "execution_count": 143,
   "id": "860e9d20",
   "metadata": {
    "ExecuteTime": {
     "end_time": "2021-08-31T07:54:30.174881Z",
     "start_time": "2021-08-31T07:54:30.169933Z"
    }
   },
   "outputs": [],
   "source": [
    "from scipy.stats import zscore"
   ]
  },
  {
   "cell_type": "markdown",
   "id": "c70ce077",
   "metadata": {},
   "source": [
    "## 附件1"
   ]
  },
  {
   "cell_type": "code",
   "execution_count": 149,
   "id": "e94df416",
   "metadata": {
    "ExecuteTime": {
     "end_time": "2021-08-31T07:58:41.476854Z",
     "start_time": "2021-08-31T07:58:41.424923Z"
    }
   },
   "outputs": [
    {
     "data": {
      "text/html": [
       "<div>\n",
       "<style scoped>\n",
       "    .dataframe tbody tr th:only-of-type {\n",
       "        vertical-align: middle;\n",
       "    }\n",
       "\n",
       "    .dataframe tbody tr th {\n",
       "        vertical-align: top;\n",
       "    }\n",
       "\n",
       "    .dataframe thead th {\n",
       "        text-align: right;\n",
       "    }\n",
       "</style>\n",
       "<table border=\"1\" class=\"dataframe\">\n",
       "  <thead>\n",
       "    <tr style=\"text-align: right;\">\n",
       "      <th></th>\n",
       "      <th>销售收入</th>\n",
       "      <th>进货支出</th>\n",
       "      <th>收入进步因子</th>\n",
       "      <th>进项负数发票占比</th>\n",
       "      <th>进项作废发票占比</th>\n",
       "      <th>供方市场集中度</th>\n",
       "      <th>销项负数发票占比</th>\n",
       "      <th>销项作废发票占比</th>\n",
       "      <th>需方市场集中度</th>\n",
       "    </tr>\n",
       "  </thead>\n",
       "  <tbody>\n",
       "    <tr>\n",
       "      <th>count</th>\n",
       "      <td>1.230000e+02</td>\n",
       "      <td>1.230000e+02</td>\n",
       "      <td>123.000000</td>\n",
       "      <td>123.000000</td>\n",
       "      <td>123.000000</td>\n",
       "      <td>123.000000</td>\n",
       "      <td>123.000000</td>\n",
       "      <td>123.000000</td>\n",
       "      <td>123.000000</td>\n",
       "    </tr>\n",
       "    <tr>\n",
       "      <th>mean</th>\n",
       "      <td>1.293574e+08</td>\n",
       "      <td>9.072231e+07</td>\n",
       "      <td>0.842140</td>\n",
       "      <td>0.006697</td>\n",
       "      <td>0.027820</td>\n",
       "      <td>0.179136</td>\n",
       "      <td>0.022813</td>\n",
       "      <td>0.119792</td>\n",
       "      <td>0.185135</td>\n",
       "    </tr>\n",
       "    <tr>\n",
       "      <th>std</th>\n",
       "      <td>4.899058e+08</td>\n",
       "      <td>6.220704e+08</td>\n",
       "      <td>2.120523</td>\n",
       "      <td>0.013146</td>\n",
       "      <td>0.026566</td>\n",
       "      <td>0.263477</td>\n",
       "      <td>0.041853</td>\n",
       "      <td>0.108207</td>\n",
       "      <td>0.240570</td>\n",
       "    </tr>\n",
       "    <tr>\n",
       "      <th>min</th>\n",
       "      <td>3.724200e+04</td>\n",
       "      <td>2.800000e+02</td>\n",
       "      <td>-0.860197</td>\n",
       "      <td>0.000000</td>\n",
       "      <td>0.000000</td>\n",
       "      <td>0.000037</td>\n",
       "      <td>0.000000</td>\n",
       "      <td>0.000000</td>\n",
       "      <td>0.000043</td>\n",
       "    </tr>\n",
       "    <tr>\n",
       "      <th>25%</th>\n",
       "      <td>2.396493e+06</td>\n",
       "      <td>4.050674e+05</td>\n",
       "      <td>-0.085709</td>\n",
       "      <td>0.000000</td>\n",
       "      <td>0.005001</td>\n",
       "      <td>0.014435</td>\n",
       "      <td>0.000913</td>\n",
       "      <td>0.057321</td>\n",
       "      <td>0.015116</td>\n",
       "    </tr>\n",
       "    <tr>\n",
       "      <th>50%</th>\n",
       "      <td>1.275811e+07</td>\n",
       "      <td>3.708884e+06</td>\n",
       "      <td>0.295239</td>\n",
       "      <td>0.003448</td>\n",
       "      <td>0.021896</td>\n",
       "      <td>0.057434</td>\n",
       "      <td>0.010364</td>\n",
       "      <td>0.089796</td>\n",
       "      <td>0.068786</td>\n",
       "    </tr>\n",
       "    <tr>\n",
       "      <th>75%</th>\n",
       "      <td>5.855287e+07</td>\n",
       "      <td>3.604891e+07</td>\n",
       "      <td>0.832719</td>\n",
       "      <td>0.008520</td>\n",
       "      <td>0.041259</td>\n",
       "      <td>0.210795</td>\n",
       "      <td>0.023869</td>\n",
       "      <td>0.135978</td>\n",
       "      <td>0.265209</td>\n",
       "    </tr>\n",
       "    <tr>\n",
       "      <th>max</th>\n",
       "      <td>4.798812e+09</td>\n",
       "      <td>6.892694e+09</td>\n",
       "      <td>14.400469</td>\n",
       "      <td>0.128205</td>\n",
       "      <td>0.128205</td>\n",
       "      <td>1.000000</td>\n",
       "      <td>0.272727</td>\n",
       "      <td>0.689655</td>\n",
       "      <td>1.009232</td>\n",
       "    </tr>\n",
       "  </tbody>\n",
       "</table>\n",
       "</div>"
      ],
      "text/plain": [
       "               销售收入          进货支出      收入进步因子    进项负数发票占比    进项作废发票占比  \\\n",
       "count  1.230000e+02  1.230000e+02  123.000000  123.000000  123.000000   \n",
       "mean   1.293574e+08  9.072231e+07    0.842140    0.006697    0.027820   \n",
       "std    4.899058e+08  6.220704e+08    2.120523    0.013146    0.026566   \n",
       "min    3.724200e+04  2.800000e+02   -0.860197    0.000000    0.000000   \n",
       "25%    2.396493e+06  4.050674e+05   -0.085709    0.000000    0.005001   \n",
       "50%    1.275811e+07  3.708884e+06    0.295239    0.003448    0.021896   \n",
       "75%    5.855287e+07  3.604891e+07    0.832719    0.008520    0.041259   \n",
       "max    4.798812e+09  6.892694e+09   14.400469    0.128205    0.128205   \n",
       "\n",
       "          供方市场集中度    销项负数发票占比    销项作废发票占比     需方市场集中度  \n",
       "count  123.000000  123.000000  123.000000  123.000000  \n",
       "mean     0.179136    0.022813    0.119792    0.185135  \n",
       "std      0.263477    0.041853    0.108207    0.240570  \n",
       "min      0.000037    0.000000    0.000000    0.000043  \n",
       "25%      0.014435    0.000913    0.057321    0.015116  \n",
       "50%      0.057434    0.010364    0.089796    0.068786  \n",
       "75%      0.210795    0.023869    0.135978    0.265209  \n",
       "max      1.000000    0.272727    0.689655    1.009232  "
      ]
     },
     "execution_count": 149,
     "metadata": {},
     "output_type": "execute_result"
    }
   ],
   "source": [
    "indic_1.describe()"
   ]
  },
  {
   "cell_type": "code",
   "execution_count": 147,
   "id": "3d14bfd2",
   "metadata": {
    "ExecuteTime": {
     "end_time": "2021-08-31T07:57:38.704945Z",
     "start_time": "2021-08-31T07:57:38.680060Z"
    }
   },
   "outputs": [
    {
     "data": {
      "text/html": [
       "<div>\n",
       "<style scoped>\n",
       "    .dataframe tbody tr th:only-of-type {\n",
       "        vertical-align: middle;\n",
       "    }\n",
       "\n",
       "    .dataframe tbody tr th {\n",
       "        vertical-align: top;\n",
       "    }\n",
       "\n",
       "    .dataframe thead th {\n",
       "        text-align: right;\n",
       "    }\n",
       "</style>\n",
       "<table border=\"1\" class=\"dataframe\">\n",
       "  <thead>\n",
       "    <tr style=\"text-align: right;\">\n",
       "      <th></th>\n",
       "      <th>销售收入</th>\n",
       "      <th>进货支出</th>\n",
       "      <th>收入进步因子</th>\n",
       "      <th>进项负数发票占比</th>\n",
       "      <th>进项作废发票占比</th>\n",
       "      <th>供方市场集中度</th>\n",
       "      <th>销项负数发票占比</th>\n",
       "      <th>销项作废发票占比</th>\n",
       "      <th>需方市场集中度</th>\n",
       "    </tr>\n",
       "    <tr>\n",
       "      <th>企业代号</th>\n",
       "      <th></th>\n",
       "      <th></th>\n",
       "      <th></th>\n",
       "      <th></th>\n",
       "      <th></th>\n",
       "      <th></th>\n",
       "      <th></th>\n",
       "      <th></th>\n",
       "      <th></th>\n",
       "    </tr>\n",
       "  </thead>\n",
       "  <tbody>\n",
       "    <tr>\n",
       "      <th>E1</th>\n",
       "      <td>9.570315</td>\n",
       "      <td>10.979130</td>\n",
       "      <td>-0.248520</td>\n",
       "      <td>1.064436</td>\n",
       "      <td>1.057429</td>\n",
       "      <td>-0.682533</td>\n",
       "      <td>0.130129</td>\n",
       "      <td>-0.855291</td>\n",
       "      <td>-0.772359</td>\n",
       "    </tr>\n",
       "    <tr>\n",
       "      <th>E2</th>\n",
       "      <td>1.158719</td>\n",
       "      <td>0.130766</td>\n",
       "      <td>-0.199667</td>\n",
       "      <td>-0.141002</td>\n",
       "      <td>-0.204031</td>\n",
       "      <td>-0.315321</td>\n",
       "      <td>0.132387</td>\n",
       "      <td>-0.350663</td>\n",
       "      <td>1.649774</td>\n",
       "    </tr>\n",
       "    <tr>\n",
       "      <th>E3</th>\n",
       "      <td>1.134189</td>\n",
       "      <td>-0.053591</td>\n",
       "      <td>-0.532965</td>\n",
       "      <td>-0.076144</td>\n",
       "      <td>0.556137</td>\n",
       "      <td>-0.665053</td>\n",
       "      <td>3.938355</td>\n",
       "      <td>-0.963183</td>\n",
       "      <td>-0.772307</td>\n",
       "    </tr>\n",
       "    <tr>\n",
       "      <th>E4</th>\n",
       "      <td>4.542379</td>\n",
       "      <td>0.467584</td>\n",
       "      <td>-0.729142</td>\n",
       "      <td>0.035978</td>\n",
       "      <td>1.454680</td>\n",
       "      <td>-0.476139</td>\n",
       "      <td>-0.450515</td>\n",
       "      <td>-0.321326</td>\n",
       "      <td>-0.762571</td>\n",
       "    </tr>\n",
       "    <tr>\n",
       "      <th>E5</th>\n",
       "      <td>0.232483</td>\n",
       "      <td>0.228119</td>\n",
       "      <td>1.205426</td>\n",
       "      <td>0.122309</td>\n",
       "      <td>0.429674</td>\n",
       "      <td>-0.660637</td>\n",
       "      <td>-0.320966</td>\n",
       "      <td>-0.630113</td>\n",
       "      <td>-0.758200</td>\n",
       "    </tr>\n",
       "    <tr>\n",
       "      <th>...</th>\n",
       "      <td>...</td>\n",
       "      <td>...</td>\n",
       "      <td>...</td>\n",
       "      <td>...</td>\n",
       "      <td>...</td>\n",
       "      <td>...</td>\n",
       "      <td>...</td>\n",
       "      <td>...</td>\n",
       "      <td>...</td>\n",
       "    </tr>\n",
       "    <tr>\n",
       "      <th>E119</th>\n",
       "      <td>-0.265049</td>\n",
       "      <td>-0.146033</td>\n",
       "      <td>-0.047169</td>\n",
       "      <td>-0.269072</td>\n",
       "      <td>-0.931496</td>\n",
       "      <td>-0.642570</td>\n",
       "      <td>-0.547296</td>\n",
       "      <td>0.214032</td>\n",
       "      <td>0.482772</td>\n",
       "    </tr>\n",
       "    <tr>\n",
       "      <th>E120</th>\n",
       "      <td>-0.264723</td>\n",
       "      <td>-0.146387</td>\n",
       "      <td>-0.401996</td>\n",
       "      <td>-0.511547</td>\n",
       "      <td>-0.001604</td>\n",
       "      <td>1.277696</td>\n",
       "      <td>-0.547296</td>\n",
       "      <td>5.287957</td>\n",
       "      <td>0.290624</td>\n",
       "    </tr>\n",
       "    <tr>\n",
       "      <th>E121</th>\n",
       "      <td>-0.264884</td>\n",
       "      <td>-0.144416</td>\n",
       "      <td>-0.484994</td>\n",
       "      <td>1.016047</td>\n",
       "      <td>-1.051483</td>\n",
       "      <td>-0.567873</td>\n",
       "      <td>-0.547296</td>\n",
       "      <td>0.035857</td>\n",
       "      <td>-0.739993</td>\n",
       "    </tr>\n",
       "    <tr>\n",
       "      <th>E122</th>\n",
       "      <td>-0.264946</td>\n",
       "      <td>-0.146347</td>\n",
       "      <td>-0.694608</td>\n",
       "      <td>1.079697</td>\n",
       "      <td>-0.264073</td>\n",
       "      <td>-0.089815</td>\n",
       "      <td>1.079207</td>\n",
       "      <td>0.146628</td>\n",
       "      <td>-0.492681</td>\n",
       "    </tr>\n",
       "    <tr>\n",
       "      <th>E123</th>\n",
       "      <td>-0.264578</td>\n",
       "      <td>-0.146434</td>\n",
       "      <td>-0.295083</td>\n",
       "      <td>-0.511547</td>\n",
       "      <td>-1.051483</td>\n",
       "      <td>3.128242</td>\n",
       "      <td>-0.547296</td>\n",
       "      <td>3.456703</td>\n",
       "      <td>0.378095</td>\n",
       "    </tr>\n",
       "  </tbody>\n",
       "</table>\n",
       "<p>123 rows × 9 columns</p>\n",
       "</div>"
      ],
      "text/plain": [
       "          销售收入       进货支出    收入进步因子  进项负数发票占比  进项作废发票占比   供方市场集中度  销项负数发票占比  \\\n",
       "企业代号                                                                          \n",
       "E1    9.570315  10.979130 -0.248520  1.064436  1.057429 -0.682533  0.130129   \n",
       "E2    1.158719   0.130766 -0.199667 -0.141002 -0.204031 -0.315321  0.132387   \n",
       "E3    1.134189  -0.053591 -0.532965 -0.076144  0.556137 -0.665053  3.938355   \n",
       "E4    4.542379   0.467584 -0.729142  0.035978  1.454680 -0.476139 -0.450515   \n",
       "E5    0.232483   0.228119  1.205426  0.122309  0.429674 -0.660637 -0.320966   \n",
       "...        ...        ...       ...       ...       ...       ...       ...   \n",
       "E119 -0.265049  -0.146033 -0.047169 -0.269072 -0.931496 -0.642570 -0.547296   \n",
       "E120 -0.264723  -0.146387 -0.401996 -0.511547 -0.001604  1.277696 -0.547296   \n",
       "E121 -0.264884  -0.144416 -0.484994  1.016047 -1.051483 -0.567873 -0.547296   \n",
       "E122 -0.264946  -0.146347 -0.694608  1.079697 -0.264073 -0.089815  1.079207   \n",
       "E123 -0.264578  -0.146434 -0.295083 -0.511547 -1.051483  3.128242 -0.547296   \n",
       "\n",
       "      销项作废发票占比   需方市场集中度  \n",
       "企业代号                      \n",
       "E1   -0.855291 -0.772359  \n",
       "E2   -0.350663  1.649774  \n",
       "E3   -0.963183 -0.772307  \n",
       "E4   -0.321326 -0.762571  \n",
       "E5   -0.630113 -0.758200  \n",
       "...        ...       ...  \n",
       "E119  0.214032  0.482772  \n",
       "E120  5.287957  0.290624  \n",
       "E121  0.035857 -0.739993  \n",
       "E122  0.146628 -0.492681  \n",
       "E123  3.456703  0.378095  \n",
       "\n",
       "[123 rows x 9 columns]"
      ]
     },
     "execution_count": 147,
     "metadata": {},
     "output_type": "execute_result"
    }
   ],
   "source": [
    "z_1=zscore(indic_1)\n",
    "z_1=pd.DataFrame(data=z_1,\n",
    "                       columns=[\n",
    "                           '销售收入', '进货支出', '收入进步因子', '进项负数发票占比',\n",
    "                           '进项作废发票占比', '供方市场集中度', '销项负数发票占比',\n",
    "                           '销项作废发票占比', '需方市场集中度'\n",
    "                       ],index=names)\n",
    "z_1"
   ]
  },
  {
   "cell_type": "code",
   "execution_count": 148,
   "id": "3c7428ef",
   "metadata": {
    "ExecuteTime": {
     "end_time": "2021-08-31T07:57:56.322227Z",
     "start_time": "2021-08-31T07:57:56.276350Z"
    }
   },
   "outputs": [
    {
     "data": {
      "text/html": [
       "<div>\n",
       "<style scoped>\n",
       "    .dataframe tbody tr th:only-of-type {\n",
       "        vertical-align: middle;\n",
       "    }\n",
       "\n",
       "    .dataframe tbody tr th {\n",
       "        vertical-align: top;\n",
       "    }\n",
       "\n",
       "    .dataframe thead th {\n",
       "        text-align: right;\n",
       "    }\n",
       "</style>\n",
       "<table border=\"1\" class=\"dataframe\">\n",
       "  <thead>\n",
       "    <tr style=\"text-align: right;\">\n",
       "      <th></th>\n",
       "      <th>销售收入</th>\n",
       "      <th>进货支出</th>\n",
       "      <th>收入进步因子</th>\n",
       "      <th>进项负数发票占比</th>\n",
       "      <th>进项作废发票占比</th>\n",
       "      <th>供方市场集中度</th>\n",
       "      <th>销项负数发票占比</th>\n",
       "      <th>销项作废发票占比</th>\n",
       "      <th>需方市场集中度</th>\n",
       "    </tr>\n",
       "  </thead>\n",
       "  <tbody>\n",
       "    <tr>\n",
       "      <th>count</th>\n",
       "      <td>1.230000e+02</td>\n",
       "      <td>1.230000e+02</td>\n",
       "      <td>1.230000e+02</td>\n",
       "      <td>1.230000e+02</td>\n",
       "      <td>1.230000e+02</td>\n",
       "      <td>1.230000e+02</td>\n",
       "      <td>1.230000e+02</td>\n",
       "      <td>1.230000e+02</td>\n",
       "      <td>1.230000e+02</td>\n",
       "    </tr>\n",
       "    <tr>\n",
       "      <th>mean</th>\n",
       "      <td>2.437075e-17</td>\n",
       "      <td>5.348026e-17</td>\n",
       "      <td>-2.405483e-16</td>\n",
       "      <td>1.624717e-17</td>\n",
       "      <td>-1.263668e-16</td>\n",
       "      <td>2.057974e-16</td>\n",
       "      <td>8.304107e-17</td>\n",
       "      <td>5.271303e-16</td>\n",
       "      <td>-4.093383e-16</td>\n",
       "    </tr>\n",
       "    <tr>\n",
       "      <th>std</th>\n",
       "      <td>1.004090e+00</td>\n",
       "      <td>1.004090e+00</td>\n",
       "      <td>1.004090e+00</td>\n",
       "      <td>1.004090e+00</td>\n",
       "      <td>1.004090e+00</td>\n",
       "      <td>1.004090e+00</td>\n",
       "      <td>1.004090e+00</td>\n",
       "      <td>1.004090e+00</td>\n",
       "      <td>1.004090e+00</td>\n",
       "    </tr>\n",
       "    <tr>\n",
       "      <th>min</th>\n",
       "      <td>-2.650491e-01</td>\n",
       "      <td>-1.464353e-01</td>\n",
       "      <td>-8.060749e-01</td>\n",
       "      <td>-5.115470e-01</td>\n",
       "      <td>-1.051483e+00</td>\n",
       "      <td>-6.825326e-01</td>\n",
       "      <td>-5.472957e-01</td>\n",
       "      <td>-1.111588e+00</td>\n",
       "      <td>-7.725391e-01</td>\n",
       "    </tr>\n",
       "    <tr>\n",
       "      <th>25%</th>\n",
       "      <td>-2.602137e-01</td>\n",
       "      <td>-1.457820e-01</td>\n",
       "      <td>-4.393465e-01</td>\n",
       "      <td>-5.115470e-01</td>\n",
       "      <td>-8.624535e-01</td>\n",
       "      <td>-6.276616e-01</td>\n",
       "      <td>-5.253929e-01</td>\n",
       "      <td>-5.796851e-01</td>\n",
       "      <td>-7.096281e-01</td>\n",
       "    </tr>\n",
       "    <tr>\n",
       "      <th>50%</th>\n",
       "      <td>-2.389770e-01</td>\n",
       "      <td>-1.404492e-01</td>\n",
       "      <td>-2.589636e-01</td>\n",
       "      <td>-2.481687e-01</td>\n",
       "      <td>-2.239051e-01</td>\n",
       "      <td>-4.637977e-01</td>\n",
       "      <td>-2.986504e-01</td>\n",
       "      <td>-2.783411e-01</td>\n",
       "      <td>-4.856165e-01</td>\n",
       "    </tr>\n",
       "    <tr>\n",
       "      <th>75%</th>\n",
       "      <td>-1.451180e-01</td>\n",
       "      <td>-8.824886e-02</td>\n",
       "      <td>-4.461064e-03</td>\n",
       "      <td>1.391936e-01</td>\n",
       "      <td>5.079406e-01</td>\n",
       "      <td>1.206491e-01</td>\n",
       "      <td>2.535333e-02</td>\n",
       "      <td>1.502021e-01</td>\n",
       "      <td>3.342104e-01</td>\n",
       "    </tr>\n",
       "    <tr>\n",
       "      <th>max</th>\n",
       "      <td>9.570315e+00</td>\n",
       "      <td>1.097913e+01</td>\n",
       "      <td>6.420012e+00</td>\n",
       "      <td>9.280722e+00</td>\n",
       "      <td>3.794112e+00</td>\n",
       "      <td>3.128242e+00</td>\n",
       "      <td>5.995679e+00</td>\n",
       "      <td>5.287957e+00</td>\n",
       "      <td>3.439617e+00</td>\n",
       "    </tr>\n",
       "  </tbody>\n",
       "</table>\n",
       "</div>"
      ],
      "text/plain": [
       "               销售收入          进货支出        收入进步因子      进项负数发票占比      进项作废发票占比  \\\n",
       "count  1.230000e+02  1.230000e+02  1.230000e+02  1.230000e+02  1.230000e+02   \n",
       "mean   2.437075e-17  5.348026e-17 -2.405483e-16  1.624717e-17 -1.263668e-16   \n",
       "std    1.004090e+00  1.004090e+00  1.004090e+00  1.004090e+00  1.004090e+00   \n",
       "min   -2.650491e-01 -1.464353e-01 -8.060749e-01 -5.115470e-01 -1.051483e+00   \n",
       "25%   -2.602137e-01 -1.457820e-01 -4.393465e-01 -5.115470e-01 -8.624535e-01   \n",
       "50%   -2.389770e-01 -1.404492e-01 -2.589636e-01 -2.481687e-01 -2.239051e-01   \n",
       "75%   -1.451180e-01 -8.824886e-02 -4.461064e-03  1.391936e-01  5.079406e-01   \n",
       "max    9.570315e+00  1.097913e+01  6.420012e+00  9.280722e+00  3.794112e+00   \n",
       "\n",
       "            供方市场集中度      销项负数发票占比      销项作废发票占比       需方市场集中度  \n",
       "count  1.230000e+02  1.230000e+02  1.230000e+02  1.230000e+02  \n",
       "mean   2.057974e-16  8.304107e-17  5.271303e-16 -4.093383e-16  \n",
       "std    1.004090e+00  1.004090e+00  1.004090e+00  1.004090e+00  \n",
       "min   -6.825326e-01 -5.472957e-01 -1.111588e+00 -7.725391e-01  \n",
       "25%   -6.276616e-01 -5.253929e-01 -5.796851e-01 -7.096281e-01  \n",
       "50%   -4.637977e-01 -2.986504e-01 -2.783411e-01 -4.856165e-01  \n",
       "75%    1.206491e-01  2.535333e-02  1.502021e-01  3.342104e-01  \n",
       "max    3.128242e+00  5.995679e+00  5.287957e+00  3.439617e+00  "
      ]
     },
     "execution_count": 148,
     "metadata": {},
     "output_type": "execute_result"
    }
   ],
   "source": [
    "z_1.describe()"
   ]
  },
  {
   "cell_type": "markdown",
   "id": "cf13f506",
   "metadata": {},
   "source": [
    "## 附件2"
   ]
  },
  {
   "cell_type": "code",
   "execution_count": 158,
   "id": "f8e06de3",
   "metadata": {
    "ExecuteTime": {
     "end_time": "2021-08-31T08:04:27.981825Z",
     "start_time": "2021-08-31T08:04:27.957880Z"
    }
   },
   "outputs": [
    {
     "name": "stdout",
     "output_type": "stream",
     "text": [
      "<class 'pandas.core.frame.DataFrame'>\n",
      "Index: 302 entries, E124 to E425\n",
      "Data columns (total 9 columns):\n",
      " #   Column    Non-Null Count  Dtype  \n",
      "---  ------    --------------  -----  \n",
      " 0   销售收入      302 non-null    float64\n",
      " 1   进货支出      302 non-null    float64\n",
      " 2   收入进步因子    301 non-null    float64\n",
      " 3   进项负数发票占比  302 non-null    float64\n",
      " 4   进项作废发票占比  302 non-null    float64\n",
      " 5   供方市场集中度   302 non-null    float64\n",
      " 6   销项负数发票占比  302 non-null    float64\n",
      " 7   销项作废发票占比  302 non-null    float64\n",
      " 8   需方市场集中度   302 non-null    float64\n",
      "dtypes: float64(9)\n",
      "memory usage: 31.7+ KB\n"
     ]
    }
   ],
   "source": [
    "indic_2.info()"
   ]
  },
  {
   "cell_type": "code",
   "execution_count": 456,
   "id": "e4ecfdc6",
   "metadata": {
    "ExecuteTime": {
     "end_time": "2021-09-01T01:15:52.248834Z",
     "start_time": "2021-09-01T01:15:52.204955Z"
    }
   },
   "outputs": [
    {
     "data": {
      "text/html": [
       "<div>\n",
       "<style scoped>\n",
       "    .dataframe tbody tr th:only-of-type {\n",
       "        vertical-align: middle;\n",
       "    }\n",
       "\n",
       "    .dataframe tbody tr th {\n",
       "        vertical-align: top;\n",
       "    }\n",
       "\n",
       "    .dataframe thead th {\n",
       "        text-align: right;\n",
       "    }\n",
       "</style>\n",
       "<table border=\"1\" class=\"dataframe\">\n",
       "  <thead>\n",
       "    <tr style=\"text-align: right;\">\n",
       "      <th></th>\n",
       "      <th>销售收入</th>\n",
       "      <th>进货支出</th>\n",
       "      <th>收入进步因子</th>\n",
       "      <th>进项负数发票占比</th>\n",
       "      <th>进项作废发票占比</th>\n",
       "      <th>供方市场集中度</th>\n",
       "      <th>销项负数发票占比</th>\n",
       "      <th>销项作废发票占比</th>\n",
       "      <th>需方市场集中度</th>\n",
       "    </tr>\n",
       "  </thead>\n",
       "  <tbody>\n",
       "    <tr>\n",
       "      <th>count</th>\n",
       "      <td>3.020000e+02</td>\n",
       "      <td>3.020000e+02</td>\n",
       "      <td>301.000000</td>\n",
       "      <td>302.000000</td>\n",
       "      <td>302.000000</td>\n",
       "      <td>302.000000</td>\n",
       "      <td>302.000000</td>\n",
       "      <td>302.000000</td>\n",
       "      <td>302.000000</td>\n",
       "    </tr>\n",
       "    <tr>\n",
       "      <th>mean</th>\n",
       "      <td>6.249132e+07</td>\n",
       "      <td>3.378259e+07</td>\n",
       "      <td>0.874469</td>\n",
       "      <td>0.006929</td>\n",
       "      <td>0.031731</td>\n",
       "      <td>0.141887</td>\n",
       "      <td>0.018025</td>\n",
       "      <td>0.126472</td>\n",
       "      <td>0.210124</td>\n",
       "    </tr>\n",
       "    <tr>\n",
       "      <th>std</th>\n",
       "      <td>1.176249e+08</td>\n",
       "      <td>9.545479e+07</td>\n",
       "      <td>2.290821</td>\n",
       "      <td>0.010679</td>\n",
       "      <td>0.030654</td>\n",
       "      <td>0.227295</td>\n",
       "      <td>0.024171</td>\n",
       "      <td>0.135961</td>\n",
       "      <td>0.266903</td>\n",
       "    </tr>\n",
       "    <tr>\n",
       "      <th>min</th>\n",
       "      <td>2.920761e+04</td>\n",
       "      <td>5.600000e+02</td>\n",
       "      <td>-0.975337</td>\n",
       "      <td>0.000000</td>\n",
       "      <td>0.000000</td>\n",
       "      <td>0.000584</td>\n",
       "      <td>0.000000</td>\n",
       "      <td>0.000000</td>\n",
       "      <td>0.000061</td>\n",
       "    </tr>\n",
       "    <tr>\n",
       "      <th>25%</th>\n",
       "      <td>3.034643e+06</td>\n",
       "      <td>6.519343e+05</td>\n",
       "      <td>-0.031954</td>\n",
       "      <td>0.000000</td>\n",
       "      <td>0.013949</td>\n",
       "      <td>0.016819</td>\n",
       "      <td>0.000000</td>\n",
       "      <td>0.059750</td>\n",
       "      <td>0.011050</td>\n",
       "    </tr>\n",
       "    <tr>\n",
       "      <th>50%</th>\n",
       "      <td>2.394774e+07</td>\n",
       "      <td>8.181122e+06</td>\n",
       "      <td>0.252217</td>\n",
       "      <td>0.003875</td>\n",
       "      <td>0.028033</td>\n",
       "      <td>0.051554</td>\n",
       "      <td>0.011409</td>\n",
       "      <td>0.094789</td>\n",
       "      <td>0.088577</td>\n",
       "    </tr>\n",
       "    <tr>\n",
       "      <th>75%</th>\n",
       "      <td>8.720510e+07</td>\n",
       "      <td>3.823166e+07</td>\n",
       "      <td>0.824479</td>\n",
       "      <td>0.008671</td>\n",
       "      <td>0.041640</td>\n",
       "      <td>0.138606</td>\n",
       "      <td>0.024356</td>\n",
       "      <td>0.146324</td>\n",
       "      <td>0.340199</td>\n",
       "    </tr>\n",
       "    <tr>\n",
       "      <th>max</th>\n",
       "      <td>1.195105e+09</td>\n",
       "      <td>1.177813e+09</td>\n",
       "      <td>20.242317</td>\n",
       "      <td>0.100000</td>\n",
       "      <td>0.250000</td>\n",
       "      <td>1.000000</td>\n",
       "      <td>0.207317</td>\n",
       "      <td>0.954606</td>\n",
       "      <td>1.479703</td>\n",
       "    </tr>\n",
       "  </tbody>\n",
       "</table>\n",
       "</div>"
      ],
      "text/plain": [
       "               销售收入          进货支出      收入进步因子    进项负数发票占比    进项作废发票占比  \\\n",
       "count  3.020000e+02  3.020000e+02  301.000000  302.000000  302.000000   \n",
       "mean   6.249132e+07  3.378259e+07    0.874469    0.006929    0.031731   \n",
       "std    1.176249e+08  9.545479e+07    2.290821    0.010679    0.030654   \n",
       "min    2.920761e+04  5.600000e+02   -0.975337    0.000000    0.000000   \n",
       "25%    3.034643e+06  6.519343e+05   -0.031954    0.000000    0.013949   \n",
       "50%    2.394774e+07  8.181122e+06    0.252217    0.003875    0.028033   \n",
       "75%    8.720510e+07  3.823166e+07    0.824479    0.008671    0.041640   \n",
       "max    1.195105e+09  1.177813e+09   20.242317    0.100000    0.250000   \n",
       "\n",
       "          供方市场集中度    销项负数发票占比    销项作废发票占比     需方市场集中度  \n",
       "count  302.000000  302.000000  302.000000  302.000000  \n",
       "mean     0.141887    0.018025    0.126472    0.210124  \n",
       "std      0.227295    0.024171    0.135961    0.266903  \n",
       "min      0.000584    0.000000    0.000000    0.000061  \n",
       "25%      0.016819    0.000000    0.059750    0.011050  \n",
       "50%      0.051554    0.011409    0.094789    0.088577  \n",
       "75%      0.138606    0.024356    0.146324    0.340199  \n",
       "max      1.000000    0.207317    0.954606    1.479703  "
      ]
     },
     "execution_count": 456,
     "metadata": {},
     "output_type": "execute_result"
    }
   ],
   "source": [
    "indic_2.describe()"
   ]
  },
  {
   "cell_type": "code",
   "execution_count": 155,
   "id": "f9738cba",
   "metadata": {
    "ExecuteTime": {
     "end_time": "2021-08-31T08:03:41.119889Z",
     "start_time": "2021-08-31T08:03:41.089749Z"
    }
   },
   "outputs": [
    {
     "data": {
      "text/plain": [
       "array([nan, nan, nan, nan, nan, nan, nan, nan, nan, nan, nan, nan, nan,\n",
       "       nan, nan, nan, nan, nan, nan, nan, nan, nan, nan, nan, nan, nan,\n",
       "       nan, nan, nan, nan, nan, nan, nan, nan, nan, nan, nan, nan, nan,\n",
       "       nan, nan, nan, nan, nan, nan, nan, nan, nan, nan, nan, nan, nan,\n",
       "       nan, nan, nan, nan, nan, nan, nan, nan, nan, nan, nan, nan, nan,\n",
       "       nan, nan, nan, nan, nan, nan, nan, nan, nan, nan, nan, nan, nan,\n",
       "       nan, nan, nan, nan, nan, nan, nan, nan, nan, nan, nan, nan, nan,\n",
       "       nan, nan, nan, nan, nan, nan, nan, nan, nan, nan, nan, nan, nan,\n",
       "       nan, nan, nan, nan, nan, nan, nan, nan, nan, nan, nan, nan, nan,\n",
       "       nan, nan, nan, nan, nan, nan, nan, nan, nan, nan, nan, nan, nan,\n",
       "       nan, nan, nan, nan, nan, nan, nan, nan, nan, nan, nan, nan, nan,\n",
       "       nan, nan, nan, nan, nan, nan, nan, nan, nan, nan, nan, nan, nan,\n",
       "       nan, nan, nan, nan, nan, nan, nan, nan, nan, nan, nan, nan, nan,\n",
       "       nan, nan, nan, nan, nan, nan, nan, nan, nan, nan, nan, nan, nan,\n",
       "       nan, nan, nan, nan, nan, nan, nan, nan, nan, nan, nan, nan, nan,\n",
       "       nan, nan, nan, nan, nan, nan, nan, nan, nan, nan, nan, nan, nan,\n",
       "       nan, nan, nan, nan, nan, nan, nan, nan, nan, nan, nan, nan, nan,\n",
       "       nan, nan, nan, nan, nan, nan, nan, nan, nan, nan, nan, nan, nan,\n",
       "       nan, nan, nan, nan, nan, nan, nan, nan, nan, nan, nan, nan, nan,\n",
       "       nan, nan, nan, nan, nan, nan, nan, nan, nan, nan, nan, nan, nan,\n",
       "       nan, nan, nan, nan, nan, nan, nan, nan, nan, nan, nan, nan, nan,\n",
       "       nan, nan, nan, nan, nan, nan, nan, nan, nan, nan, nan, nan, nan,\n",
       "       nan, nan, nan, nan, nan, nan, nan, nan, nan, nan, nan, nan, nan,\n",
       "       nan, nan, nan])"
      ]
     },
     "execution_count": 155,
     "metadata": {},
     "output_type": "execute_result"
    }
   ],
   "source": [
    "z_2=zscore(indic_2['收入进步因子'])\n",
    "z_2"
   ]
  },
  {
   "cell_type": "code",
   "execution_count": 153,
   "id": "55f4a68d",
   "metadata": {
    "ExecuteTime": {
     "end_time": "2021-08-31T08:00:54.482676Z",
     "start_time": "2021-08-31T08:00:54.454753Z"
    }
   },
   "outputs": [
    {
     "data": {
      "text/html": [
       "<div>\n",
       "<style scoped>\n",
       "    .dataframe tbody tr th:only-of-type {\n",
       "        vertical-align: middle;\n",
       "    }\n",
       "\n",
       "    .dataframe tbody tr th {\n",
       "        vertical-align: top;\n",
       "    }\n",
       "\n",
       "    .dataframe thead th {\n",
       "        text-align: right;\n",
       "    }\n",
       "</style>\n",
       "<table border=\"1\" class=\"dataframe\">\n",
       "  <thead>\n",
       "    <tr style=\"text-align: right;\">\n",
       "      <th></th>\n",
       "      <th>销售收入</th>\n",
       "      <th>进货支出</th>\n",
       "      <th>收入进步因子</th>\n",
       "      <th>进项负数发票占比</th>\n",
       "      <th>进项作废发票占比</th>\n",
       "      <th>供方市场集中度</th>\n",
       "      <th>销项负数发票占比</th>\n",
       "      <th>销项作废发票占比</th>\n",
       "      <th>需方市场集中度</th>\n",
       "    </tr>\n",
       "    <tr>\n",
       "      <th>企业代号</th>\n",
       "      <th></th>\n",
       "      <th></th>\n",
       "      <th></th>\n",
       "      <th></th>\n",
       "      <th></th>\n",
       "      <th></th>\n",
       "      <th></th>\n",
       "      <th></th>\n",
       "      <th></th>\n",
       "    </tr>\n",
       "  </thead>\n",
       "  <tbody>\n",
       "    <tr>\n",
       "      <th>E124</th>\n",
       "      <td>7.686028</td>\n",
       "      <td>10.057005</td>\n",
       "      <td>NaN</td>\n",
       "      <td>1.214078</td>\n",
       "      <td>2.992524</td>\n",
       "      <td>-0.420497</td>\n",
       "      <td>0.599150</td>\n",
       "      <td>0.173621</td>\n",
       "      <td>0.884745</td>\n",
       "    </tr>\n",
       "    <tr>\n",
       "      <th>E125</th>\n",
       "      <td>9.645011</td>\n",
       "      <td>12.004944</td>\n",
       "      <td>NaN</td>\n",
       "      <td>1.227148</td>\n",
       "      <td>3.008999</td>\n",
       "      <td>-0.411547</td>\n",
       "      <td>0.370257</td>\n",
       "      <td>0.061326</td>\n",
       "      <td>0.844687</td>\n",
       "    </tr>\n",
       "    <tr>\n",
       "      <th>E126</th>\n",
       "      <td>5.005686</td>\n",
       "      <td>1.051703</td>\n",
       "      <td>NaN</td>\n",
       "      <td>-0.122025</td>\n",
       "      <td>0.066666</td>\n",
       "      <td>-0.528844</td>\n",
       "      <td>0.127783</td>\n",
       "      <td>0.292884</td>\n",
       "      <td>-0.771921</td>\n",
       "    </tr>\n",
       "    <tr>\n",
       "      <th>E127</th>\n",
       "      <td>5.579965</td>\n",
       "      <td>-0.335036</td>\n",
       "      <td>NaN</td>\n",
       "      <td>-0.520606</td>\n",
       "      <td>-0.450923</td>\n",
       "      <td>-0.433234</td>\n",
       "      <td>-0.705785</td>\n",
       "      <td>-0.708501</td>\n",
       "      <td>-0.208703</td>\n",
       "    </tr>\n",
       "    <tr>\n",
       "      <th>E128</th>\n",
       "      <td>1.721460</td>\n",
       "      <td>-0.241294</td>\n",
       "      <td>NaN</td>\n",
       "      <td>-0.184183</td>\n",
       "      <td>-0.144384</td>\n",
       "      <td>-0.529697</td>\n",
       "      <td>-0.746958</td>\n",
       "      <td>-0.379941</td>\n",
       "      <td>-0.414665</td>\n",
       "    </tr>\n",
       "    <tr>\n",
       "      <th>...</th>\n",
       "      <td>...</td>\n",
       "      <td>...</td>\n",
       "      <td>...</td>\n",
       "      <td>...</td>\n",
       "      <td>...</td>\n",
       "      <td>...</td>\n",
       "      <td>...</td>\n",
       "      <td>...</td>\n",
       "      <td>...</td>\n",
       "    </tr>\n",
       "    <tr>\n",
       "      <th>E421</th>\n",
       "      <td>-0.530003</td>\n",
       "      <td>-0.354162</td>\n",
       "      <td>NaN</td>\n",
       "      <td>-0.649987</td>\n",
       "      <td>-1.036836</td>\n",
       "      <td>0.670907</td>\n",
       "      <td>-0.746958</td>\n",
       "      <td>-0.677708</td>\n",
       "      <td>0.037481</td>\n",
       "    </tr>\n",
       "    <tr>\n",
       "      <th>E422</th>\n",
       "      <td>-0.531909</td>\n",
       "      <td>-0.354489</td>\n",
       "      <td>NaN</td>\n",
       "      <td>-0.649987</td>\n",
       "      <td>-1.036836</td>\n",
       "      <td>1.042601</td>\n",
       "      <td>-0.746958</td>\n",
       "      <td>-0.195026</td>\n",
       "      <td>-0.378194</td>\n",
       "    </tr>\n",
       "    <tr>\n",
       "      <th>E423</th>\n",
       "      <td>-0.531470</td>\n",
       "      <td>-0.353775</td>\n",
       "      <td>NaN</td>\n",
       "      <td>3.816741</td>\n",
       "      <td>-1.036836</td>\n",
       "      <td>-0.052499</td>\n",
       "      <td>-0.746958</td>\n",
       "      <td>0.120713</td>\n",
       "      <td>0.130811</td>\n",
       "    </tr>\n",
       "    <tr>\n",
       "      <th>E424</th>\n",
       "      <td>-0.531386</td>\n",
       "      <td>-0.351645</td>\n",
       "      <td>NaN</td>\n",
       "      <td>-0.649987</td>\n",
       "      <td>-1.036836</td>\n",
       "      <td>-0.083312</td>\n",
       "      <td>1.180525</td>\n",
       "      <td>0.096237</td>\n",
       "      <td>1.315221</td>\n",
       "    </tr>\n",
       "    <tr>\n",
       "      <th>E425</th>\n",
       "      <td>-0.530820</td>\n",
       "      <td>-0.353820</td>\n",
       "      <td>NaN</td>\n",
       "      <td>1.734791</td>\n",
       "      <td>-0.483007</td>\n",
       "      <td>-0.420471</td>\n",
       "      <td>-0.746958</td>\n",
       "      <td>2.342581</td>\n",
       "      <td>1.173915</td>\n",
       "    </tr>\n",
       "  </tbody>\n",
       "</table>\n",
       "<p>302 rows × 9 columns</p>\n",
       "</div>"
      ],
      "text/plain": [
       "          销售收入       进货支出  收入进步因子  进项负数发票占比  进项作废发票占比   供方市场集中度  销项负数发票占比  \\\n",
       "企业代号                                                                        \n",
       "E124  7.686028  10.057005     NaN  1.214078  2.992524 -0.420497  0.599150   \n",
       "E125  9.645011  12.004944     NaN  1.227148  3.008999 -0.411547  0.370257   \n",
       "E126  5.005686   1.051703     NaN -0.122025  0.066666 -0.528844  0.127783   \n",
       "E127  5.579965  -0.335036     NaN -0.520606 -0.450923 -0.433234 -0.705785   \n",
       "E128  1.721460  -0.241294     NaN -0.184183 -0.144384 -0.529697 -0.746958   \n",
       "...        ...        ...     ...       ...       ...       ...       ...   \n",
       "E421 -0.530003  -0.354162     NaN -0.649987 -1.036836  0.670907 -0.746958   \n",
       "E422 -0.531909  -0.354489     NaN -0.649987 -1.036836  1.042601 -0.746958   \n",
       "E423 -0.531470  -0.353775     NaN  3.816741 -1.036836 -0.052499 -0.746958   \n",
       "E424 -0.531386  -0.351645     NaN -0.649987 -1.036836 -0.083312  1.180525   \n",
       "E425 -0.530820  -0.353820     NaN  1.734791 -0.483007 -0.420471 -0.746958   \n",
       "\n",
       "      销项作废发票占比   需方市场集中度  \n",
       "企业代号                      \n",
       "E124  0.173621  0.884745  \n",
       "E125  0.061326  0.844687  \n",
       "E126  0.292884 -0.771921  \n",
       "E127 -0.708501 -0.208703  \n",
       "E128 -0.379941 -0.414665  \n",
       "...        ...       ...  \n",
       "E421 -0.677708  0.037481  \n",
       "E422 -0.195026 -0.378194  \n",
       "E423  0.120713  0.130811  \n",
       "E424  0.096237  1.315221  \n",
       "E425  2.342581  1.173915  \n",
       "\n",
       "[302 rows x 9 columns]"
      ]
     },
     "execution_count": 153,
     "metadata": {},
     "output_type": "execute_result"
    }
   ],
   "source": [
    "z_2=pd.DataFrame(data=z_2,\n",
    "                       columns=[\n",
    "                           '销售收入', '进货支出', '收入进步因子', '进项负数发票占比',\n",
    "                           '进项作废发票占比', '供方市场集中度', '销项负数发票占比',\n",
    "                           '销项作废发票占比', '需方市场集中度'\n",
    "                       ],index=names_2)\n",
    "z_2"
   ]
  },
  {
   "cell_type": "code",
   "execution_count": 151,
   "id": "446999e5",
   "metadata": {
    "ExecuteTime": {
     "end_time": "2021-08-31T08:00:01.021997Z",
     "start_time": "2021-08-31T08:00:00.978590Z"
    },
    "scrolled": true
   },
   "outputs": [
    {
     "data": {
      "text/html": [
       "<div>\n",
       "<style scoped>\n",
       "    .dataframe tbody tr th:only-of-type {\n",
       "        vertical-align: middle;\n",
       "    }\n",
       "\n",
       "    .dataframe tbody tr th {\n",
       "        vertical-align: top;\n",
       "    }\n",
       "\n",
       "    .dataframe thead th {\n",
       "        text-align: right;\n",
       "    }\n",
       "</style>\n",
       "<table border=\"1\" class=\"dataframe\">\n",
       "  <thead>\n",
       "    <tr style=\"text-align: right;\">\n",
       "      <th></th>\n",
       "      <th>销售收入</th>\n",
       "      <th>进货支出</th>\n",
       "      <th>收入进步因子</th>\n",
       "      <th>进项负数发票占比</th>\n",
       "      <th>进项作废发票占比</th>\n",
       "      <th>供方市场集中度</th>\n",
       "      <th>销项负数发票占比</th>\n",
       "      <th>销项作废发票占比</th>\n",
       "      <th>需方市场集中度</th>\n",
       "    </tr>\n",
       "  </thead>\n",
       "  <tbody>\n",
       "    <tr>\n",
       "      <th>count</th>\n",
       "      <td>3.020000e+02</td>\n",
       "      <td>3.020000e+02</td>\n",
       "      <td>0.0</td>\n",
       "      <td>3.020000e+02</td>\n",
       "      <td>3.020000e+02</td>\n",
       "      <td>3.020000e+02</td>\n",
       "      <td>3.020000e+02</td>\n",
       "      <td>3.020000e+02</td>\n",
       "      <td>3.020000e+02</td>\n",
       "    </tr>\n",
       "    <tr>\n",
       "      <th>mean</th>\n",
       "      <td>-1.463142e-16</td>\n",
       "      <td>-3.619254e-16</td>\n",
       "      <td>NaN</td>\n",
       "      <td>4.146793e-16</td>\n",
       "      <td>2.088102e-16</td>\n",
       "      <td>3.768141e-17</td>\n",
       "      <td>4.014449e-16</td>\n",
       "      <td>1.441084e-16</td>\n",
       "      <td>-3.624768e-16</td>\n",
       "    </tr>\n",
       "    <tr>\n",
       "      <th>std</th>\n",
       "      <td>1.001660e+00</td>\n",
       "      <td>1.001660e+00</td>\n",
       "      <td>NaN</td>\n",
       "      <td>1.001660e+00</td>\n",
       "      <td>1.001660e+00</td>\n",
       "      <td>1.001660e+00</td>\n",
       "      <td>1.001660e+00</td>\n",
       "      <td>1.001660e+00</td>\n",
       "      <td>1.001660e+00</td>\n",
       "    </tr>\n",
       "    <tr>\n",
       "      <th>min</th>\n",
       "      <td>-5.319093e-01</td>\n",
       "      <td>-3.544935e-01</td>\n",
       "      <td>NaN</td>\n",
       "      <td>-6.499869e-01</td>\n",
       "      <td>-1.036836e+00</td>\n",
       "      <td>-6.227026e-01</td>\n",
       "      <td>-7.469583e-01</td>\n",
       "      <td>-9.317510e-01</td>\n",
       "      <td>-7.883440e-01</td>\n",
       "    </tr>\n",
       "    <tr>\n",
       "      <th>25%</th>\n",
       "      <td>-5.063159e-01</td>\n",
       "      <td>-3.476582e-01</td>\n",
       "      <td>NaN</td>\n",
       "      <td>-6.499869e-01</td>\n",
       "      <td>-5.810432e-01</td>\n",
       "      <td>-5.511574e-01</td>\n",
       "      <td>-7.469583e-01</td>\n",
       "      <td>-4.915584e-01</td>\n",
       "      <td>-7.471044e-01</td>\n",
       "    </tr>\n",
       "    <tr>\n",
       "      <th>50%</th>\n",
       "      <td>-3.282260e-01</td>\n",
       "      <td>-2.686503e-01</td>\n",
       "      <td>NaN</td>\n",
       "      <td>-2.864750e-01</td>\n",
       "      <td>-1.208225e-01</td>\n",
       "      <td>-3.980870e-01</td>\n",
       "      <td>-2.741616e-01</td>\n",
       "      <td>-2.334181e-01</td>\n",
       "      <td>-4.561540e-01</td>\n",
       "    </tr>\n",
       "    <tr>\n",
       "      <th>75%</th>\n",
       "      <td>2.104554e-01</td>\n",
       "      <td>4.668652e-02</td>\n",
       "      <td>NaN</td>\n",
       "      <td>1.633743e-01</td>\n",
       "      <td>3.237766e-01</td>\n",
       "      <td>-1.446085e-02</td>\n",
       "      <td>2.623809e-01</td>\n",
       "      <td>1.462556e-01</td>\n",
       "      <td>4.881603e-01</td>\n",
       "    </tr>\n",
       "    <tr>\n",
       "      <th>max</th>\n",
       "      <td>9.645011e+00</td>\n",
       "      <td>1.200494e+01</td>\n",
       "      <td>NaN</td>\n",
       "      <td>8.730141e+00</td>\n",
       "      <td>7.132143e+00</td>\n",
       "      <td>3.781593e+00</td>\n",
       "      <td>7.844446e+00</td>\n",
       "      <td>6.101068e+00</td>\n",
       "      <td>4.764607e+00</td>\n",
       "    </tr>\n",
       "  </tbody>\n",
       "</table>\n",
       "</div>"
      ],
      "text/plain": [
       "               销售收入          进货支出  收入进步因子      进项负数发票占比      进项作废发票占比  \\\n",
       "count  3.020000e+02  3.020000e+02     0.0  3.020000e+02  3.020000e+02   \n",
       "mean  -1.463142e-16 -3.619254e-16     NaN  4.146793e-16  2.088102e-16   \n",
       "std    1.001660e+00  1.001660e+00     NaN  1.001660e+00  1.001660e+00   \n",
       "min   -5.319093e-01 -3.544935e-01     NaN -6.499869e-01 -1.036836e+00   \n",
       "25%   -5.063159e-01 -3.476582e-01     NaN -6.499869e-01 -5.810432e-01   \n",
       "50%   -3.282260e-01 -2.686503e-01     NaN -2.864750e-01 -1.208225e-01   \n",
       "75%    2.104554e-01  4.668652e-02     NaN  1.633743e-01  3.237766e-01   \n",
       "max    9.645011e+00  1.200494e+01     NaN  8.730141e+00  7.132143e+00   \n",
       "\n",
       "            供方市场集中度      销项负数发票占比      销项作废发票占比       需方市场集中度  \n",
       "count  3.020000e+02  3.020000e+02  3.020000e+02  3.020000e+02  \n",
       "mean   3.768141e-17  4.014449e-16  1.441084e-16 -3.624768e-16  \n",
       "std    1.001660e+00  1.001660e+00  1.001660e+00  1.001660e+00  \n",
       "min   -6.227026e-01 -7.469583e-01 -9.317510e-01 -7.883440e-01  \n",
       "25%   -5.511574e-01 -7.469583e-01 -4.915584e-01 -7.471044e-01  \n",
       "50%   -3.980870e-01 -2.741616e-01 -2.334181e-01 -4.561540e-01  \n",
       "75%   -1.446085e-02  2.623809e-01  1.462556e-01  4.881603e-01  \n",
       "max    3.781593e+00  7.844446e+00  6.101068e+00  4.764607e+00  "
      ]
     },
     "execution_count": 151,
     "metadata": {},
     "output_type": "execute_result"
    }
   ],
   "source": [
    "z_2.describe()"
   ]
  },
  {
   "cell_type": "markdown",
   "id": "d7cd479f",
   "metadata": {},
   "source": [
    "# 违约概率预测"
   ]
  },
  {
   "cell_type": "markdown",
   "id": "455ff72a",
   "metadata": {},
   "source": [
    "## 附件1"
   ]
  },
  {
   "cell_type": "code",
   "execution_count": 529,
   "id": "0e28d7a5",
   "metadata": {
    "ExecuteTime": {
     "end_time": "2021-09-01T11:54:23.404191Z",
     "start_time": "2021-09-01T11:54:23.391226Z"
    }
   },
   "outputs": [
    {
     "data": {
      "text/html": [
       "<div>\n",
       "<style scoped>\n",
       "    .dataframe tbody tr th:only-of-type {\n",
       "        vertical-align: middle;\n",
       "    }\n",
       "\n",
       "    .dataframe tbody tr th {\n",
       "        vertical-align: top;\n",
       "    }\n",
       "\n",
       "    .dataframe thead th {\n",
       "        text-align: right;\n",
       "    }\n",
       "</style>\n",
       "<table border=\"1\" class=\"dataframe\">\n",
       "  <thead>\n",
       "    <tr style=\"text-align: right;\">\n",
       "      <th></th>\n",
       "      <th>企业代号</th>\n",
       "      <th>企业名称</th>\n",
       "      <th>信誉评级</th>\n",
       "      <th>是否违约</th>\n",
       "      <th>违约概率logistics</th>\n",
       "      <th>违约概率XGBoost</th>\n",
       "    </tr>\n",
       "  </thead>\n",
       "  <tbody>\n",
       "    <tr>\n",
       "      <th>0</th>\n",
       "      <td>E1</td>\n",
       "      <td>***电器销售有限公司</td>\n",
       "      <td>A</td>\n",
       "      <td>否</td>\n",
       "      <td>1.334827e-135</td>\n",
       "      <td>0.011311</td>\n",
       "    </tr>\n",
       "    <tr>\n",
       "      <th>1</th>\n",
       "      <td>E2</td>\n",
       "      <td>***技术有限责任公司</td>\n",
       "      <td>A</td>\n",
       "      <td>否</td>\n",
       "      <td>2.550628e-17</td>\n",
       "      <td>0.000637</td>\n",
       "    </tr>\n",
       "    <tr>\n",
       "      <th>2</th>\n",
       "      <td>E3</td>\n",
       "      <td>***电子(中国)有限公司***分公司</td>\n",
       "      <td>C</td>\n",
       "      <td>否</td>\n",
       "      <td>2.537392e-16</td>\n",
       "      <td>0.012899</td>\n",
       "    </tr>\n",
       "    <tr>\n",
       "      <th>3</th>\n",
       "      <td>E4</td>\n",
       "      <td>***发展有限责任公司</td>\n",
       "      <td>C</td>\n",
       "      <td>否</td>\n",
       "      <td>1.176186e-55</td>\n",
       "      <td>0.001390</td>\n",
       "    </tr>\n",
       "    <tr>\n",
       "      <th>4</th>\n",
       "      <td>E5</td>\n",
       "      <td>***供应链管理有限公司</td>\n",
       "      <td>B</td>\n",
       "      <td>否</td>\n",
       "      <td>1.900200e-07</td>\n",
       "      <td>0.070231</td>\n",
       "    </tr>\n",
       "  </tbody>\n",
       "</table>\n",
       "</div>"
      ],
      "text/plain": [
       "  企业代号                 企业名称 信誉评级 是否违约  违约概率logistics  违约概率XGBoost\n",
       "0   E1          ***电器销售有限公司    A    否  1.334827e-135     0.011311\n",
       "1   E2          ***技术有限责任公司    A    否   2.550628e-17     0.000637\n",
       "2   E3  ***电子(中国)有限公司***分公司    C    否   2.537392e-16     0.012899\n",
       "3   E4          ***发展有限责任公司    C    否   1.176186e-55     0.001390\n",
       "4   E5         ***供应链管理有限公司    B    否   1.900200e-07     0.070231"
      ]
     },
     "execution_count": 529,
     "metadata": {},
     "output_type": "execute_result"
    }
   ],
   "source": [
    "a11.head()"
   ]
  },
  {
   "cell_type": "code",
   "execution_count": 525,
   "id": "ba0c2314",
   "metadata": {
    "ExecuteTime": {
     "end_time": "2021-09-01T11:49:13.681842Z",
     "start_time": "2021-09-01T11:49:13.674862Z"
    }
   },
   "outputs": [
    {
     "data": {
      "text/plain": [
       "0      1\n",
       "1      1\n",
       "2      0\n",
       "3      0\n",
       "4      0\n",
       "      ..\n",
       "118    0\n",
       "119    0\n",
       "120    0\n",
       "121    0\n",
       "122    0\n",
       "Name: 信誉评级, Length: 123, dtype: int64"
      ]
     },
     "execution_count": 525,
     "metadata": {},
     "output_type": "execute_result"
    }
   ],
   "source": [
    "A=a11['信誉评级'].map(lambda x: 1 if x =='A' else 0)\n",
    "A"
   ]
  },
  {
   "cell_type": "code",
   "execution_count": 530,
   "id": "624b2c9c",
   "metadata": {
    "ExecuteTime": {
     "end_time": "2021-09-01T11:57:04.743707Z",
     "start_time": "2021-09-01T11:57:04.734428Z"
    }
   },
   "outputs": [
    {
     "data": {
      "text/plain": [
       "企业代号\n",
       "E1     NaN\n",
       "E2     NaN\n",
       "E3     NaN\n",
       "E4     NaN\n",
       "E5     NaN\n",
       "        ..\n",
       "E119   NaN\n",
       "E120   NaN\n",
       "E121   NaN\n",
       "E122   NaN\n",
       "E123   NaN\n",
       "Name: A, Length: 123, dtype: float64"
      ]
     },
     "execution_count": 530,
     "metadata": {},
     "output_type": "execute_result"
    }
   ],
   "source": [
    "z_1['A']=a11['信誉评级'].map(lambda x: 1 if x =='A' else 0)\n",
    "z_1['A']"
   ]
  },
  {
   "cell_type": "code",
   "execution_count": 528,
   "id": "a2ac1eaa",
   "metadata": {
    "ExecuteTime": {
     "end_time": "2021-09-01T11:50:39.446220Z",
     "start_time": "2021-09-01T11:50:39.420054Z"
    }
   },
   "outputs": [
    {
     "data": {
      "text/html": [
       "<div>\n",
       "<style scoped>\n",
       "    .dataframe tbody tr th:only-of-type {\n",
       "        vertical-align: middle;\n",
       "    }\n",
       "\n",
       "    .dataframe tbody tr th {\n",
       "        vertical-align: top;\n",
       "    }\n",
       "\n",
       "    .dataframe thead th {\n",
       "        text-align: right;\n",
       "    }\n",
       "</style>\n",
       "<table border=\"1\" class=\"dataframe\">\n",
       "  <thead>\n",
       "    <tr style=\"text-align: right;\">\n",
       "      <th></th>\n",
       "      <th>销售收入</th>\n",
       "      <th>进货支出</th>\n",
       "      <th>收入进步因子</th>\n",
       "      <th>进项负数发票占比</th>\n",
       "      <th>进项作废发票占比</th>\n",
       "      <th>供方市场集中度</th>\n",
       "      <th>销项负数发票占比</th>\n",
       "      <th>销项作废发票占比</th>\n",
       "      <th>需方市场集中度</th>\n",
       "      <th>A</th>\n",
       "      <th>B</th>\n",
       "      <th>C</th>\n",
       "      <th>D</th>\n",
       "    </tr>\n",
       "    <tr>\n",
       "      <th>企业代号</th>\n",
       "      <th></th>\n",
       "      <th></th>\n",
       "      <th></th>\n",
       "      <th></th>\n",
       "      <th></th>\n",
       "      <th></th>\n",
       "      <th></th>\n",
       "      <th></th>\n",
       "      <th></th>\n",
       "      <th></th>\n",
       "      <th></th>\n",
       "      <th></th>\n",
       "      <th></th>\n",
       "    </tr>\n",
       "  </thead>\n",
       "  <tbody>\n",
       "    <tr>\n",
       "      <th>E1</th>\n",
       "      <td>9.570315</td>\n",
       "      <td>10.979130</td>\n",
       "      <td>-0.248520</td>\n",
       "      <td>1.064436</td>\n",
       "      <td>1.057429</td>\n",
       "      <td>-0.682533</td>\n",
       "      <td>0.130129</td>\n",
       "      <td>-0.855291</td>\n",
       "      <td>-0.772359</td>\n",
       "      <td>1</td>\n",
       "      <td>0</td>\n",
       "      <td>0</td>\n",
       "      <td>0</td>\n",
       "    </tr>\n",
       "    <tr>\n",
       "      <th>E2</th>\n",
       "      <td>1.158719</td>\n",
       "      <td>0.130766</td>\n",
       "      <td>-0.199667</td>\n",
       "      <td>-0.141002</td>\n",
       "      <td>-0.204031</td>\n",
       "      <td>-0.315321</td>\n",
       "      <td>0.132387</td>\n",
       "      <td>-0.350663</td>\n",
       "      <td>1.649774</td>\n",
       "      <td>1</td>\n",
       "      <td>0</td>\n",
       "      <td>0</td>\n",
       "      <td>0</td>\n",
       "    </tr>\n",
       "    <tr>\n",
       "      <th>E3</th>\n",
       "      <td>1.134189</td>\n",
       "      <td>-0.053591</td>\n",
       "      <td>-0.532965</td>\n",
       "      <td>-0.076144</td>\n",
       "      <td>0.556137</td>\n",
       "      <td>-0.665053</td>\n",
       "      <td>3.938355</td>\n",
       "      <td>-0.963183</td>\n",
       "      <td>-0.772307</td>\n",
       "      <td>0</td>\n",
       "      <td>0</td>\n",
       "      <td>1</td>\n",
       "      <td>0</td>\n",
       "    </tr>\n",
       "    <tr>\n",
       "      <th>E4</th>\n",
       "      <td>4.542379</td>\n",
       "      <td>0.467584</td>\n",
       "      <td>-0.729142</td>\n",
       "      <td>0.035978</td>\n",
       "      <td>1.454680</td>\n",
       "      <td>-0.476139</td>\n",
       "      <td>-0.450515</td>\n",
       "      <td>-0.321326</td>\n",
       "      <td>-0.762571</td>\n",
       "      <td>0</td>\n",
       "      <td>0</td>\n",
       "      <td>1</td>\n",
       "      <td>0</td>\n",
       "    </tr>\n",
       "    <tr>\n",
       "      <th>E5</th>\n",
       "      <td>0.232483</td>\n",
       "      <td>0.228119</td>\n",
       "      <td>1.205426</td>\n",
       "      <td>0.122309</td>\n",
       "      <td>0.429674</td>\n",
       "      <td>-0.660637</td>\n",
       "      <td>-0.320966</td>\n",
       "      <td>-0.630113</td>\n",
       "      <td>-0.758200</td>\n",
       "      <td>0</td>\n",
       "      <td>1</td>\n",
       "      <td>0</td>\n",
       "      <td>0</td>\n",
       "    </tr>\n",
       "    <tr>\n",
       "      <th>...</th>\n",
       "      <td>...</td>\n",
       "      <td>...</td>\n",
       "      <td>...</td>\n",
       "      <td>...</td>\n",
       "      <td>...</td>\n",
       "      <td>...</td>\n",
       "      <td>...</td>\n",
       "      <td>...</td>\n",
       "      <td>...</td>\n",
       "      <td>...</td>\n",
       "      <td>...</td>\n",
       "      <td>...</td>\n",
       "      <td>...</td>\n",
       "    </tr>\n",
       "    <tr>\n",
       "      <th>E119</th>\n",
       "      <td>-0.265049</td>\n",
       "      <td>-0.146033</td>\n",
       "      <td>-0.047169</td>\n",
       "      <td>-0.269072</td>\n",
       "      <td>-0.931496</td>\n",
       "      <td>-0.642570</td>\n",
       "      <td>-0.547296</td>\n",
       "      <td>0.214032</td>\n",
       "      <td>0.482772</td>\n",
       "      <td>0</td>\n",
       "      <td>0</td>\n",
       "      <td>0</td>\n",
       "      <td>1</td>\n",
       "    </tr>\n",
       "    <tr>\n",
       "      <th>E120</th>\n",
       "      <td>-0.264723</td>\n",
       "      <td>-0.146387</td>\n",
       "      <td>-0.401996</td>\n",
       "      <td>-0.511547</td>\n",
       "      <td>-0.001604</td>\n",
       "      <td>1.277696</td>\n",
       "      <td>-0.547296</td>\n",
       "      <td>5.287957</td>\n",
       "      <td>0.290624</td>\n",
       "      <td>0</td>\n",
       "      <td>0</td>\n",
       "      <td>0</td>\n",
       "      <td>1</td>\n",
       "    </tr>\n",
       "    <tr>\n",
       "      <th>E121</th>\n",
       "      <td>-0.264884</td>\n",
       "      <td>-0.144416</td>\n",
       "      <td>-0.484994</td>\n",
       "      <td>1.016047</td>\n",
       "      <td>-1.051483</td>\n",
       "      <td>-0.567873</td>\n",
       "      <td>-0.547296</td>\n",
       "      <td>0.035857</td>\n",
       "      <td>-0.739993</td>\n",
       "      <td>0</td>\n",
       "      <td>0</td>\n",
       "      <td>0</td>\n",
       "      <td>1</td>\n",
       "    </tr>\n",
       "    <tr>\n",
       "      <th>E122</th>\n",
       "      <td>-0.264946</td>\n",
       "      <td>-0.146347</td>\n",
       "      <td>-0.694608</td>\n",
       "      <td>1.079697</td>\n",
       "      <td>-0.264073</td>\n",
       "      <td>-0.089815</td>\n",
       "      <td>1.079207</td>\n",
       "      <td>0.146628</td>\n",
       "      <td>-0.492681</td>\n",
       "      <td>0</td>\n",
       "      <td>0</td>\n",
       "      <td>0</td>\n",
       "      <td>1</td>\n",
       "    </tr>\n",
       "    <tr>\n",
       "      <th>E123</th>\n",
       "      <td>-0.264578</td>\n",
       "      <td>-0.146434</td>\n",
       "      <td>-0.295083</td>\n",
       "      <td>-0.511547</td>\n",
       "      <td>-1.051483</td>\n",
       "      <td>3.128242</td>\n",
       "      <td>-0.547296</td>\n",
       "      <td>3.456703</td>\n",
       "      <td>0.378095</td>\n",
       "      <td>0</td>\n",
       "      <td>0</td>\n",
       "      <td>0</td>\n",
       "      <td>1</td>\n",
       "    </tr>\n",
       "  </tbody>\n",
       "</table>\n",
       "<p>123 rows × 13 columns</p>\n",
       "</div>"
      ],
      "text/plain": [
       "          销售收入       进货支出    收入进步因子  进项负数发票占比  进项作废发票占比   供方市场集中度  销项负数发票占比  \\\n",
       "企业代号                                                                          \n",
       "E1    9.570315  10.979130 -0.248520  1.064436  1.057429 -0.682533  0.130129   \n",
       "E2    1.158719   0.130766 -0.199667 -0.141002 -0.204031 -0.315321  0.132387   \n",
       "E3    1.134189  -0.053591 -0.532965 -0.076144  0.556137 -0.665053  3.938355   \n",
       "E4    4.542379   0.467584 -0.729142  0.035978  1.454680 -0.476139 -0.450515   \n",
       "E5    0.232483   0.228119  1.205426  0.122309  0.429674 -0.660637 -0.320966   \n",
       "...        ...        ...       ...       ...       ...       ...       ...   \n",
       "E119 -0.265049  -0.146033 -0.047169 -0.269072 -0.931496 -0.642570 -0.547296   \n",
       "E120 -0.264723  -0.146387 -0.401996 -0.511547 -0.001604  1.277696 -0.547296   \n",
       "E121 -0.264884  -0.144416 -0.484994  1.016047 -1.051483 -0.567873 -0.547296   \n",
       "E122 -0.264946  -0.146347 -0.694608  1.079697 -0.264073 -0.089815  1.079207   \n",
       "E123 -0.264578  -0.146434 -0.295083 -0.511547 -1.051483  3.128242 -0.547296   \n",
       "\n",
       "      销项作废发票占比   需方市场集中度  A  B  C  D  \n",
       "企业代号                                  \n",
       "E1   -0.855291 -0.772359  1  0  0  0  \n",
       "E2   -0.350663  1.649774  1  0  0  0  \n",
       "E3   -0.963183 -0.772307  0  0  1  0  \n",
       "E4   -0.321326 -0.762571  0  0  1  0  \n",
       "E5   -0.630113 -0.758200  0  1  0  0  \n",
       "...        ...       ... .. .. .. ..  \n",
       "E119  0.214032  0.482772  0  0  0  1  \n",
       "E120  5.287957  0.290624  0  0  0  1  \n",
       "E121  0.035857 -0.739993  0  0  0  1  \n",
       "E122  0.146628 -0.492681  0  0  0  1  \n",
       "E123  3.456703  0.378095  0  0  0  1  \n",
       "\n",
       "[123 rows x 13 columns]"
      ]
     },
     "execution_count": 528,
     "metadata": {},
     "output_type": "execute_result"
    }
   ],
   "source": [
    "z_1['B']=a11['信誉评级'].map(lambda x: 1 if x== 'B' else 0).values\n",
    "z_1['C']=a11['信誉评级'].map(lambda x: 1 if x=='C' else 0).values\n",
    "z_1['D']=a11['信誉评级'].map(lambda x: 1 if x=='D' else 0).values\n",
    "z_1"
   ]
  },
  {
   "cell_type": "markdown",
   "id": "cf4259fa",
   "metadata": {},
   "source": [
    "### 逻辑回归"
   ]
  },
  {
   "cell_type": "code",
   "execution_count": null,
   "id": "77ba3987",
   "metadata": {
    "ExecuteTime": {
     "end_time": "2021-08-31T08:35:08.538722Z",
     "start_time": "2021-08-31T08:35:08.532738Z"
    }
   },
   "outputs": [],
   "source": [
    "z_1.values.shape"
   ]
  },
  {
   "cell_type": "code",
   "execution_count": 192,
   "id": "256b3e0d",
   "metadata": {
    "ExecuteTime": {
     "end_time": "2021-08-31T08:48:17.187249Z",
     "start_time": "2021-08-31T08:48:17.179224Z"
    },
    "collapsed": true
   },
   "outputs": [
    {
     "data": {
      "text/plain": [
       "[0,\n",
       " 0,\n",
       " 0,\n",
       " 0,\n",
       " 0,\n",
       " 0,\n",
       " 0,\n",
       " 0,\n",
       " 0,\n",
       " 0,\n",
       " 0,\n",
       " 0,\n",
       " 0,\n",
       " 0,\n",
       " 0,\n",
       " 0,\n",
       " 0,\n",
       " 0,\n",
       " 0,\n",
       " 0,\n",
       " 0,\n",
       " 0,\n",
       " 0,\n",
       " 0,\n",
       " 0,\n",
       " 0,\n",
       " 0,\n",
       " 0,\n",
       " 1,\n",
       " 0,\n",
       " 0,\n",
       " 0,\n",
       " 0,\n",
       " 0,\n",
       " 0,\n",
       " 1,\n",
       " 0,\n",
       " 0,\n",
       " 0,\n",
       " 0,\n",
       " 0,\n",
       " 0,\n",
       " 0,\n",
       " 0,\n",
       " 1,\n",
       " 0,\n",
       " 0,\n",
       " 0,\n",
       " 0,\n",
       " 0,\n",
       " 0,\n",
       " 1,\n",
       " 0,\n",
       " 0,\n",
       " 0,\n",
       " 0,\n",
       " 0,\n",
       " 0,\n",
       " 0,\n",
       " 0,\n",
       " 0,\n",
       " 0,\n",
       " 0,\n",
       " 0,\n",
       " 0,\n",
       " 0,\n",
       " 0,\n",
       " 0,\n",
       " 0,\n",
       " 0,\n",
       " 0,\n",
       " 0,\n",
       " 0,\n",
       " 0,\n",
       " 0,\n",
       " 0,\n",
       " 0,\n",
       " 0,\n",
       " 0,\n",
       " 0,\n",
       " 0,\n",
       " 1,\n",
       " 0,\n",
       " 0,\n",
       " 0,\n",
       " 0,\n",
       " 1,\n",
       " 0,\n",
       " 0,\n",
       " 0,\n",
       " 0,\n",
       " 0,\n",
       " 0,\n",
       " 0,\n",
       " 0,\n",
       " 0,\n",
       " 0,\n",
       " 0,\n",
       " 1,\n",
       " 1,\n",
       " 1,\n",
       " 1,\n",
       " 1,\n",
       " 0,\n",
       " 0,\n",
       " 0,\n",
       " 1,\n",
       " 1,\n",
       " 1,\n",
       " 0,\n",
       " 1,\n",
       " 1,\n",
       " 1,\n",
       " 1,\n",
       " 1,\n",
       " 1,\n",
       " 1,\n",
       " 1,\n",
       " 1,\n",
       " 1,\n",
       " 1,\n",
       " 1,\n",
       " 1]"
      ]
     },
     "execution_count": 192,
     "metadata": {},
     "output_type": "execute_result"
    }
   ],
   "source": [
    "default=[1 if  i== '是'  else 0   for  i  in a11.iloc[:, -1]]\n",
    "default"
   ]
  },
  {
   "cell_type": "code",
   "execution_count": null,
   "id": "7ca2a2f8",
   "metadata": {},
   "outputs": [],
   "source": []
  },
  {
   "cell_type": "code",
   "execution_count": 167,
   "id": "135fc977",
   "metadata": {
    "ExecuteTime": {
     "end_time": "2021-08-31T08:34:09.792728Z",
     "start_time": "2021-08-31T08:34:09.786743Z"
    }
   },
   "outputs": [
    {
     "name": "stdout",
     "output_type": "stream",
     "text": [
      "[1, 2, 'buzz', 4, 'fizz', 'buzz', 7, 8, 'buzz', 'fizz', 11, 'buzz', 13, 14, 'fizzbuzz', 16, 17, 'buzz', 19, 'fizz', 'buzz', 22, 23, 'buzz', 'fizz', 26, 'buzz', 28, 29, 'fizzbuzz', 31, 32, 'buzz', 34, 'fizz', 'buzz', 37, 38, 'buzz', 'fizz', 41, 'buzz', 43, 44, 'fizzbuzz', 46, 47, 'buzz', 49, 'fizz', 'buzz', 52, 53, 'buzz', 'fizz', 56, 'buzz', 58, 59, 'fizzbuzz', 61, 62, 'buzz', 64, 'fizz', 'buzz', 67, 68, 'buzz', 'fizz', 71, 'buzz', 73, 74, 'fizzbuzz', 76, 77, 'buzz', 79, 'fizz', 'buzz', 82, 83, 'buzz', 'fizz', 86, 'buzz', 88, 89, 'fizzbuzz', 91, 92, 'buzz', 94, 'fizz', 'buzz', 97, 98, 'buzz']\n"
     ]
    }
   ],
   "source": [
    "print(['fizzbuzz' if (i % 5 == 0 and i % 3 == 0)\n",
    "        else 'fizz' if i % 5 == 0 \n",
    "        else 'buzz' if i % 3 == 0 \n",
    "        else i for i in range(1, 100)])"
   ]
  },
  {
   "cell_type": "code",
   "execution_count": 159,
   "id": "891e46f4",
   "metadata": {
    "ExecuteTime": {
     "end_time": "2021-08-31T08:19:30.910183Z",
     "start_time": "2021-08-31T08:19:30.683758Z"
    }
   },
   "outputs": [],
   "source": [
    "import numpy as np\n",
    "from sklearn import linear_model, datasets\n",
    "from sklearn.model_selection import train_test_split\n",
    "#from sklearn.cross_validation import train_test_split会报错，\n",
    "#原因在于这个cross_validatio这个包早就不在使用了，划分到了model_selection这个包中。"
   ]
  },
  {
   "cell_type": "code",
   "execution_count": 405,
   "id": "f7a3b43e",
   "metadata": {
    "ExecuteTime": {
     "end_time": "2021-08-31T12:10:52.427001Z",
     "start_time": "2021-08-31T12:10:52.403095Z"
    }
   },
   "outputs": [
    {
     "data": {
      "text/plain": [
       "LogisticRegression(C=100000.0)"
      ]
     },
     "execution_count": 405,
     "metadata": {},
     "output_type": "execute_result"
    }
   ],
   "source": [
    "# 1.加载数据\n",
    "X = z_1.values\n",
    "Y = default\n",
    "# 2.拆分测试集、训练集。\n",
    "X_train, X_test, Y_train, Y_test = train_test_split(X, Y, test_size=0.2, random_state=0)# 设置随机数种子，以便比较结果。\n",
    "# 4. 训练逻辑回归模型\n",
    "logreg = linear_model.LogisticRegression(C=1e5)\n",
    "logreg.fit(X_train, Y_train)"
   ]
  },
  {
   "cell_type": "code",
   "execution_count": 241,
   "id": "c6d3d1a4",
   "metadata": {
    "ExecuteTime": {
     "end_time": "2021-08-31T09:11:13.290996Z",
     "start_time": "2021-08-31T09:11:13.284013Z"
    }
   },
   "outputs": [
    {
     "data": {
      "text/plain": [
       "0.8727272727272727"
      ]
     },
     "execution_count": 241,
     "metadata": {},
     "output_type": "execute_result"
    }
   ],
   "source": [
    "logreg.score(X_train,Y_train)#训练集得分"
   ]
  },
  {
   "cell_type": "code",
   "execution_count": 242,
   "id": "db933ba9",
   "metadata": {
    "ExecuteTime": {
     "end_time": "2021-08-31T09:11:16.511804Z",
     "start_time": "2021-08-31T09:11:16.505827Z"
    }
   },
   "outputs": [
    {
     "data": {
      "text/plain": [
       "0.8461538461538461"
      ]
     },
     "execution_count": 242,
     "metadata": {},
     "output_type": "execute_result"
    }
   ],
   "source": [
    "logreg.score(X_test,Y_test)#测试集得分"
   ]
  },
  {
   "cell_type": "code",
   "execution_count": 243,
   "id": "fcd8aa1b",
   "metadata": {
    "ExecuteTime": {
     "end_time": "2021-08-31T09:11:18.105160Z",
     "start_time": "2021-08-31T09:11:18.101112Z"
    }
   },
   "outputs": [
    {
     "data": {
      "text/plain": [
       "(123, 2)"
      ]
     },
     "execution_count": 243,
     "metadata": {},
     "output_type": "execute_result"
    }
   ],
   "source": [
    "logreg.predict_proba(X).shape"
   ]
  },
  {
   "cell_type": "code",
   "execution_count": 244,
   "id": "ad313ff3",
   "metadata": {
    "ExecuteTime": {
     "end_time": "2021-08-31T09:11:18.378415Z",
     "start_time": "2021-08-31T09:11:18.373392Z"
    }
   },
   "outputs": [
    {
     "data": {
      "text/plain": [
       "(123, 2)"
      ]
     },
     "execution_count": 244,
     "metadata": {},
     "output_type": "execute_result"
    }
   ],
   "source": [
    "logreg.predict_log_proba(X).shape"
   ]
  },
  {
   "cell_type": "code",
   "execution_count": 245,
   "id": "157502c9",
   "metadata": {
    "ExecuteTime": {
     "end_time": "2021-08-31T09:11:19.114033Z",
     "start_time": "2021-08-31T09:11:18.602284Z"
    }
   },
   "outputs": [
    {
     "data": {
      "text/plain": [
       "(array([  1.,   0.,   0.,   0.,   0.,   1.,   0.,   0.,   3., 118.]),\n",
       " array([-3.10560186e+02, -2.79506546e+02, -2.48452906e+02, -2.17399266e+02,\n",
       "        -1.86345626e+02, -1.55291986e+02, -1.24238346e+02, -9.31847061e+01,\n",
       "        -6.21310661e+01, -3.10774261e+01, -2.37861620e-02]),\n",
       " <BarContainer object of 10 artists>)"
      ]
     },
     "execution_count": 245,
     "metadata": {},
     "output_type": "execute_result"
    },
    {
     "data": {
      "image/png": "[encoded data removed]",
      "text/plain": [
       "<Figure size 864x432 with 3 Axes>"
      ]
     },
     "metadata": {},
     "output_type": "display_data"
    }
   ],
   "source": [
    "plt.figure(figsize=(12,6))\n",
    "plt.subplot(131)\n",
    "plt.scatter(logreg.predict_log_proba(X)[:,0],logreg.predict_log_proba(X)[:,1])\n",
    "plt.subplot(132)\n",
    "plt.hist(logreg.predict_log_proba(X)[:,0])#logreg.predict_log_proba(X)[:,1])\n",
    "plt.subplot(133)\n",
    "plt.hist(logreg.predict_log_proba(X)[:,1])"
   ]
  },
  {
   "cell_type": "code",
   "execution_count": 246,
   "id": "13089e78",
   "metadata": {
    "ExecuteTime": {
     "end_time": "2021-08-31T09:11:19.858567Z",
     "start_time": "2021-08-31T09:11:19.305955Z"
    }
   },
   "outputs": [
    {
     "data": {
      "text/plain": [
       "(array([55., 15.,  9., 17.,  9.,  6.,  2.,  6.,  3.,  1.]),\n",
       " array([1.33482698e-135, 9.76494499e-002, 1.95298900e-001, 2.92948350e-001,\n",
       "        3.90597800e-001, 4.88247250e-001, 5.85896699e-001, 6.83546149e-001,\n",
       "        7.81195599e-001, 8.78845049e-001, 9.76494499e-001]),\n",
       " <BarContainer object of 10 artists>)"
      ]
     },
     "execution_count": 246,
     "metadata": {},
     "output_type": "execute_result"
    },
    {
     "data": {
      "image/png": "[encoded data removed]",
      "text/plain": [
       "<Figure size 864x432 with 3 Axes>"
      ]
     },
     "metadata": {},
     "output_type": "display_data"
    }
   ],
   "source": [
    "plt.figure(figsize=(12,6))\n",
    "plt.subplot(131)\n",
    "plt.scatter(logreg.predict_proba(X)[:,1],logreg.predict_proba(X)[:,-1])\n",
    "plt.subplot(132)\n",
    "plt.hist(logreg.predict_proba(X)[:,0])\n",
    "plt.subplot(133)\n",
    "plt.hist(logreg.predict_proba(X)[:,1])"
   ]
  },
  {
   "cell_type": "code",
   "execution_count": 247,
   "id": "6389137c",
   "metadata": {
    "ExecuteTime": {
     "end_time": "2021-08-31T09:11:20.066529Z",
     "start_time": "2021-08-31T09:11:20.061069Z"
    }
   },
   "outputs": [
    {
     "data": {
      "text/plain": [
       "(array([[-25.61266403,  -5.20151557,  -0.15725379,  -0.27277005,\n",
       "           0.15366704,  -0.46857843,   0.26616055,   0.86001137,\n",
       "           0.03776194]]),\n",
       " array([-7.83177219]))"
      ]
     },
     "execution_count": 247,
     "metadata": {},
     "output_type": "execute_result"
    }
   ],
   "source": [
    "#查看回归系数\n",
    "logreg.coef_,logreg.intercept_"
   ]
  },
  {
   "cell_type": "code",
   "execution_count": 249,
   "id": "a25f334f",
   "metadata": {
    "ExecuteTime": {
     "end_time": "2021-08-31T09:11:25.050830Z",
     "start_time": "2021-08-31T09:11:24.989956Z"
    }
   },
   "outputs": [
    {
     "data": {
      "text/html": [
       "<div>\n",
       "<style scoped>\n",
       "    .dataframe tbody tr th:only-of-type {\n",
       "        vertical-align: middle;\n",
       "    }\n",
       "\n",
       "    .dataframe tbody tr th {\n",
       "        vertical-align: top;\n",
       "    }\n",
       "\n",
       "    .dataframe thead th {\n",
       "        text-align: right;\n",
       "    }\n",
       "</style>\n",
       "<table border=\"1\" class=\"dataframe\">\n",
       "  <thead>\n",
       "    <tr style=\"text-align: right;\">\n",
       "      <th></th>\n",
       "      <th>企业代号</th>\n",
       "      <th>企业名称</th>\n",
       "      <th>信誉评级</th>\n",
       "      <th>是否违约</th>\n",
       "      <th>违约概率logistics</th>\n",
       "    </tr>\n",
       "  </thead>\n",
       "  <tbody>\n",
       "    <tr>\n",
       "      <th>0</th>\n",
       "      <td>E1</td>\n",
       "      <td>***电器销售有限公司</td>\n",
       "      <td>A</td>\n",
       "      <td>否</td>\n",
       "      <td>1.334827e-135</td>\n",
       "    </tr>\n",
       "    <tr>\n",
       "      <th>1</th>\n",
       "      <td>E2</td>\n",
       "      <td>***技术有限责任公司</td>\n",
       "      <td>A</td>\n",
       "      <td>否</td>\n",
       "      <td>2.550628e-17</td>\n",
       "    </tr>\n",
       "    <tr>\n",
       "      <th>2</th>\n",
       "      <td>E3</td>\n",
       "      <td>***电子(中国)有限公司***分公司</td>\n",
       "      <td>C</td>\n",
       "      <td>否</td>\n",
       "      <td>2.537392e-16</td>\n",
       "    </tr>\n",
       "    <tr>\n",
       "      <th>3</th>\n",
       "      <td>E4</td>\n",
       "      <td>***发展有限责任公司</td>\n",
       "      <td>C</td>\n",
       "      <td>否</td>\n",
       "      <td>1.176186e-55</td>\n",
       "    </tr>\n",
       "    <tr>\n",
       "      <th>4</th>\n",
       "      <td>E5</td>\n",
       "      <td>***供应链管理有限公司</td>\n",
       "      <td>B</td>\n",
       "      <td>否</td>\n",
       "      <td>1.900200e-07</td>\n",
       "    </tr>\n",
       "    <tr>\n",
       "      <th>...</th>\n",
       "      <td>...</td>\n",
       "      <td>...</td>\n",
       "      <td>...</td>\n",
       "      <td>...</td>\n",
       "      <td>...</td>\n",
       "    </tr>\n",
       "    <tr>\n",
       "      <th>118</th>\n",
       "      <td>E119</td>\n",
       "      <td>***药房</td>\n",
       "      <td>D</td>\n",
       "      <td>是</td>\n",
       "      <td>5.029579e-01</td>\n",
       "    </tr>\n",
       "    <tr>\n",
       "      <th>119</th>\n",
       "      <td>E120</td>\n",
       "      <td>***陈列广告有限公司</td>\n",
       "      <td>D</td>\n",
       "      <td>是</td>\n",
       "      <td>9.764945e-01</td>\n",
       "    </tr>\n",
       "    <tr>\n",
       "      <th>120</th>\n",
       "      <td>E121</td>\n",
       "      <td>***药业连锁有限公司***药店</td>\n",
       "      <td>D</td>\n",
       "      <td>是</td>\n",
       "      <td>3.692718e-01</td>\n",
       "    </tr>\n",
       "    <tr>\n",
       "      <th>121</th>\n",
       "      <td>E122</td>\n",
       "      <td>***商贸有限责任公司</td>\n",
       "      <td>D</td>\n",
       "      <td>是</td>\n",
       "      <td>4.816082e-01</td>\n",
       "    </tr>\n",
       "    <tr>\n",
       "      <th>122</th>\n",
       "      <td>E123</td>\n",
       "      <td>***创科技有限责任公司</td>\n",
       "      <td>D</td>\n",
       "      <td>是</td>\n",
       "      <td>7.514572e-01</td>\n",
       "    </tr>\n",
       "  </tbody>\n",
       "</table>\n",
       "<p>123 rows × 5 columns</p>\n",
       "</div>"
      ],
      "text/plain": [
       "     企业代号                 企业名称 信誉评级 是否违约  违约概率logistics\n",
       "0      E1          ***电器销售有限公司    A    否  1.334827e-135\n",
       "1      E2          ***技术有限责任公司    A    否   2.550628e-17\n",
       "2      E3  ***电子(中国)有限公司***分公司    C    否   2.537392e-16\n",
       "3      E4          ***发展有限责任公司    C    否   1.176186e-55\n",
       "4      E5         ***供应链管理有限公司    B    否   1.900200e-07\n",
       "..    ...                  ...  ...  ...            ...\n",
       "118  E119                ***药房    D    是   5.029579e-01\n",
       "119  E120          ***陈列广告有限公司    D    是   9.764945e-01\n",
       "120  E121     ***药业连锁有限公司***药店    D    是   3.692718e-01\n",
       "121  E122          ***商贸有限责任公司    D    是   4.816082e-01\n",
       "122  E123         ***创科技有限责任公司    D    是   7.514572e-01\n",
       "\n",
       "[123 rows x 5 columns]"
      ]
     },
     "execution_count": 249,
     "metadata": {},
     "output_type": "execute_result"
    }
   ],
   "source": [
    "a11['违约概率logistics']=logreg.predict_proba(X)[:,1]\n",
    "a11.to_excel('附件1的违约概率logistics.xlsx',index=False)\n",
    "a11"
   ]
  },
  {
   "cell_type": "markdown",
   "id": "08df0ec1",
   "metadata": {},
   "source": [
    "### XGBoost"
   ]
  },
  {
   "cell_type": "code",
   "execution_count": 466,
   "id": "ca3e6b35",
   "metadata": {
    "ExecuteTime": {
     "end_time": "2021-09-01T01:23:34.015220Z",
     "start_time": "2021-09-01T01:23:33.949261Z"
    }
   },
   "outputs": [
    {
     "name": "stdout",
     "output_type": "stream",
     "text": [
      "[09:23:33] WARNING: ..\\src\\learner.cc:1061: Starting in XGBoost 1.3.0, the default evaluation metric used with the objective 'binary:logistic' was changed from 'error' to 'logloss'. Explicitly set eval_metric if you'd like to restore the old behavior.\n"
     ]
    },
    {
     "data": {
      "text/plain": [
       "(1.0, 0.92)"
      ]
     },
     "execution_count": 466,
     "metadata": {},
     "output_type": "execute_result"
    }
   ],
   "source": [
    "from xgboost.sklearn import XGBClassifier\n",
    "clf1 = XGBClassifier(n_jobs=-1)\n",
    "clf1.fit(X_train,Y_train)\n",
    "#训练集准确率#训练集准确率\n",
    "clf1.score(X_train,Y_train),clf1.score(X_test,Y_test)"
   ]
  },
  {
   "cell_type": "code",
   "execution_count": 251,
   "id": "d9080043",
   "metadata": {
    "ExecuteTime": {
     "end_time": "2021-08-31T09:16:01.948960Z",
     "start_time": "2021-08-31T09:16:01.941469Z"
    }
   },
   "outputs": [
    {
     "data": {
      "text/plain": [
       "(123, 2)"
      ]
     },
     "execution_count": 251,
     "metadata": {},
     "output_type": "execute_result"
    }
   ],
   "source": [
    "clf1.predict_proba(X).shape"
   ]
  },
  {
   "cell_type": "code",
   "execution_count": 708,
   "id": "ffe4d618",
   "metadata": {
    "ExecuteTime": {
     "end_time": "2021-09-02T07:42:18.873352Z",
     "start_time": "2021-09-02T07:42:18.856399Z"
    }
   },
   "outputs": [
    {
     "data": {
      "text/plain": [
       "array([0.39717597, 0.0932602 , 0.08058815, 0.04216314, 0.04646924,\n",
       "       0.10260215, 0.10458297, 0.10759313, 0.02556507], dtype=float32)"
      ]
     },
     "execution_count": 708,
     "metadata": {},
     "output_type": "execute_result"
    }
   ],
   "source": [
    "clf1.feature_importances_"
   ]
  },
  {
   "cell_type": "code",
   "execution_count": 253,
   "id": "67bc0643",
   "metadata": {
    "ExecuteTime": {
     "end_time": "2021-08-31T09:17:04.583761Z",
     "start_time": "2021-08-31T09:17:04.029514Z"
    }
   },
   "outputs": [
    {
     "data": {
      "text/plain": [
       "(array([92.,  3.,  0.,  2.,  0.,  0.,  0.,  2.,  6., 18.]),\n",
       " array([5.96648024e-04, 1.00341536e-01, 2.00086430e-01, 2.99831331e-01,\n",
       "        3.99576217e-01, 4.99321103e-01, 5.99066019e-01, 6.98810875e-01,\n",
       "        7.98555791e-01, 8.98300648e-01, 9.98045564e-01], dtype=float32),\n",
       " <BarContainer object of 10 artists>)"
      ]
     },
     "execution_count": 253,
     "metadata": {},
     "output_type": "execute_result"
    },
    {
     "data": {
      "image/png": "[encoded data removed]",
      "text/plain": [
       "<Figure size 864x432 with 3 Axes>"
      ]
     },
     "metadata": {},
     "output_type": "display_data"
    }
   ],
   "source": [
    "plt.figure(figsize=(12,6))\n",
    "plt.subplot(131)\n",
    "plt.scatter(clf1.predict_proba(X)[:,1],clf1.predict_proba(X)[:,-1])\n",
    "plt.subplot(132)\n",
    "plt.hist(clf1.predict_proba(X)[:,0])\n",
    "plt.subplot(133)\n",
    "plt.hist(clf1.predict_proba(X)[:,1])"
   ]
  },
  {
   "cell_type": "code",
   "execution_count": 254,
   "id": "34ea3fc2",
   "metadata": {
    "ExecuteTime": {
     "end_time": "2021-08-31T09:18:29.743421Z",
     "start_time": "2021-08-31T09:18:29.634716Z"
    }
   },
   "outputs": [
    {
     "data": {
      "text/html": [
       "<div>\n",
       "<style scoped>\n",
       "    .dataframe tbody tr th:only-of-type {\n",
       "        vertical-align: middle;\n",
       "    }\n",
       "\n",
       "    .dataframe tbody tr th {\n",
       "        vertical-align: top;\n",
       "    }\n",
       "\n",
       "    .dataframe thead th {\n",
       "        text-align: right;\n",
       "    }\n",
       "</style>\n",
       "<table border=\"1\" class=\"dataframe\">\n",
       "  <thead>\n",
       "    <tr style=\"text-align: right;\">\n",
       "      <th></th>\n",
       "      <th>企业代号</th>\n",
       "      <th>企业名称</th>\n",
       "      <th>信誉评级</th>\n",
       "      <th>是否违约</th>\n",
       "      <th>违约概率logistics</th>\n",
       "      <th>违约概率XGBoost</th>\n",
       "    </tr>\n",
       "  </thead>\n",
       "  <tbody>\n",
       "    <tr>\n",
       "      <th>0</th>\n",
       "      <td>E1</td>\n",
       "      <td>***电器销售有限公司</td>\n",
       "      <td>A</td>\n",
       "      <td>否</td>\n",
       "      <td>1.334827e-135</td>\n",
       "      <td>0.011311</td>\n",
       "    </tr>\n",
       "    <tr>\n",
       "      <th>1</th>\n",
       "      <td>E2</td>\n",
       "      <td>***技术有限责任公司</td>\n",
       "      <td>A</td>\n",
       "      <td>否</td>\n",
       "      <td>2.550628e-17</td>\n",
       "      <td>0.000637</td>\n",
       "    </tr>\n",
       "    <tr>\n",
       "      <th>2</th>\n",
       "      <td>E3</td>\n",
       "      <td>***电子(中国)有限公司***分公司</td>\n",
       "      <td>C</td>\n",
       "      <td>否</td>\n",
       "      <td>2.537392e-16</td>\n",
       "      <td>0.012899</td>\n",
       "    </tr>\n",
       "    <tr>\n",
       "      <th>3</th>\n",
       "      <td>E4</td>\n",
       "      <td>***发展有限责任公司</td>\n",
       "      <td>C</td>\n",
       "      <td>否</td>\n",
       "      <td>1.176186e-55</td>\n",
       "      <td>0.001390</td>\n",
       "    </tr>\n",
       "    <tr>\n",
       "      <th>4</th>\n",
       "      <td>E5</td>\n",
       "      <td>***供应链管理有限公司</td>\n",
       "      <td>B</td>\n",
       "      <td>否</td>\n",
       "      <td>1.900200e-07</td>\n",
       "      <td>0.070231</td>\n",
       "    </tr>\n",
       "    <tr>\n",
       "      <th>...</th>\n",
       "      <td>...</td>\n",
       "      <td>...</td>\n",
       "      <td>...</td>\n",
       "      <td>...</td>\n",
       "      <td>...</td>\n",
       "      <td>...</td>\n",
       "    </tr>\n",
       "    <tr>\n",
       "      <th>118</th>\n",
       "      <td>E119</td>\n",
       "      <td>***药房</td>\n",
       "      <td>D</td>\n",
       "      <td>是</td>\n",
       "      <td>5.029579e-01</td>\n",
       "      <td>0.984410</td>\n",
       "    </tr>\n",
       "    <tr>\n",
       "      <th>119</th>\n",
       "      <td>E120</td>\n",
       "      <td>***陈列广告有限公司</td>\n",
       "      <td>D</td>\n",
       "      <td>是</td>\n",
       "      <td>9.764945e-01</td>\n",
       "      <td>0.983970</td>\n",
       "    </tr>\n",
       "    <tr>\n",
       "      <th>120</th>\n",
       "      <td>E121</td>\n",
       "      <td>***药业连锁有限公司***药店</td>\n",
       "      <td>D</td>\n",
       "      <td>是</td>\n",
       "      <td>3.692718e-01</td>\n",
       "      <td>0.982389</td>\n",
       "    </tr>\n",
       "    <tr>\n",
       "      <th>121</th>\n",
       "      <td>E122</td>\n",
       "      <td>***商贸有限责任公司</td>\n",
       "      <td>D</td>\n",
       "      <td>是</td>\n",
       "      <td>4.816082e-01</td>\n",
       "      <td>0.962655</td>\n",
       "    </tr>\n",
       "    <tr>\n",
       "      <th>122</th>\n",
       "      <td>E123</td>\n",
       "      <td>***创科技有限责任公司</td>\n",
       "      <td>D</td>\n",
       "      <td>是</td>\n",
       "      <td>7.514572e-01</td>\n",
       "      <td>0.982377</td>\n",
       "    </tr>\n",
       "  </tbody>\n",
       "</table>\n",
       "<p>123 rows × 6 columns</p>\n",
       "</div>"
      ],
      "text/plain": [
       "     企业代号                 企业名称 信誉评级 是否违约  违约概率logistics  违约概率XGBoost\n",
       "0      E1          ***电器销售有限公司    A    否  1.334827e-135     0.011311\n",
       "1      E2          ***技术有限责任公司    A    否   2.550628e-17     0.000637\n",
       "2      E3  ***电子(中国)有限公司***分公司    C    否   2.537392e-16     0.012899\n",
       "3      E4          ***发展有限责任公司    C    否   1.176186e-55     0.001390\n",
       "4      E5         ***供应链管理有限公司    B    否   1.900200e-07     0.070231\n",
       "..    ...                  ...  ...  ...            ...          ...\n",
       "118  E119                ***药房    D    是   5.029579e-01     0.984410\n",
       "119  E120          ***陈列广告有限公司    D    是   9.764945e-01     0.983970\n",
       "120  E121     ***药业连锁有限公司***药店    D    是   3.692718e-01     0.982389\n",
       "121  E122          ***商贸有限责任公司    D    是   4.816082e-01     0.962655\n",
       "122  E123         ***创科技有限责任公司    D    是   7.514572e-01     0.982377\n",
       "\n",
       "[123 rows x 6 columns]"
      ]
     },
     "execution_count": 254,
     "metadata": {},
     "output_type": "execute_result"
    }
   ],
   "source": [
    "a11['违约概率XGBoost']=clf1.predict_proba(X)[:,1]\n",
    "a11.to_excel('附件1的违约概率logistics和XGBoost.xlsx',index=False)\n",
    "a11"
   ]
  },
  {
   "cell_type": "code",
   "execution_count": 256,
   "id": "fc71aa9d",
   "metadata": {
    "ExecuteTime": {
     "end_time": "2021-08-31T09:20:41.534288Z",
     "start_time": "2021-08-31T09:20:41.518333Z"
    }
   },
   "outputs": [
    {
     "data": {
      "text/plain": [
       "array([0.4656755 , 0.06263819, 0.08721664, 0.03586894, 0.02949104,\n",
       "       0.06882296, 0.11149567, 0.09946601, 0.0393251 ], dtype=float32)"
      ]
     },
     "execution_count": 256,
     "metadata": {},
     "output_type": "execute_result"
    }
   ],
   "source": [
    "clf1.feature_importances_"
   ]
  },
  {
   "cell_type": "code",
   "execution_count": 259,
   "id": "b084f509",
   "metadata": {
    "ExecuteTime": {
     "end_time": "2021-08-31T10:00:03.195554Z",
     "start_time": "2021-08-31T10:00:03.183584Z"
    }
   },
   "outputs": [
    {
     "data": {
      "text/plain": [
       "[('A', 0, 27), ('B', 1, 38), ('C', 2, 34), ('D', 24, 24)]"
      ]
     },
     "execution_count": 259,
     "metadata": {},
     "output_type": "execute_result"
    }
   ],
   "source": [
    "[(rank,rank_data['是否违约'][rank_data['是否违约']=='是'].count(),rank_data['是否违约'].count())for rank,rank_data in a11.groupby('信誉评级')]"
   ]
  },
  {
   "cell_type": "markdown",
   "id": "89235d12",
   "metadata": {},
   "source": [
    "### MLP"
   ]
  },
  {
   "cell_type": "code",
   "execution_count": 636,
   "id": "62fc7ea4",
   "metadata": {
    "ExecuteTime": {
     "end_time": "2021-09-01T13:28:48.367520Z",
     "start_time": "2021-09-01T13:28:48.302658Z"
    }
   },
   "outputs": [
    {
     "name": "stdout",
     "output_type": "stream",
     "text": [
      "0.9081632653061225\n",
      "0.84\n"
     ]
    }
   ],
   "source": [
    "from sklearn.neural_network import MLPClassifier\n",
    "\n",
    "md = MLPClassifier(solver='lbfgs', alpha=1e-5,hidden_layer_sizes=(10,3))\n",
    "md.fit(X_train, Y_train); \n",
    "print(md.score(X_train,Y_train));print(md.score(X_test,Y_test));"
   ]
  },
  {
   "cell_type": "code",
   "execution_count": 638,
   "id": "bbae916a",
   "metadata": {
    "ExecuteTime": {
     "end_time": "2021-09-01T13:59:16.678948Z",
     "start_time": "2021-09-01T13:59:16.672966Z"
    }
   },
   "outputs": [
    {
     "data": {
      "text/plain": [
       "(10, 3)"
      ]
     },
     "execution_count": 638,
     "metadata": {},
     "output_type": "execute_result"
    }
   ],
   "source": [
    "md.hi"
   ]
  },
  {
   "cell_type": "code",
   "execution_count": 394,
   "id": "f53ebb17",
   "metadata": {
    "ExecuteTime": {
     "end_time": "2021-08-31T12:09:36.126789Z",
     "start_time": "2021-08-31T12:09:36.116815Z"
    },
    "collapsed": true
   },
   "outputs": [
    {
     "data": {
      "text/plain": [
       "array([[1.00000000e+000, 0.00000000e+000],\n",
       "       [1.00000000e+000, 0.00000000e+000],\n",
       "       [1.00000000e+000, 1.07040812e-032],\n",
       "       [1.00000000e+000, 0.00000000e+000],\n",
       "       [1.00000000e+000, 0.00000000e+000],\n",
       "       [1.00000000e+000, 1.36255808e-227],\n",
       "       [1.00000000e+000, 1.34013120e-232],\n",
       "       [1.00000000e+000, 2.35152345e-155],\n",
       "       [9.99999978e-001, 2.23159271e-008],\n",
       "       [1.00000000e+000, 0.00000000e+000],\n",
       "       [1.00000000e+000, 0.00000000e+000],\n",
       "       [1.00000000e+000, 3.75708300e-293],\n",
       "       [8.04692557e-001, 1.95307443e-001],\n",
       "       [1.00000000e+000, 0.00000000e+000],\n",
       "       [1.00000000e+000, 1.42367370e-189],\n",
       "       [8.07291640e-001, 1.92708360e-001],\n",
       "       [1.00000000e+000, 1.58710913e-111],\n",
       "       [1.00000000e+000, 1.61982927e-149],\n",
       "       [8.06961652e-001, 1.93038348e-001],\n",
       "       [1.00000000e+000, 0.00000000e+000],\n",
       "       [1.00000000e+000, 0.00000000e+000],\n",
       "       [1.00000000e+000, 1.60259810e-226],\n",
       "       [1.00000000e+000, 1.11733547e-129],\n",
       "       [1.00000000e+000, 1.20423467e-082],\n",
       "       [7.93996941e-001, 2.06003059e-001],\n",
       "       [1.00000000e+000, 1.45211501e-036],\n",
       "       [1.00000000e+000, 3.55679677e-045],\n",
       "       [1.00000000e+000, 0.00000000e+000],\n",
       "       [1.31917177e-001, 8.68082823e-001],\n",
       "       [1.00000000e+000, 5.10834388e-040],\n",
       "       [7.69066203e-001, 2.30933797e-001],\n",
       "       [1.00000000e+000, 6.72332156e-102],\n",
       "       [1.00000000e+000, 0.00000000e+000],\n",
       "       [1.00000000e+000, 0.00000000e+000],\n",
       "       [1.00000000e+000, 3.20850691e-300],\n",
       "       [6.15068542e-001, 3.84931458e-001],\n",
       "       [1.00000000e+000, 1.11944137e-031],\n",
       "       [1.00000000e+000, 4.00586041e-220],\n",
       "       [8.07291640e-001, 1.92708360e-001],\n",
       "       [1.00000000e+000, 1.97481106e-115],\n",
       "       [1.00000000e+000, 8.09454026e-013],\n",
       "       [8.07291640e-001, 1.92708360e-001],\n",
       "       [1.00000000e+000, 0.00000000e+000],\n",
       "       [8.07291640e-001, 1.92708360e-001],\n",
       "       [8.00528030e-001, 1.99471970e-001],\n",
       "       [5.03156746e-002, 9.49684325e-001],\n",
       "       [1.00000000e+000, 6.64200847e-015],\n",
       "       [9.99999959e-001, 4.08213720e-008],\n",
       "       [1.00000000e+000, 7.44454646e-190],\n",
       "       [1.00000000e+000, 7.33472032e-220],\n",
       "       [8.07291640e-001, 1.92708360e-001],\n",
       "       [2.50945496e-001, 7.49054504e-001],\n",
       "       [1.00000000e+000, 2.57979007e-027],\n",
       "       [1.00000000e+000, 7.10148800e-143],\n",
       "       [1.00000000e+000, 2.26565923e-116],\n",
       "       [1.00000000e+000, 1.75260374e-056],\n",
       "       [3.92551276e-001, 6.07448724e-001],\n",
       "       [7.64480229e-002, 9.23551977e-001],\n",
       "       [1.00000000e+000, 2.96559560e-021],\n",
       "       [3.90104845e-001, 6.09895155e-001],\n",
       "       [7.84352343e-001, 2.15647657e-001],\n",
       "       [1.55676241e-001, 8.44323759e-001],\n",
       "       [1.00000000e+000, 5.60677095e-054],\n",
       "       [8.07291640e-001, 1.92708360e-001],\n",
       "       [8.06679384e-001, 1.93320616e-001],\n",
       "       [1.00000000e+000, 0.00000000e+000],\n",
       "       [1.00000000e+000, 3.88541215e-062],\n",
       "       [8.07291640e-001, 1.92708360e-001],\n",
       "       [8.07291640e-001, 1.92708360e-001],\n",
       "       [7.68598930e-001, 2.31401070e-001],\n",
       "       [1.00000000e+000, 1.88848834e-127],\n",
       "       [1.00000000e+000, 6.55484900e-139],\n",
       "       [8.07291640e-001, 1.92708360e-001],\n",
       "       [8.07291640e-001, 1.92708360e-001],\n",
       "       [7.75511593e-001, 2.24488407e-001],\n",
       "       [8.07291640e-001, 1.92708360e-001],\n",
       "       [9.99957657e-001, 4.23430074e-005],\n",
       "       [8.07291640e-001, 1.92708360e-001],\n",
       "       [6.70242907e-001, 3.29757093e-001],\n",
       "       [9.99999999e-001, 7.27490878e-010],\n",
       "       [1.00000000e+000, 1.12235403e-021],\n",
       "       [7.69105296e-001, 2.30894704e-001],\n",
       "       [1.00000000e+000, 4.01601759e-293],\n",
       "       [8.05375541e-001, 1.94624459e-001],\n",
       "       [8.07291640e-001, 1.92708360e-001],\n",
       "       [1.02540165e-004, 9.99897460e-001],\n",
       "       [7.72668581e-001, 2.27331419e-001],\n",
       "       [8.07291640e-001, 1.92708360e-001],\n",
       "       [8.07291640e-001, 1.92708360e-001],\n",
       "       [5.86694391e-001, 4.13305609e-001],\n",
       "       [1.00000000e+000, 2.39020401e-085],\n",
       "       [7.60342934e-001, 2.39657066e-001],\n",
       "       [8.07291640e-001, 1.92708360e-001],\n",
       "       [7.52599527e-001, 2.47400473e-001],\n",
       "       [8.07291640e-001, 1.92708360e-001],\n",
       "       [8.07199917e-001, 1.92800083e-001],\n",
       "       [8.07291640e-001, 1.92708360e-001],\n",
       "       [7.56551855e-001, 2.43448145e-001],\n",
       "       [2.51653851e-002, 9.74834615e-001],\n",
       "       [8.07628452e-001, 1.92371548e-001],\n",
       "       [2.53883721e-001, 7.46116279e-001],\n",
       "       [7.92493188e-001, 2.07506812e-001],\n",
       "       [6.79272236e-001, 3.20727764e-001],\n",
       "       [8.07291640e-001, 1.92708360e-001],\n",
       "       [8.07291640e-001, 1.92708360e-001],\n",
       "       [7.99164705e-001, 2.00835295e-001],\n",
       "       [1.24729234e-004, 9.99875271e-001],\n",
       "       [8.07291640e-001, 1.92708360e-001],\n",
       "       [2.08178600e-001, 7.91821400e-001],\n",
       "       [8.06344587e-001, 1.93655413e-001],\n",
       "       [1.00000000e+000, 3.63950727e-033],\n",
       "       [9.57947324e-003, 9.90420527e-001],\n",
       "       [1.21894952e-002, 9.87810505e-001],\n",
       "       [1.00657479e-001, 8.99342521e-001],\n",
       "       [1.55358920e-001, 8.44641080e-001],\n",
       "       [8.07291640e-001, 1.92708360e-001],\n",
       "       [1.47491024e-001, 8.52508976e-001],\n",
       "       [5.63779736e-001, 4.36220264e-001],\n",
       "       [3.87861626e-001, 6.12138374e-001],\n",
       "       [7.87824502e-004, 9.99212175e-001],\n",
       "       [8.07291640e-001, 1.92708360e-001],\n",
       "       [4.18098897e-001, 5.81901103e-001],\n",
       "       [3.06181316e-002, 9.69381868e-001]])"
      ]
     },
     "execution_count": 394,
     "metadata": {},
     "output_type": "execute_result"
    }
   ],
   "source": [
    "md.predict_proba(X)"
   ]
  },
  {
   "cell_type": "code",
   "execution_count": 407,
   "id": "64b57a94",
   "metadata": {
    "ExecuteTime": {
     "end_time": "2021-08-31T12:11:01.344634Z",
     "start_time": "2021-08-31T12:11:00.861934Z"
    }
   },
   "outputs": [
    {
     "data": {
      "text/plain": [
       "(array([78.,  4., 12.,  3.,  1.,  1.,  2.,  0.,  3., 19.]),\n",
       " array([7.16679233e-199, 1.00000000e-001, 2.00000000e-001, 3.00000000e-001,\n",
       "        4.00000000e-001, 5.00000000e-001, 6.00000000e-001, 7.00000000e-001,\n",
       "        8.00000000e-001, 9.00000000e-001, 1.00000000e+000]),\n",
       " <BarContainer object of 10 artists>)"
      ]
     },
     "execution_count": 407,
     "metadata": {},
     "output_type": "execute_result"
    },
    {
     "data": {
      "image/png": "[encoded data removed]",
      "text/plain": [
       "<Figure size 864x432 with 3 Axes>"
      ]
     },
     "metadata": {},
     "output_type": "display_data"
    }
   ],
   "source": [
    "plt.figure(figsize=(12,6))\n",
    "plt.subplot(131)\n",
    "plt.scatter(md.predict_proba(X)[:,1],md.predict_proba(X)[:,-1])\n",
    "plt.subplot(132)\n",
    "plt.hist(md.predict_proba(X)[:,0],bins=10)\n",
    "plt.subplot(133)\n",
    "plt.hist(md.predict_proba(X)[:,1])"
   ]
  },
  {
   "cell_type": "markdown",
   "id": "11e01302",
   "metadata": {},
   "source": [
    "# 信誉评级"
   ]
  },
  {
   "cell_type": "code",
   "execution_count": 673,
   "id": "9777ad8c",
   "metadata": {
    "ExecuteTime": {
     "end_time": "2021-09-02T02:54:10.283317Z",
     "start_time": "2021-09-02T02:54:10.267350Z"
    }
   },
   "outputs": [
    {
     "name": "stdout",
     "output_type": "stream",
     "text": [
      "<class 'pandas.core.frame.DataFrame'>\n",
      "RangeIndex: 123 entries, 0 to 122\n",
      "Data columns (total 6 columns):\n",
      " #   Column         Non-Null Count  Dtype  \n",
      "---  ------         --------------  -----  \n",
      " 0   企业代号           123 non-null    object \n",
      " 1   企业名称           123 non-null    object \n",
      " 2   信誉评级           123 non-null    object \n",
      " 3   是否违约           123 non-null    object \n",
      " 4   违约概率logistics  123 non-null    float64\n",
      " 5   违约概率XGBoost    123 non-null    float32\n",
      "dtypes: float32(1), float64(1), object(4)\n",
      "memory usage: 5.4+ KB\n"
     ]
    }
   ],
   "source": [
    "a11.info()"
   ]
  },
  {
   "cell_type": "code",
   "execution_count": 677,
   "id": "243bdbd5",
   "metadata": {
    "ExecuteTime": {
     "end_time": "2021-09-02T02:55:36.159371Z",
     "start_time": "2021-09-02T02:55:36.140577Z"
    }
   },
   "outputs": [
    {
     "data": {
      "text/plain": [
       "信誉评级\n",
       "B     1\n",
       "C     2\n",
       "D    24\n",
       "dtype: int64"
      ]
     },
     "execution_count": 677,
     "metadata": {},
     "output_type": "execute_result"
    }
   ],
   "source": [
    "a11[a11['是否违约']=='是'].groupby('信誉评级').size()"
   ]
  },
  {
   "cell_type": "code",
   "execution_count": 684,
   "id": "76c223a2",
   "metadata": {
    "ExecuteTime": {
     "end_time": "2021-09-02T03:20:43.185578Z",
     "start_time": "2021-09-02T03:20:43.157653Z"
    }
   },
   "outputs": [
    {
     "data": {
      "text/html": [
       "<div>\n",
       "<style scoped>\n",
       "    .dataframe tbody tr th:only-of-type {\n",
       "        vertical-align: middle;\n",
       "    }\n",
       "\n",
       "    .dataframe tbody tr th {\n",
       "        vertical-align: top;\n",
       "    }\n",
       "\n",
       "    .dataframe thead th {\n",
       "        text-align: right;\n",
       "    }\n",
       "</style>\n",
       "<table border=\"1\" class=\"dataframe\">\n",
       "  <thead>\n",
       "    <tr style=\"text-align: right;\">\n",
       "      <th></th>\n",
       "      <th>销售收入</th>\n",
       "      <th>进货支出</th>\n",
       "      <th>收入进步因子</th>\n",
       "      <th>进项负数发票占比</th>\n",
       "      <th>进项作废发票占比</th>\n",
       "      <th>供方市场集中度</th>\n",
       "      <th>销项负数发票占比</th>\n",
       "      <th>销项作废发票占比</th>\n",
       "      <th>需方市场集中度</th>\n",
       "      <th>A</th>\n",
       "      <th>B</th>\n",
       "      <th>C</th>\n",
       "      <th>D</th>\n",
       "    </tr>\n",
       "    <tr>\n",
       "      <th>企业代号</th>\n",
       "      <th></th>\n",
       "      <th></th>\n",
       "      <th></th>\n",
       "      <th></th>\n",
       "      <th></th>\n",
       "      <th></th>\n",
       "      <th></th>\n",
       "      <th></th>\n",
       "      <th></th>\n",
       "      <th></th>\n",
       "      <th></th>\n",
       "      <th></th>\n",
       "      <th></th>\n",
       "    </tr>\n",
       "  </thead>\n",
       "  <tbody>\n",
       "    <tr>\n",
       "      <th>E1</th>\n",
       "      <td>9.570315</td>\n",
       "      <td>10.979130</td>\n",
       "      <td>-0.248520</td>\n",
       "      <td>1.064436</td>\n",
       "      <td>1.057429</td>\n",
       "      <td>-0.682533</td>\n",
       "      <td>0.130129</td>\n",
       "      <td>-0.855291</td>\n",
       "      <td>-0.772359</td>\n",
       "      <td>A</td>\n",
       "      <td>0</td>\n",
       "      <td>0</td>\n",
       "      <td>0</td>\n",
       "    </tr>\n",
       "    <tr>\n",
       "      <th>E2</th>\n",
       "      <td>1.158719</td>\n",
       "      <td>0.130766</td>\n",
       "      <td>-0.199667</td>\n",
       "      <td>-0.141002</td>\n",
       "      <td>-0.204031</td>\n",
       "      <td>-0.315321</td>\n",
       "      <td>0.132387</td>\n",
       "      <td>-0.350663</td>\n",
       "      <td>1.649774</td>\n",
       "      <td>A</td>\n",
       "      <td>0</td>\n",
       "      <td>0</td>\n",
       "      <td>0</td>\n",
       "    </tr>\n",
       "    <tr>\n",
       "      <th>E3</th>\n",
       "      <td>1.134189</td>\n",
       "      <td>-0.053591</td>\n",
       "      <td>-0.532965</td>\n",
       "      <td>-0.076144</td>\n",
       "      <td>0.556137</td>\n",
       "      <td>-0.665053</td>\n",
       "      <td>3.938355</td>\n",
       "      <td>-0.963183</td>\n",
       "      <td>-0.772307</td>\n",
       "      <td>C</td>\n",
       "      <td>0</td>\n",
       "      <td>1</td>\n",
       "      <td>0</td>\n",
       "    </tr>\n",
       "    <tr>\n",
       "      <th>E4</th>\n",
       "      <td>4.542379</td>\n",
       "      <td>0.467584</td>\n",
       "      <td>-0.729142</td>\n",
       "      <td>0.035978</td>\n",
       "      <td>1.454680</td>\n",
       "      <td>-0.476139</td>\n",
       "      <td>-0.450515</td>\n",
       "      <td>-0.321326</td>\n",
       "      <td>-0.762571</td>\n",
       "      <td>C</td>\n",
       "      <td>0</td>\n",
       "      <td>1</td>\n",
       "      <td>0</td>\n",
       "    </tr>\n",
       "    <tr>\n",
       "      <th>E5</th>\n",
       "      <td>0.232483</td>\n",
       "      <td>0.228119</td>\n",
       "      <td>1.205426</td>\n",
       "      <td>0.122309</td>\n",
       "      <td>0.429674</td>\n",
       "      <td>-0.660637</td>\n",
       "      <td>-0.320966</td>\n",
       "      <td>-0.630113</td>\n",
       "      <td>-0.758200</td>\n",
       "      <td>B</td>\n",
       "      <td>1</td>\n",
       "      <td>0</td>\n",
       "      <td>0</td>\n",
       "    </tr>\n",
       "    <tr>\n",
       "      <th>...</th>\n",
       "      <td>...</td>\n",
       "      <td>...</td>\n",
       "      <td>...</td>\n",
       "      <td>...</td>\n",
       "      <td>...</td>\n",
       "      <td>...</td>\n",
       "      <td>...</td>\n",
       "      <td>...</td>\n",
       "      <td>...</td>\n",
       "      <td>...</td>\n",
       "      <td>...</td>\n",
       "      <td>...</td>\n",
       "      <td>...</td>\n",
       "    </tr>\n",
       "    <tr>\n",
       "      <th>E119</th>\n",
       "      <td>-0.265049</td>\n",
       "      <td>-0.146033</td>\n",
       "      <td>-0.047169</td>\n",
       "      <td>-0.269072</td>\n",
       "      <td>-0.931496</td>\n",
       "      <td>-0.642570</td>\n",
       "      <td>-0.547296</td>\n",
       "      <td>0.214032</td>\n",
       "      <td>0.482772</td>\n",
       "      <td>D</td>\n",
       "      <td>0</td>\n",
       "      <td>0</td>\n",
       "      <td>1</td>\n",
       "    </tr>\n",
       "    <tr>\n",
       "      <th>E120</th>\n",
       "      <td>-0.264723</td>\n",
       "      <td>-0.146387</td>\n",
       "      <td>-0.401996</td>\n",
       "      <td>-0.511547</td>\n",
       "      <td>-0.001604</td>\n",
       "      <td>1.277696</td>\n",
       "      <td>-0.547296</td>\n",
       "      <td>5.287957</td>\n",
       "      <td>0.290624</td>\n",
       "      <td>D</td>\n",
       "      <td>0</td>\n",
       "      <td>0</td>\n",
       "      <td>1</td>\n",
       "    </tr>\n",
       "    <tr>\n",
       "      <th>E121</th>\n",
       "      <td>-0.264884</td>\n",
       "      <td>-0.144416</td>\n",
       "      <td>-0.484994</td>\n",
       "      <td>1.016047</td>\n",
       "      <td>-1.051483</td>\n",
       "      <td>-0.567873</td>\n",
       "      <td>-0.547296</td>\n",
       "      <td>0.035857</td>\n",
       "      <td>-0.739993</td>\n",
       "      <td>D</td>\n",
       "      <td>0</td>\n",
       "      <td>0</td>\n",
       "      <td>1</td>\n",
       "    </tr>\n",
       "    <tr>\n",
       "      <th>E122</th>\n",
       "      <td>-0.264946</td>\n",
       "      <td>-0.146347</td>\n",
       "      <td>-0.694608</td>\n",
       "      <td>1.079697</td>\n",
       "      <td>-0.264073</td>\n",
       "      <td>-0.089815</td>\n",
       "      <td>1.079207</td>\n",
       "      <td>0.146628</td>\n",
       "      <td>-0.492681</td>\n",
       "      <td>D</td>\n",
       "      <td>0</td>\n",
       "      <td>0</td>\n",
       "      <td>1</td>\n",
       "    </tr>\n",
       "    <tr>\n",
       "      <th>E123</th>\n",
       "      <td>-0.264578</td>\n",
       "      <td>-0.146434</td>\n",
       "      <td>-0.295083</td>\n",
       "      <td>-0.511547</td>\n",
       "      <td>-1.051483</td>\n",
       "      <td>3.128242</td>\n",
       "      <td>-0.547296</td>\n",
       "      <td>3.456703</td>\n",
       "      <td>0.378095</td>\n",
       "      <td>D</td>\n",
       "      <td>0</td>\n",
       "      <td>0</td>\n",
       "      <td>1</td>\n",
       "    </tr>\n",
       "  </tbody>\n",
       "</table>\n",
       "<p>123 rows × 13 columns</p>\n",
       "</div>"
      ],
      "text/plain": [
       "          销售收入       进货支出    收入进步因子  进项负数发票占比  进项作废发票占比   供方市场集中度  销项负数发票占比  \\\n",
       "企业代号                                                                          \n",
       "E1    9.570315  10.979130 -0.248520  1.064436  1.057429 -0.682533  0.130129   \n",
       "E2    1.158719   0.130766 -0.199667 -0.141002 -0.204031 -0.315321  0.132387   \n",
       "E3    1.134189  -0.053591 -0.532965 -0.076144  0.556137 -0.665053  3.938355   \n",
       "E4    4.542379   0.467584 -0.729142  0.035978  1.454680 -0.476139 -0.450515   \n",
       "E5    0.232483   0.228119  1.205426  0.122309  0.429674 -0.660637 -0.320966   \n",
       "...        ...        ...       ...       ...       ...       ...       ...   \n",
       "E119 -0.265049  -0.146033 -0.047169 -0.269072 -0.931496 -0.642570 -0.547296   \n",
       "E120 -0.264723  -0.146387 -0.401996 -0.511547 -0.001604  1.277696 -0.547296   \n",
       "E121 -0.264884  -0.144416 -0.484994  1.016047 -1.051483 -0.567873 -0.547296   \n",
       "E122 -0.264946  -0.146347 -0.694608  1.079697 -0.264073 -0.089815  1.079207   \n",
       "E123 -0.264578  -0.146434 -0.295083 -0.511547 -1.051483  3.128242 -0.547296   \n",
       "\n",
       "      销项作废发票占比   需方市场集中度  A  B  C  D  \n",
       "企业代号                                  \n",
       "E1   -0.855291 -0.772359  A  0  0  0  \n",
       "E2   -0.350663  1.649774  A  0  0  0  \n",
       "E3   -0.963183 -0.772307  C  0  1  0  \n",
       "E4   -0.321326 -0.762571  C  0  1  0  \n",
       "E5   -0.630113 -0.758200  B  1  0  0  \n",
       "...        ...       ... .. .. .. ..  \n",
       "E119  0.214032  0.482772  D  0  0  1  \n",
       "E120  5.287957  0.290624  D  0  0  1  \n",
       "E121  0.035857 -0.739993  D  0  0  1  \n",
       "E122  0.146628 -0.492681  D  0  0  1  \n",
       "E123  3.456703  0.378095  D  0  0  1  \n",
       "\n",
       "[123 rows x 13 columns]"
      ]
     },
     "execution_count": 684,
     "metadata": {},
     "output_type": "execute_result"
    }
   ],
   "source": [
    "z_1[\"A\"]=a11['信誉评级'].values\n",
    "z_1"
   ]
  },
  {
   "cell_type": "code",
   "execution_count": 690,
   "id": "a13249f5",
   "metadata": {
    "ExecuteTime": {
     "end_time": "2021-09-02T03:25:50.843714Z",
     "start_time": "2021-09-02T03:25:50.801305Z"
    }
   },
   "outputs": [
    {
     "data": {
      "text/html": [
       "<div>\n",
       "<style scoped>\n",
       "    .dataframe tbody tr th:only-of-type {\n",
       "        vertical-align: middle;\n",
       "    }\n",
       "\n",
       "    .dataframe tbody tr th {\n",
       "        vertical-align: top;\n",
       "    }\n",
       "\n",
       "    .dataframe thead th {\n",
       "        text-align: right;\n",
       "    }\n",
       "</style>\n",
       "<table border=\"1\" class=\"dataframe\">\n",
       "  <thead>\n",
       "    <tr style=\"text-align: right;\">\n",
       "      <th></th>\n",
       "      <th>0</th>\n",
       "      <th>1</th>\n",
       "    </tr>\n",
       "  </thead>\n",
       "  <tbody>\n",
       "    <tr>\n",
       "      <th>0</th>\n",
       "      <td>A</td>\n",
       "      <td>销售收入        0.449264\n",
       "进货支出        0.370637\n",
       "收入进步...</td>\n",
       "    </tr>\n",
       "    <tr>\n",
       "      <th>1</th>\n",
       "      <td>B</td>\n",
       "      <td>销售收入       -0.138899\n",
       "进货支出       -0.086074\n",
       "收入进步...</td>\n",
       "    </tr>\n",
       "    <tr>\n",
       "      <th>2</th>\n",
       "      <td>C</td>\n",
       "      <td>销售收入       -0.019524\n",
       "进货支出       -0.097704\n",
       "收入进步...</td>\n",
       "    </tr>\n",
       "    <tr>\n",
       "      <th>3</th>\n",
       "      <td>D</td>\n",
       "      <td>销售收入       -0.257840\n",
       "进货支出       -0.142269\n",
       "收入进步...</td>\n",
       "    </tr>\n",
       "  </tbody>\n",
       "</table>\n",
       "</div>"
      ],
      "text/plain": [
       "   0                                                  1\n",
       "0  A  销售收入        0.449264\n",
       "进货支出        0.370637\n",
       "收入进步...\n",
       "1  B  销售收入       -0.138899\n",
       "进货支出       -0.086074\n",
       "收入进步...\n",
       "2  C  销售收入       -0.019524\n",
       "进货支出       -0.097704\n",
       "收入进步...\n",
       "3  D  销售收入       -0.257840\n",
       "进货支出       -0.142269\n",
       "收入进步..."
      ]
     },
     "execution_count": 690,
     "metadata": {},
     "output_type": "execute_result"
    }
   ],
   "source": [
    "pd.DataFrame(\n",
    "    np.array([(rank, rank_data.agg(np.mean))\n",
    "              for rank, rank_data in z_1.iloc[:, :-3].groupby(\"A\")\n",
    "              ])).to_csv('信誉评级数据分析.csv', index=False)\n",
    "pd.DataFrame(\n",
    "    np.array([(rank, rank_data.agg(np.mean))\n",
    "              for rank, rank_data in z_1.iloc[:, :-3].groupby(\"A\")]))"
   ]
  },
  {
   "cell_type": "code",
   "execution_count": 697,
   "id": "12c9a268",
   "metadata": {
    "ExecuteTime": {
     "end_time": "2021-09-02T03:42:59.237390Z",
     "start_time": "2021-09-02T03:42:59.221544Z"
    },
    "collapsed": true
   },
   "outputs": [
    {
     "data": {
      "text/plain": [
       "array([['A',\n",
       "        销售收入        0.023484\n",
       "进货支出       -0.103335\n",
       "收入进步因子     -0.321761\n",
       "进项负数发票占比   -0.202317\n",
       "进项作废发票占比    0.023275\n",
       "供方市场集中度    -0.605608\n",
       "销项负数发票占比   -0.307387\n",
       "销项作废发票占比   -0.353550\n",
       "需方市场集中度    -0.659360\n",
       "dtype: float64],\n",
       "       ['B',\n",
       "        销售收入       -0.211330\n",
       "进货支出       -0.135957\n",
       "收入进步因子     -0.228252\n",
       "进项负数发票占比   -0.190632\n",
       "进项作废发票占比   -0.082932\n",
       "供方市场集中度    -0.458439\n",
       "销项负数发票占比   -0.328133\n",
       "销项作废发票占比   -0.393339\n",
       "需方市场集中度    -0.239874\n",
       "dtype: float64],\n",
       "       ['C',\n",
       "        销售收入       -0.230945\n",
       "进货支出       -0.142109\n",
       "收入进步因子     -0.194448\n",
       "进项负数发票占比   -0.324306\n",
       "进项作废发票占比   -0.258879\n",
       "供方市场集中度    -0.388208\n",
       "销项负数发票占比    0.007426\n",
       "销项作废发票占比   -0.300805\n",
       "需方市场集中度    -0.526968\n",
       "dtype: float64],\n",
       "       ['D',\n",
       "        销售收入       -0.263949\n",
       "进货支出       -0.146098\n",
       "收入进步因子     -0.367016\n",
       "进项负数发票占比   -0.511547\n",
       "进项作废发票占比   -0.618237\n",
       "供方市场集中度    -0.153811\n",
       "销项负数发票占比   -0.477351\n",
       "销项作废发票占比    0.467060\n",
       "需方市场集中度    -0.212368\n",
       "dtype: float64]], dtype=object)"
      ]
     },
     "execution_count": 697,
     "metadata": {},
     "output_type": "execute_result"
    }
   ],
   "source": [
    "np.array(\n",
    "        [(rank, rank_data.agg(np.median))\n",
    "              for rank, rank_data in z_1.iloc[:, :-3].groupby(\"A\")\n",
    "              ])"
   ]
  },
  {
   "cell_type": "code",
   "execution_count": 701,
   "id": "23b6cad3",
   "metadata": {
    "ExecuteTime": {
     "end_time": "2021-09-02T03:43:44.335346Z",
     "start_time": "2021-09-02T03:43:44.291457Z"
    }
   },
   "outputs": [],
   "source": [
    "pd.DataFrame(\n",
    "    np.array(\n",
    "        [(rank, rank_data.agg(np.median))\n",
    "              for rank, rank_data in z_1.iloc[:, :-3].groupby(\"A\")\n",
    "              ])\n",
    "    ).to_excel('信誉评级数据分析.xlsx', index=False)\n",
    "# pd.DataFrame(\n",
    "#     np.array(\n",
    "#         [(rank, rank_data.agg(np.median))\n",
    "#               for rank, rank_data in z_1.iloc[:, :-3].groupby(\"A\")])\n",
    "# )"
   ]
  },
  {
   "cell_type": "code",
   "execution_count": null,
   "id": "33ff554c",
   "metadata": {},
   "outputs": [],
   "source": [
    "print(['fizzbuzz' if (i % 5 == 0 and i % 3 == 0)\n",
    "        else 'fizz' if i % 5 == 0 \n",
    "        else 'buzz' if i % 3 == 0 \n",
    "        else i for i in range(1, 100)])"
   ]
  },
  {
   "cell_type": "code",
   "execution_count": 412,
   "id": "4b8947bb",
   "metadata": {
    "ExecuteTime": {
     "end_time": "2021-08-31T12:15:42.329860Z",
     "start_time": "2021-08-31T12:15:42.321921Z"
    },
    "collapsed": true
   },
   "outputs": [
    {
     "data": {
      "text/plain": [
       "[0,\n",
       " 0,\n",
       " 2,\n",
       " 2,\n",
       " 1,\n",
       " 0,\n",
       " 0,\n",
       " 0,\n",
       " 0,\n",
       " 1,\n",
       " 2,\n",
       " 1,\n",
       " 0,\n",
       " 2,\n",
       " 0,\n",
       " 0,\n",
       " 0,\n",
       " 0,\n",
       " 0,\n",
       " 1,\n",
       " 1,\n",
       " 0,\n",
       " 1,\n",
       " 0,\n",
       " 2,\n",
       " 0,\n",
       " 0,\n",
       " 1,\n",
       " 2,\n",
       " 1,\n",
       " 0,\n",
       " 1,\n",
       " 1,\n",
       " 1,\n",
       " 1,\n",
       " 3,\n",
       " 1,\n",
       " 1,\n",
       " 2,\n",
       " 2,\n",
       " 2,\n",
       " 0,\n",
       " 1,\n",
       " 2,\n",
       " 1,\n",
       " 2,\n",
       " 2,\n",
       " 0,\n",
       " 2,\n",
       " 2,\n",
       " 1,\n",
       " 3,\n",
       " 2,\n",
       " 0,\n",
       " 2,\n",
       " 2,\n",
       " 1,\n",
       " 1,\n",
       " 0,\n",
       " 1,\n",
       " 1,\n",
       " 1,\n",
       " 1,\n",
       " 0,\n",
       " 1,\n",
       " 1,\n",
       " 1,\n",
       " 2,\n",
       " 2,\n",
       " 1,\n",
       " 1,\n",
       " 2,\n",
       " 2,\n",
       " 1,\n",
       " 2,\n",
       " 1,\n",
       " 2,\n",
       " 2,\n",
       " 1,\n",
       " 2,\n",
       " 0,\n",
       " 3,\n",
       " 1,\n",
       " 0,\n",
       " 1,\n",
       " 2,\n",
       " 2,\n",
       " 0,\n",
       " 0,\n",
       " 2,\n",
       " 0,\n",
       " 2,\n",
       " 1,\n",
       " 2,\n",
       " 1,\n",
       " 2,\n",
       " 1,\n",
       " 1,\n",
       " 3,\n",
       " 3,\n",
       " 3,\n",
       " 3,\n",
       " 3,\n",
       " 2,\n",
       " 2,\n",
       " 1,\n",
       " 3,\n",
       " 3,\n",
       " 3,\n",
       " 2,\n",
       " 3,\n",
       " 3,\n",
       " 3,\n",
       " 3,\n",
       " 3,\n",
       " 3,\n",
       " 3,\n",
       " 3,\n",
       " 3,\n",
       " 3,\n",
       " 3,\n",
       " 3,\n",
       " 3]"
      ]
     },
     "execution_count": 412,
     "metadata": {},
     "output_type": "execute_result"
    }
   ],
   "source": [
    "rank=[0 if  i== 'A'  else 1 if i=='B'else 2  if i=='C' else 3  for  i  in a11['信誉评级']]\n",
    "rank"
   ]
  },
  {
   "cell_type": "code",
   "execution_count": 413,
   "id": "cdc8ce65",
   "metadata": {
    "ExecuteTime": {
     "end_time": "2021-08-31T12:30:49.045870Z",
     "start_time": "2021-08-31T12:30:49.040917Z"
    }
   },
   "outputs": [],
   "source": [
    "# 1.加载数据\n",
    "X = z_1.values\n",
    "R = rank\n",
    "# 2.拆分测试集、训练集。\n",
    "X_train, X_test, R_train, R_test = train_test_split(X, R, test_size=0.2, random_state=0)# 设置随机数种子，以便比较结果。"
   ]
  },
  {
   "cell_type": "markdown",
   "id": "04df0615",
   "metadata": {},
   "source": [
    "## MLPClassifier"
   ]
  },
  {
   "cell_type": "code",
   "execution_count": 434,
   "id": "9429ff0b",
   "metadata": {
    "ExecuteTime": {
     "end_time": "2021-09-01T00:23:58.930381Z",
     "start_time": "2021-09-01T00:23:58.789292Z"
    }
   },
   "outputs": [
    {
     "name": "stdout",
     "output_type": "stream",
     "text": [
      "0.673469387755102\n",
      "0.32\n",
      "0.8137562151366954\n"
     ]
    }
   ],
   "source": [
    "from sklearn.neural_network import MLPClassifier\n",
    "\n",
    "md_r = MLPClassifier(solver='lbfgs', alpha=1e-5,hidden_layer_sizes=(5,3,4))\n",
    "md_r.fit(X_train, R_train); \n",
    "print(md_r.score(X_train,R_train));print(md_r.score(X_test,R_test));print(md_r.loss_)"
   ]
  },
  {
   "cell_type": "code",
   "execution_count": 433,
   "id": "2ee410b7",
   "metadata": {
    "ExecuteTime": {
     "end_time": "2021-09-01T00:23:07.532756Z",
     "start_time": "2021-09-01T00:23:07.526773Z"
    }
   },
   "outputs": [
    {
     "data": {
      "text/plain": [
       "array([[3.07052047e-01, 2.03291519e-01, 2.72619740e-01, 2.17036695e-01],\n",
       "       [3.07052047e-01, 2.03291519e-01, 2.72619740e-01, 2.17036695e-01],\n",
       "       [3.07052047e-01, 2.03291519e-01, 2.72619740e-01, 2.17036695e-01],\n",
       "       [3.07052047e-01, 2.03291519e-01, 2.72619740e-01, 2.17036695e-01],\n",
       "       [6.62203950e-08, 9.99999934e-01, 2.64085393e-18, 6.10535548e-21]])"
      ]
     },
     "execution_count": 433,
     "metadata": {},
     "output_type": "execute_result"
    }
   ],
   "source": [
    "md_r.predict_proba(X)[:5]"
   ]
  },
  {
   "cell_type": "code",
   "execution_count": 470,
   "id": "039187da",
   "metadata": {
    "ExecuteTime": {
     "end_time": "2021-09-01T01:25:28.815277Z",
     "start_time": "2021-09-01T01:25:28.385391Z"
    }
   },
   "outputs": [
    {
     "data": {
      "image/png": "[encoded data removed]",
      "text/plain": [
       "<Figure size 864x432 with 3 Axes>"
      ]
     },
     "metadata": {},
     "output_type": "display_data"
    }
   ],
   "source": [
    "def display_prob(md,X):\n",
    "    plt.figure(figsize=(12,6))\n",
    "    plt.subplot(131)\n",
    "    plt.scatter(md.predict_proba(X)[:,1],md.predict_proba(X)[:,-1])\n",
    "    plt.subplot(132)\n",
    "    plt.hist(md.predict_proba(X)[:,0],bins=10)\n",
    "    plt.subplot(133)\n",
    "    plt.hist(md.predict_proba(X)[:,1])\n",
    "display_prob(md=md_r,X=X)"
   ]
  },
  {
   "cell_type": "markdown",
   "id": "9a924aef",
   "metadata": {},
   "source": [
    "## XGBoost"
   ]
  },
  {
   "cell_type": "code",
   "execution_count": 705,
   "id": "3256738c",
   "metadata": {
    "ExecuteTime": {
     "end_time": "2021-09-02T07:32:01.194167Z",
     "start_time": "2021-09-02T07:32:00.975238Z"
    }
   },
   "outputs": [
    {
     "name": "stdout",
     "output_type": "stream",
     "text": [
      "[15:32:00] WARNING: ..\\src\\learner.cc:1061: Starting in XGBoost 1.3.0, the default evaluation metric used with the objective 'multi:softprob' was changed from 'merror' to 'mlogloss'. Explicitly set eval_metric if you'd like to restore the old behavior.\n"
     ]
    },
    {
     "data": {
      "text/plain": [
       "(1.0, 0.56)"
      ]
     },
     "execution_count": 705,
     "metadata": {},
     "output_type": "execute_result"
    }
   ],
   "source": [
    "from xgboost.sklearn import XGBClassifier\n",
    "clf_r = XGBClassifier(n_jobs=-1)\n",
    "clf_r.fit(X_train,R_train)\n",
    "#训练集准确率#训练集准确率\n",
    "clf_r.score(X_train,R_train),clf_r.score(X_test,R_test)"
   ]
  },
  {
   "cell_type": "code",
   "execution_count": 431,
   "id": "67bdc4d4",
   "metadata": {
    "ExecuteTime": {
     "end_time": "2021-09-01T00:21:45.992225Z",
     "start_time": "2021-09-01T00:21:45.985754Z"
    }
   },
   "outputs": [
    {
     "data": {
      "text/plain": [
       "(123, 4)"
      ]
     },
     "execution_count": 431,
     "metadata": {},
     "output_type": "execute_result"
    }
   ],
   "source": [
    "clf_r.predict_proba(X).shape"
   ]
  },
  {
   "cell_type": "code",
   "execution_count": 432,
   "id": "bc844fc1",
   "metadata": {
    "ExecuteTime": {
     "end_time": "2021-09-01T00:22:24.536815Z",
     "start_time": "2021-09-01T00:22:24.527838Z"
    }
   },
   "outputs": [
    {
     "data": {
      "text/plain": [
       "array([[9.8517334e-01, 4.6397098e-03, 6.0910620e-03, 4.0959395e-03],\n",
       "       [9.7535771e-01, 9.6616745e-03, 1.4685862e-02, 2.9471653e-04],\n",
       "       [3.5043859e-01, 2.1817508e-01, 4.1013253e-01, 2.1253778e-02],\n",
       "       [1.1502860e-02, 1.7062251e-02, 9.6964216e-01, 1.7926794e-03],\n",
       "       [5.8343049e-02, 9.2026526e-01, 4.1247788e-03, 1.7266868e-02]],\n",
       "      dtype=float32)"
      ]
     },
     "execution_count": 432,
     "metadata": {},
     "output_type": "execute_result"
    }
   ],
   "source": [
    "clf_r.predict_proba(X)[:5]"
   ]
  },
  {
   "cell_type": "code",
   "execution_count": 707,
   "id": "1719ab67",
   "metadata": {
    "ExecuteTime": {
     "end_time": "2021-09-02T07:34:54.484721Z",
     "start_time": "2021-09-02T07:34:54.447821Z"
    }
   },
   "outputs": [
    {
     "data": {
      "text/plain": [
       "array([0.20755722, 0.15743235, 0.0788224 , 0.03974069, 0.08688585,\n",
       "       0.15445007, 0.0887939 , 0.11827486, 0.06804272], dtype=float32)"
      ]
     },
     "execution_count": 707,
     "metadata": {},
     "output_type": "execute_result"
    }
   ],
   "source": [
    "clf_r.feature_importances_"
   ]
  },
  {
   "cell_type": "markdown",
   "id": "3ab3c842",
   "metadata": {},
   "source": [
    "## 附件2信誉评级"
   ]
  },
  {
   "cell_type": "code",
   "execution_count": 460,
   "id": "56519090",
   "metadata": {
    "ExecuteTime": {
     "end_time": "2021-09-01T01:18:14.561463Z",
     "start_time": "2021-09-01T01:18:14.517617Z"
    }
   },
   "outputs": [
    {
     "name": "stdout",
     "output_type": "stream",
     "text": [
      "               销售收入          进货支出        收入进步因子      进项负数发票占比      进项作废发票占比  \\\n",
      "count  3.020000e+02  3.020000e+02  3.020000e+02  3.020000e+02  3.020000e+02   \n",
      "mean   1.544019e-17  5.679783e-17  9.594974e-17 -1.360207e-16  1.994358e-16   \n",
      "std    1.001660e+00  1.001660e+00  1.001660e+00  1.001660e+00  1.001660e+00   \n",
      "min   -5.319093e-01 -3.544935e-01 -8.101729e-01 -6.499869e-01 -1.036836e+00   \n",
      "25%   -5.063159e-01 -3.476582e-01 -3.967104e-01 -6.499869e-01 -5.810432e-01   \n",
      "50%   -3.282260e-01 -2.686503e-01 -2.719686e-01 -2.864750e-01 -1.208225e-01   \n",
      "75%    2.104554e-01  4.668652e-02 -5.473729e-03  1.633743e-01  3.237766e-01   \n",
      "max    9.645011e+00  1.200494e+01  8.482678e+00  8.730141e+00  7.132143e+00   \n",
      "\n",
      "            供方市场集中度      销项负数发票占比      销项作废发票占比       需方市场集中度  \n",
      "count  3.020000e+02  3.020000e+02  3.020000e+02  3.020000e+02  \n",
      "mean  -7.885524e-17  8.565628e-17 -8.675915e-17 -4.043859e-17  \n",
      "std    1.001660e+00  1.001660e+00  1.001660e+00  1.001660e+00  \n",
      "min   -6.227026e-01 -7.469583e-01 -9.317510e-01 -7.883440e-01  \n",
      "25%   -5.511574e-01 -7.469583e-01 -4.915584e-01 -7.471044e-01  \n",
      "50%   -3.980870e-01 -2.741616e-01 -2.334181e-01 -4.561540e-01  \n",
      "75%   -1.446085e-02  2.623809e-01  1.462556e-01  4.881603e-01  \n",
      "max    3.781593e+00  7.844446e+00  6.101068e+00  4.764607e+00  \n"
     ]
    },
    {
     "data": {
      "text/html": [
       "<div>\n",
       "<style scoped>\n",
       "    .dataframe tbody tr th:only-of-type {\n",
       "        vertical-align: middle;\n",
       "    }\n",
       "\n",
       "    .dataframe tbody tr th {\n",
       "        vertical-align: top;\n",
       "    }\n",
       "\n",
       "    .dataframe thead th {\n",
       "        text-align: right;\n",
       "    }\n",
       "</style>\n",
       "<table border=\"1\" class=\"dataframe\">\n",
       "  <thead>\n",
       "    <tr style=\"text-align: right;\">\n",
       "      <th></th>\n",
       "      <th>销售收入</th>\n",
       "      <th>进货支出</th>\n",
       "      <th>收入进步因子</th>\n",
       "      <th>进项负数发票占比</th>\n",
       "      <th>进项作废发票占比</th>\n",
       "      <th>供方市场集中度</th>\n",
       "      <th>销项负数发票占比</th>\n",
       "      <th>销项作废发票占比</th>\n",
       "      <th>需方市场集中度</th>\n",
       "    </tr>\n",
       "    <tr>\n",
       "      <th>企业代号</th>\n",
       "      <th></th>\n",
       "      <th></th>\n",
       "      <th></th>\n",
       "      <th></th>\n",
       "      <th></th>\n",
       "      <th></th>\n",
       "      <th></th>\n",
       "      <th></th>\n",
       "      <th></th>\n",
       "    </tr>\n",
       "  </thead>\n",
       "  <tbody>\n",
       "    <tr>\n",
       "      <th>E124</th>\n",
       "      <td>7.686028</td>\n",
       "      <td>10.057005</td>\n",
       "      <td>0.025373</td>\n",
       "      <td>1.214078</td>\n",
       "      <td>2.992524</td>\n",
       "      <td>-0.420497</td>\n",
       "      <td>0.599150</td>\n",
       "      <td>0.173621</td>\n",
       "      <td>0.884745</td>\n",
       "    </tr>\n",
       "    <tr>\n",
       "      <th>E125</th>\n",
       "      <td>9.645011</td>\n",
       "      <td>12.004944</td>\n",
       "      <td>-0.105150</td>\n",
       "      <td>1.227148</td>\n",
       "      <td>3.008999</td>\n",
       "      <td>-0.411547</td>\n",
       "      <td>0.370257</td>\n",
       "      <td>0.061326</td>\n",
       "      <td>0.844687</td>\n",
       "    </tr>\n",
       "    <tr>\n",
       "      <th>E126</th>\n",
       "      <td>5.005686</td>\n",
       "      <td>1.051703</td>\n",
       "      <td>-0.109271</td>\n",
       "      <td>-0.122025</td>\n",
       "      <td>0.066666</td>\n",
       "      <td>-0.528844</td>\n",
       "      <td>0.127783</td>\n",
       "      <td>0.292884</td>\n",
       "      <td>-0.771921</td>\n",
       "    </tr>\n",
       "    <tr>\n",
       "      <th>E127</th>\n",
       "      <td>5.579965</td>\n",
       "      <td>-0.335036</td>\n",
       "      <td>-0.459671</td>\n",
       "      <td>-0.520606</td>\n",
       "      <td>-0.450923</td>\n",
       "      <td>-0.433234</td>\n",
       "      <td>-0.705785</td>\n",
       "      <td>-0.708501</td>\n",
       "      <td>-0.208703</td>\n",
       "    </tr>\n",
       "    <tr>\n",
       "      <th>E128</th>\n",
       "      <td>1.721460</td>\n",
       "      <td>-0.241294</td>\n",
       "      <td>-0.070025</td>\n",
       "      <td>-0.184183</td>\n",
       "      <td>-0.144384</td>\n",
       "      <td>-0.529697</td>\n",
       "      <td>-0.746958</td>\n",
       "      <td>-0.379941</td>\n",
       "      <td>-0.414665</td>\n",
       "    </tr>\n",
       "    <tr>\n",
       "      <th>...</th>\n",
       "      <td>...</td>\n",
       "      <td>...</td>\n",
       "      <td>...</td>\n",
       "      <td>...</td>\n",
       "      <td>...</td>\n",
       "      <td>...</td>\n",
       "      <td>...</td>\n",
       "      <td>...</td>\n",
       "      <td>...</td>\n",
       "    </tr>\n",
       "    <tr>\n",
       "      <th>E421</th>\n",
       "      <td>-0.530003</td>\n",
       "      <td>-0.354162</td>\n",
       "      <td>-0.560203</td>\n",
       "      <td>-0.649987</td>\n",
       "      <td>-1.036836</td>\n",
       "      <td>0.670907</td>\n",
       "      <td>-0.746958</td>\n",
       "      <td>-0.677708</td>\n",
       "      <td>0.037481</td>\n",
       "    </tr>\n",
       "    <tr>\n",
       "      <th>E422</th>\n",
       "      <td>-0.531909</td>\n",
       "      <td>-0.354489</td>\n",
       "      <td>1.692474</td>\n",
       "      <td>-0.649987</td>\n",
       "      <td>-1.036836</td>\n",
       "      <td>1.042601</td>\n",
       "      <td>-0.746958</td>\n",
       "      <td>-0.195026</td>\n",
       "      <td>-0.378194</td>\n",
       "    </tr>\n",
       "    <tr>\n",
       "      <th>E423</th>\n",
       "      <td>-0.531470</td>\n",
       "      <td>-0.353775</td>\n",
       "      <td>-0.464294</td>\n",
       "      <td>3.816741</td>\n",
       "      <td>-1.036836</td>\n",
       "      <td>-0.052499</td>\n",
       "      <td>-0.746958</td>\n",
       "      <td>0.120713</td>\n",
       "      <td>0.130811</td>\n",
       "    </tr>\n",
       "    <tr>\n",
       "      <th>E424</th>\n",
       "      <td>-0.531386</td>\n",
       "      <td>-0.351645</td>\n",
       "      <td>-0.146170</td>\n",
       "      <td>-0.649987</td>\n",
       "      <td>-1.036836</td>\n",
       "      <td>-0.083312</td>\n",
       "      <td>1.180525</td>\n",
       "      <td>0.096237</td>\n",
       "      <td>1.315221</td>\n",
       "    </tr>\n",
       "    <tr>\n",
       "      <th>E425</th>\n",
       "      <td>-0.530820</td>\n",
       "      <td>-0.353820</td>\n",
       "      <td>-0.774759</td>\n",
       "      <td>1.734791</td>\n",
       "      <td>-0.483007</td>\n",
       "      <td>-0.420471</td>\n",
       "      <td>-0.746958</td>\n",
       "      <td>2.342581</td>\n",
       "      <td>1.173915</td>\n",
       "    </tr>\n",
       "  </tbody>\n",
       "</table>\n",
       "<p>302 rows × 9 columns</p>\n",
       "</div>"
      ],
      "text/plain": [
       "          销售收入       进货支出    收入进步因子  进项负数发票占比  进项作废发票占比   供方市场集中度  销项负数发票占比  \\\n",
       "企业代号                                                                          \n",
       "E124  7.686028  10.057005  0.025373  1.214078  2.992524 -0.420497  0.599150   \n",
       "E125  9.645011  12.004944 -0.105150  1.227148  3.008999 -0.411547  0.370257   \n",
       "E126  5.005686   1.051703 -0.109271 -0.122025  0.066666 -0.528844  0.127783   \n",
       "E127  5.579965  -0.335036 -0.459671 -0.520606 -0.450923 -0.433234 -0.705785   \n",
       "E128  1.721460  -0.241294 -0.070025 -0.184183 -0.144384 -0.529697 -0.746958   \n",
       "...        ...        ...       ...       ...       ...       ...       ...   \n",
       "E421 -0.530003  -0.354162 -0.560203 -0.649987 -1.036836  0.670907 -0.746958   \n",
       "E422 -0.531909  -0.354489  1.692474 -0.649987 -1.036836  1.042601 -0.746958   \n",
       "E423 -0.531470  -0.353775 -0.464294  3.816741 -1.036836 -0.052499 -0.746958   \n",
       "E424 -0.531386  -0.351645 -0.146170 -0.649987 -1.036836 -0.083312  1.180525   \n",
       "E425 -0.530820  -0.353820 -0.774759  1.734791 -0.483007 -0.420471 -0.746958   \n",
       "\n",
       "      销项作废发票占比   需方市场集中度  \n",
       "企业代号                      \n",
       "E124  0.173621  0.884745  \n",
       "E125  0.061326  0.844687  \n",
       "E126  0.292884 -0.771921  \n",
       "E127 -0.708501 -0.208703  \n",
       "E128 -0.379941 -0.414665  \n",
       "...        ...       ...  \n",
       "E421 -0.677708  0.037481  \n",
       "E422 -0.195026 -0.378194  \n",
       "E423  0.120713  0.130811  \n",
       "E424  0.096237  1.315221  \n",
       "E425  2.342581  1.173915  \n",
       "\n",
       "[302 rows x 9 columns]"
      ]
     },
     "execution_count": 460,
     "metadata": {},
     "output_type": "execute_result"
    }
   ],
   "source": [
    "z_2=zscore(indic_2.fillna(0.874469))\n",
    "z_2=pd.DataFrame(data=z_2,\n",
    "                       columns=[\n",
    "                           '销售收入', '进货支出', '收入进步因子', '进项负数发票占比',\n",
    "                           '进项作废发票占比', '供方市场集中度', '销项负数发票占比',\n",
    "                           '销项作废发票占比', '需方市场集中度'\n",
    "                       ],index=names_2)\n",
    "print(z_2.describe())\n",
    "# z_2.to_excel('附件',index=False)\n",
    "z_2"
   ]
  },
  {
   "cell_type": "code",
   "execution_count": 464,
   "id": "5341f5d6",
   "metadata": {
    "ExecuteTime": {
     "end_time": "2021-09-01T01:21:12.006847Z",
     "start_time": "2021-09-01T01:21:11.999396Z"
    }
   },
   "outputs": [
    {
     "data": {
      "text/plain": [
       "(302,)"
      ]
     },
     "execution_count": 464,
     "metadata": {},
     "output_type": "execute_result"
    }
   ],
   "source": [
    "r_pred=clf_r.predict(z_2.values)\n",
    "r_pred.shape"
   ]
  },
  {
   "cell_type": "markdown",
   "id": "375cf76b",
   "metadata": {},
   "source": [
    "### 附件2违约预测"
   ]
  },
  {
   "cell_type": "code",
   "execution_count": 474,
   "id": "ff544538",
   "metadata": {
    "ExecuteTime": {
     "end_time": "2021-09-01T01:27:31.260245Z",
     "start_time": "2021-09-01T01:27:30.696734Z"
    }
   },
   "outputs": [
    {
     "name": "stdout",
     "output_type": "stream",
     "text": [
      "146\n"
     ]
    },
    {
     "data": {
      "image/png": "[encoded data removed]",
      "text/plain": [
       "<Figure size 864x432 with 3 Axes>"
      ]
     },
     "metadata": {},
     "output_type": "display_data"
    }
   ],
   "source": [
    "defaut_pred=clf1.predict_proba(z_2.values)\n",
    "print(clf1.predict(z_2.values).sum())\n",
    "display_prob(md=clf1,X=z_2.values)"
   ]
  },
  {
   "cell_type": "code",
   "execution_count": 479,
   "id": "19af891c",
   "metadata": {
    "ExecuteTime": {
     "end_time": "2021-09-01T01:30:10.760056Z",
     "start_time": "2021-09-01T01:30:10.290609Z"
    }
   },
   "outputs": [
    {
     "name": "stdout",
     "output_type": "stream",
     "text": [
      "85\n",
      "0.28052805280528054\n"
     ]
    },
    {
     "data": {
      "image/png": "[encoded data removed]",
      "text/plain": [
       "<Figure size 864x432 with 3 Axes>"
      ]
     },
     "metadata": {},
     "output_type": "display_data"
    }
   ],
   "source": [
    "print(md.predict(z_2.values).sum())\n",
    "print(85/303)\n",
    "display_prob(md=md,X=z_2.values)"
   ]
  },
  {
   "cell_type": "code",
   "execution_count": 713,
   "id": "2ddc5a1d",
   "metadata": {
    "ExecuteTime": {
     "end_time": "2021-09-02T08:02:11.202172Z",
     "start_time": "2021-09-02T08:02:11.125046Z"
    }
   },
   "outputs": [
    {
     "data": {
      "text/html": [
       "<div>\n",
       "<style scoped>\n",
       "    .dataframe tbody tr th:only-of-type {\n",
       "        vertical-align: middle;\n",
       "    }\n",
       "\n",
       "    .dataframe tbody tr th {\n",
       "        vertical-align: top;\n",
       "    }\n",
       "\n",
       "    .dataframe thead th {\n",
       "        text-align: right;\n",
       "    }\n",
       "</style>\n",
       "<table border=\"1\" class=\"dataframe\">\n",
       "  <thead>\n",
       "    <tr style=\"text-align: right;\">\n",
       "      <th></th>\n",
       "      <th>企业代号</th>\n",
       "      <th>企业名称</th>\n",
       "      <th>信誉评级预测</th>\n",
       "      <th>违约概率预测</th>\n",
       "    </tr>\n",
       "  </thead>\n",
       "  <tbody>\n",
       "    <tr>\n",
       "      <th>0</th>\n",
       "      <td>E124</td>\n",
       "      <td>个体经营E124</td>\n",
       "      <td>A</td>\n",
       "      <td>0.000000e+00</td>\n",
       "    </tr>\n",
       "    <tr>\n",
       "      <th>1</th>\n",
       "      <td>E125</td>\n",
       "      <td>个体经营E125</td>\n",
       "      <td>A</td>\n",
       "      <td>0.000000e+00</td>\n",
       "    </tr>\n",
       "    <tr>\n",
       "      <th>2</th>\n",
       "      <td>E126</td>\n",
       "      <td>个体经营E126</td>\n",
       "      <td>A</td>\n",
       "      <td>2.551391e-198</td>\n",
       "    </tr>\n",
       "    <tr>\n",
       "      <th>3</th>\n",
       "      <td>E127</td>\n",
       "      <td>个体经营E127</td>\n",
       "      <td>B</td>\n",
       "      <td>1.782559e-202</td>\n",
       "    </tr>\n",
       "    <tr>\n",
       "      <th>4</th>\n",
       "      <td>E128</td>\n",
       "      <td>个体经营E128</td>\n",
       "      <td>A</td>\n",
       "      <td>5.507415e-80</td>\n",
       "    </tr>\n",
       "    <tr>\n",
       "      <th>...</th>\n",
       "      <td>...</td>\n",
       "      <td>...</td>\n",
       "      <td>...</td>\n",
       "      <td>...</td>\n",
       "    </tr>\n",
       "    <tr>\n",
       "      <th>297</th>\n",
       "      <td>E421</td>\n",
       "      <td>***保温材料有限公司</td>\n",
       "      <td>3</td>\n",
       "      <td>1.219393e-06</td>\n",
       "    </tr>\n",
       "    <tr>\n",
       "      <th>298</th>\n",
       "      <td>E422</td>\n",
       "      <td>***童装店</td>\n",
       "      <td>3</td>\n",
       "      <td>8.967142e-21</td>\n",
       "    </tr>\n",
       "    <tr>\n",
       "      <th>299</th>\n",
       "      <td>E423</td>\n",
       "      <td>***通风设备有限公司</td>\n",
       "      <td>3</td>\n",
       "      <td>1.043287e-29</td>\n",
       "    </tr>\n",
       "    <tr>\n",
       "      <th>300</th>\n",
       "      <td>E424</td>\n",
       "      <td>***贸易有限公司</td>\n",
       "      <td>3</td>\n",
       "      <td>9.853976e-01</td>\n",
       "    </tr>\n",
       "    <tr>\n",
       "      <th>301</th>\n",
       "      <td>E425</td>\n",
       "      <td>***商贸有限公司</td>\n",
       "      <td>3</td>\n",
       "      <td>1.000000e+00</td>\n",
       "    </tr>\n",
       "  </tbody>\n",
       "</table>\n",
       "<p>302 rows × 4 columns</p>\n",
       "</div>"
      ],
      "text/plain": [
       "     企业代号         企业名称 信誉评级预测         违约概率预测\n",
       "0    E124    个体经营E124       A   0.000000e+00\n",
       "1    E125    个体经营E125       A   0.000000e+00\n",
       "2    E126    个体经营E126       A  2.551391e-198\n",
       "3    E127    个体经营E127       B  1.782559e-202\n",
       "4    E128    个体经营E128       A   5.507415e-80\n",
       "..    ...          ...    ...            ...\n",
       "297  E421  ***保温材料有限公司      3   1.219393e-06\n",
       "298  E422       ***童装店      3   8.967142e-21\n",
       "299  E423  ***通风设备有限公司      3   1.043287e-29\n",
       "300  E424    ***贸易有限公司      3   9.853976e-01\n",
       "301  E425    ***商贸有限公司      3   1.000000e+00\n",
       "\n",
       "[302 rows x 4 columns]"
      ]
     },
     "execution_count": 713,
     "metadata": {},
     "output_type": "execute_result"
    }
   ],
   "source": [
    "a21['信誉评级预测']=['A'if i ==0 else 'B' if i==1 else 'C'if i==2 else 3 for i in r_pred]\n",
    "a21['违约概率预测']=md.predict_proba(z_2.values)[:,1]\n",
    "# a21.to_excel('附件2信誉评级和违约概率预测.xlsx',index=False)\n",
    "a21"
   ]
  },
  {
   "cell_type": "markdown",
   "id": "818b64c3",
   "metadata": {},
   "source": [
    "# 主成分"
   ]
  },
  {
   "cell_type": "code",
   "execution_count": 438,
   "id": "e4f51981",
   "metadata": {
    "ExecuteTime": {
     "end_time": "2021-09-01T00:44:47.065318Z",
     "start_time": "2021-09-01T00:44:45.964032Z"
    }
   },
   "outputs": [
    {
     "data": {
      "text/plain": [
       "<AxesSubplot:>"
      ]
     },
     "execution_count": 438,
     "metadata": {},
     "output_type": "execute_result"
    },
    {
     "data": {
      "image/png": "[encoded data removed]",
      "text/plain": [
       "<Figure size 432x288 with 2 Axes>"
      ]
     },
     "metadata": {},
     "output_type": "display_data"
    }
   ],
   "source": [
    "sns.heatmap(np.corrcoef(X.T),annot=True)"
   ]
  },
  {
   "cell_type": "code",
   "execution_count": 440,
   "id": "8656d221",
   "metadata": {
    "ExecuteTime": {
     "end_time": "2021-09-01T00:48:45.881760Z",
     "start_time": "2021-09-01T00:48:45.876776Z"
    }
   },
   "outputs": [
    {
     "data": {
      "text/plain": [
       "(123, 8)"
      ]
     },
     "execution_count": 440,
     "metadata": {},
     "output_type": "execute_result"
    }
   ],
   "source": [
    "b=np.delete(X,1,axis=1) #删除第1列数据，即删除指标x2\n",
    "b.shape"
   ]
  },
  {
   "cell_type": "code",
   "execution_count": 439,
   "id": "560da4ed",
   "metadata": {
    "ExecuteTime": {
     "end_time": "2021-09-01T00:47:33.356511Z",
     "start_time": "2021-09-01T00:47:33.344598Z"
    }
   },
   "outputs": [
    {
     "name": "stdout",
     "output_type": "stream",
     "text": [
      "特征值为： [2.0343641  0.41019624 1.24861233 1.05081623 0.80562884 0.99465779\n",
      " 0.89920458 0.5565199 ]\n",
      "特征向量为：\n",
      " [[ 0.2902253  -0.11167179 -0.10436261 -0.24599645 -0.32806362  0.29612835\n",
      "  -0.7978543   0.00191117]\n",
      " [-0.38244049  0.01243757  0.05747101 -0.32900994  0.53956979  0.46773998\n",
      "  -0.09632049 -0.47205957]\n",
      " [ 0.42420399 -0.59093536  0.41396508 -0.16298879  0.05955173  0.35753857\n",
      "   0.34171532  0.15736691]\n",
      " [ 0.50233729  0.69949765  0.38183334  0.16014987  0.22279648  0.18970536\n",
      "  -0.03570834 -0.0037583 ]\n",
      " [-0.46765039  0.19076994  0.33418929 -0.27627063 -0.03196985  0.13011932\n",
      "  -0.09216063  0.72832363]\n",
      " [ 0.14507185  0.19119025  0.13193246 -0.79066351 -0.20948621 -0.41076597\n",
      "   0.18566163 -0.22969999]\n",
      " [-0.3060194   0.06105264  0.46708138  0.23065101 -0.64658243  0.21968137\n",
      "   0.09438009 -0.39499803]\n",
      " [-0.06185596 -0.26869844  0.56691099  0.15604722  0.29168242 -0.54386187\n",
      "  -0.42922606 -0.11461589]]\n",
      "各主成分的贡献率为： [0.25429551 0.05127453 0.15607654 0.13135203 0.1007036  0.12433222\n",
      " 0.11240057 0.06956499]\n"
     ]
    }
   ],
   "source": [
    "r=np.corrcoef(b.T) #数据标准化后，计算相关系数阵\n",
    "d,e=np.linalg.eig(r) #求相关系数矩阵r的特征值和特征向量\n",
    "rate=d/d.sum()  #计算各主成分的贡献率\n",
    "print(\"特征值为：\",d)\n",
    "print(\"特征向量为：\\n\",e)\n",
    "print(\"各主成分的贡献率为：\",rate)"
   ]
  },
  {
   "cell_type": "code",
   "execution_count": 441,
   "id": "3074e449",
   "metadata": {
    "ExecuteTime": {
     "end_time": "2021-09-01T01:01:20.291561Z",
     "start_time": "2021-09-01T01:01:20.285532Z"
    }
   },
   "outputs": [
    {
     "data": {
      "text/plain": [
       "array([0.54172408])"
      ]
     },
     "execution_count": 441,
     "metadata": {},
     "output_type": "execute_result"
    }
   ],
   "source": [
    "print(sum(rate[np.argwhere(d>1)]))"
   ]
  },
  {
   "cell_type": "code",
   "execution_count": 450,
   "id": "dd509841",
   "metadata": {
    "ExecuteTime": {
     "end_time": "2021-09-01T01:10:17.094273Z",
     "start_time": "2021-09-01T01:10:17.087291Z"
    }
   },
   "outputs": [
    {
     "name": "stdout",
     "output_type": "stream",
     "text": [
      "[0 2 3 5 6 4]\n",
      "0.8791604831562757\n",
      "[0.25429551 0.15607654 0.13135203 0.12433222 0.11240057 0.1007036 ]\n",
      "[[ 0.2902253  -0.11167179 -0.10436261 -0.24599645 -0.32806362  0.29612835\n",
      "  -0.7978543   0.00191117]\n",
      " [ 0.42420399 -0.59093536  0.41396508 -0.16298879  0.05955173  0.35753857\n",
      "   0.34171532  0.15736691]\n",
      " [ 0.50233729  0.69949765  0.38183334  0.16014987  0.22279648  0.18970536\n",
      "  -0.03570834 -0.0037583 ]\n",
      " [ 0.14507185  0.19119025  0.13193246 -0.79066351 -0.20948621 -0.41076597\n",
      "   0.18566163 -0.22969999]\n",
      " [-0.3060194   0.06105264  0.46708138  0.23065101 -0.64658243  0.21968137\n",
      "   0.09438009 -0.39499803]\n",
      " [-0.46765039  0.19076994  0.33418929 -0.27627063 -0.03196985  0.13011932\n",
      "  -0.09216063  0.72832363]]\n"
     ]
    }
   ],
   "source": [
    "k=6#提取6个主成分\n",
    "indice=np.argsort(-d)[:k]\n",
    "print(indice)\n",
    "print(sum(rate[indice]))\n",
    "print(rate[indice])\n",
    "F=e[indice]\n",
    "print(e[indice])"
   ]
  },
  {
   "cell_type": "code",
   "execution_count": 449,
   "id": "294d029e",
   "metadata": {
    "ExecuteTime": {
     "end_time": "2021-09-01T01:09:21.520558Z",
     "start_time": "2021-09-01T01:09:21.515569Z"
    }
   },
   "outputs": [
    {
     "data": {
      "text/plain": [
       "(123, 6)"
      ]
     },
     "execution_count": 449,
     "metadata": {},
     "output_type": "execute_result"
    }
   ],
   "source": [
    "score_mat=b.dot(F.T) #计算主成分得分矩阵\n",
    "score_mat.shape"
   ]
  },
  {
   "cell_type": "code",
   "execution_count": 454,
   "id": "9665f793",
   "metadata": {
    "ExecuteTime": {
     "end_time": "2021-09-01T01:11:36.245490Z",
     "start_time": "2021-09-01T01:11:36.060896Z"
    }
   },
   "outputs": [
    {
     "name": "stdout",
     "output_type": "stream",
     "text": [
      "各评价对象的得分为：\n",
      " (123,)\n"
     ]
    },
    {
     "data": {
      "text/plain": [
       "(array([ 2.,  1.,  3., 12., 29., 55., 13.,  4.,  2.,  2.]),\n",
       " array([-1.27497438, -1.02716736, -0.77936034, -0.53155331, -0.28374629,\n",
       "        -0.03593927,  0.21186775,  0.45967477,  0.70748179,  0.95528881,\n",
       "         1.20309583]),\n",
       " <BarContainer object of 10 artists>)"
      ]
     },
     "execution_count": 454,
     "metadata": {},
     "output_type": "execute_result"
    },
    {
     "data": {
      "image/png": "[encoded data removed]",
      "text/plain": [
       "<Figure size 432x288 with 1 Axes>"
      ]
     },
     "metadata": {},
     "output_type": "display_data"
    }
   ],
   "source": [
    "score1=score_mat.dot(rate[0:k])  #计算各评价对象的得分\n",
    "# score2=-score1  #通过观测，调整得分的正负号\n",
    "print(\"各评价对象的得分为：\\n\",score1.shape)\n",
    "plt.hist(score1)"
   ]
  },
  {
   "cell_type": "markdown",
   "id": "9f8b9819",
   "metadata": {},
   "source": [
    "# 第三题"
   ]
  },
  {
   "cell_type": "markdown",
   "id": "87d4fda7",
   "metadata": {},
   "source": [
    "## 打分预备"
   ]
  },
  {
   "cell_type": "code",
   "execution_count": 503,
   "id": "fbfd4968",
   "metadata": {
    "ExecuteTime": {
     "end_time": "2021-09-01T07:48:47.555405Z",
     "start_time": "2021-09-01T07:48:47.487044Z"
    }
   },
   "outputs": [
    {
     "data": {
      "text/html": [
       "<div>\n",
       "<style scoped>\n",
       "    .dataframe tbody tr th:only-of-type {\n",
       "        vertical-align: middle;\n",
       "    }\n",
       "\n",
       "    .dataframe tbody tr th {\n",
       "        vertical-align: top;\n",
       "    }\n",
       "\n",
       "    .dataframe thead th {\n",
       "        text-align: right;\n",
       "    }\n",
       "</style>\n",
       "<table border=\"1\" class=\"dataframe\">\n",
       "  <thead>\n",
       "    <tr style=\"text-align: right;\">\n",
       "      <th></th>\n",
       "      <th>代号</th>\n",
       "      <th>行业</th>\n",
       "    </tr>\n",
       "  </thead>\n",
       "  <tbody>\n",
       "    <tr>\n",
       "      <th>0</th>\n",
       "      <td>A</td>\n",
       "      <td>农、林、牧、渔业</td>\n",
       "    </tr>\n",
       "    <tr>\n",
       "      <th>1</th>\n",
       "      <td>B</td>\n",
       "      <td>采矿业</td>\n",
       "    </tr>\n",
       "    <tr>\n",
       "      <th>2</th>\n",
       "      <td>C</td>\n",
       "      <td>制造业</td>\n",
       "    </tr>\n",
       "    <tr>\n",
       "      <th>3</th>\n",
       "      <td>D</td>\n",
       "      <td>电力、热力、燃气及水生产和供应业</td>\n",
       "    </tr>\n",
       "    <tr>\n",
       "      <th>4</th>\n",
       "      <td>E</td>\n",
       "      <td>建筑业</td>\n",
       "    </tr>\n",
       "    <tr>\n",
       "      <th>5</th>\n",
       "      <td>F</td>\n",
       "      <td>批发和零售业</td>\n",
       "    </tr>\n",
       "    <tr>\n",
       "      <th>6</th>\n",
       "      <td>G</td>\n",
       "      <td>交通运输、仓储和邮政业</td>\n",
       "    </tr>\n",
       "    <tr>\n",
       "      <th>7</th>\n",
       "      <td>H</td>\n",
       "      <td>住宿和餐饮业</td>\n",
       "    </tr>\n",
       "    <tr>\n",
       "      <th>8</th>\n",
       "      <td>I</td>\n",
       "      <td>信息传输、软件和信息技术服务业</td>\n",
       "    </tr>\n",
       "    <tr>\n",
       "      <th>9</th>\n",
       "      <td>J</td>\n",
       "      <td>金融业</td>\n",
       "    </tr>\n",
       "    <tr>\n",
       "      <th>10</th>\n",
       "      <td>K</td>\n",
       "      <td>房地产业</td>\n",
       "    </tr>\n",
       "    <tr>\n",
       "      <th>11</th>\n",
       "      <td>L</td>\n",
       "      <td>租赁和商务服务业</td>\n",
       "    </tr>\n",
       "    <tr>\n",
       "      <th>12</th>\n",
       "      <td>M</td>\n",
       "      <td>科学研究和技术服务业</td>\n",
       "    </tr>\n",
       "    <tr>\n",
       "      <th>13</th>\n",
       "      <td>N</td>\n",
       "      <td>水利、环境和公共设施管理业</td>\n",
       "    </tr>\n",
       "    <tr>\n",
       "      <th>14</th>\n",
       "      <td>O</td>\n",
       "      <td>居民服务、修理和其他服务业</td>\n",
       "    </tr>\n",
       "    <tr>\n",
       "      <th>15</th>\n",
       "      <td>P</td>\n",
       "      <td>教育</td>\n",
       "    </tr>\n",
       "    <tr>\n",
       "      <th>16</th>\n",
       "      <td>Q</td>\n",
       "      <td>卫生和社会工作</td>\n",
       "    </tr>\n",
       "    <tr>\n",
       "      <th>17</th>\n",
       "      <td>R</td>\n",
       "      <td>文化、体育和娱乐业</td>\n",
       "    </tr>\n",
       "    <tr>\n",
       "      <th>18</th>\n",
       "      <td>S</td>\n",
       "      <td>公共管理、社会保障和社会组织</td>\n",
       "    </tr>\n",
       "    <tr>\n",
       "      <th>19</th>\n",
       "      <td>T</td>\n",
       "      <td>国际组织</td>\n",
       "    </tr>\n",
       "    <tr>\n",
       "      <th>20</th>\n",
       "      <td>Z</td>\n",
       "      <td>个体工商户</td>\n",
       "    </tr>\n",
       "  </tbody>\n",
       "</table>\n",
       "</div>"
      ],
      "text/plain": [
       "   代号                行业\n",
       "0   A          农、林、牧、渔业\n",
       "1   B               采矿业\n",
       "2   C               制造业\n",
       "3   D  电力、热力、燃气及水生产和供应业\n",
       "4   E               建筑业\n",
       "5   F            批发和零售业\n",
       "6   G       交通运输、仓储和邮政业\n",
       "7   H            住宿和餐饮业\n",
       "8   I   信息传输、软件和信息技术服务业\n",
       "9   J               金融业\n",
       "10  K              房地产业\n",
       "11  L          租赁和商务服务业\n",
       "12  M        科学研究和技术服务业\n",
       "13  N     水利、环境和公共设施管理业\n",
       "14  O     居民服务、修理和其他服务业\n",
       "15  P                教育\n",
       "16  Q           卫生和社会工作\n",
       "17  R         文化、体育和娱乐业\n",
       "18  S    公共管理、社会保障和社会组织\n",
       "19  T              国际组织\n",
       "20  Z             个体工商户"
      ]
     },
     "execution_count": 503,
     "metadata": {},
     "output_type": "execute_result"
    }
   ],
   "source": [
    "df_dict=pd.read_excel('打分对照表.xlsx',sheet_name='Sheet3').iloc[:,:2]\n",
    "df_dict"
   ]
  },
  {
   "cell_type": "code",
   "execution_count": 504,
   "id": "2f51dd23",
   "metadata": {
    "ExecuteTime": {
     "end_time": "2021-09-01T07:48:54.053955Z",
     "start_time": "2021-09-01T07:48:53.937456Z"
    }
   },
   "outputs": [
    {
     "data": {
      "text/html": [
       "<div>\n",
       "<style scoped>\n",
       "    .dataframe tbody tr th:only-of-type {\n",
       "        vertical-align: middle;\n",
       "    }\n",
       "\n",
       "    .dataframe tbody tr th {\n",
       "        vertical-align: top;\n",
       "    }\n",
       "\n",
       "    .dataframe thead th {\n",
       "        text-align: right;\n",
       "    }\n",
       "</style>\n",
       "<table border=\"1\" class=\"dataframe\">\n",
       "  <thead>\n",
       "    <tr style=\"text-align: right;\">\n",
       "      <th></th>\n",
       "      <th>企业代号</th>\n",
       "      <th>企业名称</th>\n",
       "      <th>具体类别</th>\n",
       "      <th>产业类别</th>\n",
       "    </tr>\n",
       "  </thead>\n",
       "  <tbody>\n",
       "    <tr>\n",
       "      <th>0</th>\n",
       "      <td>E124</td>\n",
       "      <td>个体经营E124</td>\n",
       "      <td>Z</td>\n",
       "      <td>4</td>\n",
       "    </tr>\n",
       "    <tr>\n",
       "      <th>1</th>\n",
       "      <td>E125</td>\n",
       "      <td>个体经营E125</td>\n",
       "      <td>Z</td>\n",
       "      <td>4</td>\n",
       "    </tr>\n",
       "    <tr>\n",
       "      <th>2</th>\n",
       "      <td>E126</td>\n",
       "      <td>个体经营E126</td>\n",
       "      <td>Z</td>\n",
       "      <td>4</td>\n",
       "    </tr>\n",
       "    <tr>\n",
       "      <th>3</th>\n",
       "      <td>E127</td>\n",
       "      <td>个体经营E127</td>\n",
       "      <td>Z</td>\n",
       "      <td>4</td>\n",
       "    </tr>\n",
       "    <tr>\n",
       "      <th>4</th>\n",
       "      <td>E128</td>\n",
       "      <td>个体经营E128</td>\n",
       "      <td>Z</td>\n",
       "      <td>4</td>\n",
       "    </tr>\n",
       "    <tr>\n",
       "      <th>...</th>\n",
       "      <td>...</td>\n",
       "      <td>...</td>\n",
       "      <td>...</td>\n",
       "      <td>...</td>\n",
       "    </tr>\n",
       "    <tr>\n",
       "      <th>297</th>\n",
       "      <td>E421</td>\n",
       "      <td>***保温材料有限公司</td>\n",
       "      <td>C</td>\n",
       "      <td>2</td>\n",
       "    </tr>\n",
       "    <tr>\n",
       "      <th>298</th>\n",
       "      <td>E422</td>\n",
       "      <td>***童装店</td>\n",
       "      <td>F</td>\n",
       "      <td>31</td>\n",
       "    </tr>\n",
       "    <tr>\n",
       "      <th>299</th>\n",
       "      <td>E423</td>\n",
       "      <td>***通风设备有限公司</td>\n",
       "      <td>C</td>\n",
       "      <td>2</td>\n",
       "    </tr>\n",
       "    <tr>\n",
       "      <th>300</th>\n",
       "      <td>E424</td>\n",
       "      <td>***贸易有限公司</td>\n",
       "      <td>F</td>\n",
       "      <td>31</td>\n",
       "    </tr>\n",
       "    <tr>\n",
       "      <th>301</th>\n",
       "      <td>E425</td>\n",
       "      <td>***商贸有限公司</td>\n",
       "      <td>F</td>\n",
       "      <td>31</td>\n",
       "    </tr>\n",
       "  </tbody>\n",
       "</table>\n",
       "<p>302 rows × 4 columns</p>\n",
       "</div>"
      ],
      "text/plain": [
       "     企业代号         企业名称 具体类别  产业类别\n",
       "0    E124    个体经营E124     Z     4\n",
       "1    E125    个体经营E125     Z     4\n",
       "2    E126    个体经营E126     Z     4\n",
       "3    E127    个体经营E127     Z     4\n",
       "4    E128    个体经营E128     Z     4\n",
       "..    ...          ...  ...   ...\n",
       "297  E421  ***保温材料有限公司    C     2\n",
       "298  E422       ***童装店    F    31\n",
       "299  E423  ***通风设备有限公司    C     2\n",
       "300  E424    ***贸易有限公司    F    31\n",
       "301  E425    ***商贸有限公司    F    31\n",
       "\n",
       "[302 rows x 4 columns]"
      ]
     },
     "execution_count": 504,
     "metadata": {},
     "output_type": "execute_result"
    }
   ],
   "source": [
    "df_category=pd.read_excel('打分对照表.xlsx',sheet_name='Sheet2').iloc[:,:4]\n",
    "df_category"
   ]
  },
  {
   "cell_type": "code",
   "execution_count": 505,
   "id": "cfdaebb3",
   "metadata": {
    "ExecuteTime": {
     "end_time": "2021-09-01T07:49:21.294336Z",
     "start_time": "2021-09-01T07:49:21.289346Z"
    }
   },
   "outputs": [
    {
     "data": {
      "text/plain": [
       "21"
      ]
     },
     "execution_count": 505,
     "metadata": {},
     "output_type": "execute_result"
    }
   ],
   "source": [
    "map_dict=dict(zip(df_dict.values[:,0],df_dict.values[:,1]))\n",
    "len(map_dict)"
   ]
  },
  {
   "cell_type": "code",
   "execution_count": 506,
   "id": "f554aada",
   "metadata": {
    "ExecuteTime": {
     "end_time": "2021-09-01T07:49:39.915448Z",
     "start_time": "2021-09-01T07:49:39.891476Z"
    }
   },
   "outputs": [
    {
     "name": "stdout",
     "output_type": "stream",
     "text": [
      "<class 'pandas.core.frame.DataFrame'>\n",
      "RangeIndex: 302 entries, 0 to 301\n",
      "Data columns (total 5 columns):\n",
      " #   Column  Non-Null Count  Dtype \n",
      "---  ------  --------------  ----- \n",
      " 0   企业代号    302 non-null    object\n",
      " 1   企业名称    302 non-null    object\n",
      " 2   具体类别    302 non-null    object\n",
      " 3   产业类别    302 non-null    int64 \n",
      " 4   行业名称    302 non-null    object\n",
      "dtypes: int64(1), object(4)\n",
      "memory usage: 11.9+ KB\n"
     ]
    }
   ],
   "source": [
    "df_category['行业名称']=df_category.iloc[:,2].map(map_dict)#apply(lambda x :map_dict[x] if x in map_dict.keys else x)\n",
    "df_category.to_csv('行业名称.csv',index=False)\n",
    "df_category.info()"
   ]
  },
  {
   "cell_type": "code",
   "execution_count": 508,
   "id": "aa3a8140",
   "metadata": {
    "ExecuteTime": {
     "end_time": "2021-09-01T07:49:49.960583Z",
     "start_time": "2021-09-01T07:49:49.955530Z"
    }
   },
   "outputs": [
    {
     "data": {
      "text/plain": [
       "18"
      ]
     },
     "execution_count": 508,
     "metadata": {},
     "output_type": "execute_result"
    }
   ],
   "source": [
    "df_category.iloc[:,-1].nunique()"
   ]
  },
  {
   "cell_type": "markdown",
   "id": "789400ec",
   "metadata": {},
   "source": [
    "## 打分转化函数"
   ]
  },
  {
   "cell_type": "code",
   "execution_count": 716,
   "id": "f6edbb3a",
   "metadata": {
    "ExecuteTime": {
     "end_time": "2021-09-02T09:00:16.650973Z",
     "start_time": "2021-09-02T09:00:16.644498Z"
    }
   },
   "outputs": [
    {
     "data": {
      "text/plain": [
       "11"
      ]
     },
     "execution_count": 716,
     "metadata": {},
     "output_type": "execute_result"
    }
   ],
   "source": [
    "y=[-0.5,-0.25,-0.15,-0.1,-0.05,0,0.05,\n",
    "   0.1,0.15,0.25,0.5]\n",
    "len(y)"
   ]
  },
  {
   "cell_type": "code",
   "execution_count": 734,
   "id": "119508a7",
   "metadata": {
    "ExecuteTime": {
     "end_time": "2021-09-02T09:08:05.412928Z",
     "start_time": "2021-09-02T09:08:05.212071Z"
    }
   },
   "outputs": [
    {
     "data": {
      "image/png": "[encoded data removed]",
      "text/plain": [
       "<Figure size 432x288 with 1 Axes>"
      ]
     },
     "metadata": {},
     "output_type": "display_data"
    }
   ],
   "source": [
    "plt.plot(range(11),y,marker='^')\n",
    "#plt.yticks(ticks=range(len(y)),labels=[i for i in y])\n",
    "#plt.grid(False)\n",
    "plt.xlabel('分数')\n",
    "plt.ylabel('变化率')\n",
    "plt.show()"
   ]
  },
  {
   "cell_type": "markdown",
   "id": "06e04d8c",
   "metadata": {},
   "source": [
    "## 调整指标"
   ]
  },
  {
   "cell_type": "code",
   "execution_count": 660,
   "id": "5c645b84",
   "metadata": {
    "ExecuteTime": {
     "end_time": "2021-09-02T02:31:34.314595Z",
     "start_time": "2021-09-02T02:31:34.195914Z"
    }
   },
   "outputs": [
    {
     "data": {
      "text/html": [
       "<div>\n",
       "<style scoped>\n",
       "    .dataframe tbody tr th:only-of-type {\n",
       "        vertical-align: middle;\n",
       "    }\n",
       "\n",
       "    .dataframe tbody tr th {\n",
       "        vertical-align: top;\n",
       "    }\n",
       "\n",
       "    .dataframe thead th {\n",
       "        text-align: right;\n",
       "    }\n",
       "</style>\n",
       "<table border=\"1\" class=\"dataframe\">\n",
       "  <thead>\n",
       "    <tr style=\"text-align: right;\">\n",
       "      <th></th>\n",
       "      <th>企业代号</th>\n",
       "      <th>企业名称</th>\n",
       "      <th>信誉评级预测</th>\n",
       "      <th>违约概率预测</th>\n",
       "      <th>最终得分</th>\n",
       "      <th>具体类别</th>\n",
       "      <th>收支</th>\n",
       "      <th>市场稳定</th>\n",
       "      <th>进步因子</th>\n",
       "      <th>对应类别</th>\n",
       "      <th>factor1</th>\n",
       "      <th>factor2</th>\n",
       "      <th>factor3</th>\n",
       "    </tr>\n",
       "  </thead>\n",
       "  <tbody>\n",
       "    <tr>\n",
       "      <th>0</th>\n",
       "      <td>E124</td>\n",
       "      <td>个体经营E124</td>\n",
       "      <td>0</td>\n",
       "      <td>1.479037e-118</td>\n",
       "      <td>0.824074</td>\n",
       "      <td>Z</td>\n",
       "      <td>0.984573</td>\n",
       "      <td>0.823649</td>\n",
       "      <td>0.089913</td>\n",
       "      <td>A</td>\n",
       "      <td>-0.033333</td>\n",
       "      <td>-0.033333</td>\n",
       "      <td>-0.016667</td>\n",
       "    </tr>\n",
       "    <tr>\n",
       "      <th>1</th>\n",
       "      <td>E125</td>\n",
       "      <td>个体经营E125</td>\n",
       "      <td>0</td>\n",
       "      <td>6.415670e-138</td>\n",
       "      <td>0.832943</td>\n",
       "      <td>Z</td>\n",
       "      <td>1.000000</td>\n",
       "      <td>0.828448</td>\n",
       "      <td>0.075867</td>\n",
       "      <td>B</td>\n",
       "      <td>-0.066667</td>\n",
       "      <td>-0.066667</td>\n",
       "      <td>0.016667</td>\n",
       "    </tr>\n",
       "    <tr>\n",
       "      <th>2</th>\n",
       "      <td>E126</td>\n",
       "      <td>个体经营E126</td>\n",
       "      <td>0</td>\n",
       "      <td>1.823919e-36</td>\n",
       "      <td>0.791100</td>\n",
       "      <td>Z</td>\n",
       "      <td>0.890867</td>\n",
       "      <td>0.939260</td>\n",
       "      <td>0.075424</td>\n",
       "      <td>C</td>\n",
       "      <td>-0.066667</td>\n",
       "      <td>-0.033333</td>\n",
       "      <td>0.016667</td>\n",
       "    </tr>\n",
       "    <tr>\n",
       "      <th>3</th>\n",
       "      <td>E127</td>\n",
       "      <td>个体经营E127</td>\n",
       "      <td>1</td>\n",
       "      <td>6.684340e-37</td>\n",
       "      <td>0.687190</td>\n",
       "      <td>Z</td>\n",
       "      <td>0.729281</td>\n",
       "      <td>0.948611</td>\n",
       "      <td>0.037717</td>\n",
       "      <td>D</td>\n",
       "      <td>0.016667</td>\n",
       "      <td>-0.016667</td>\n",
       "      <td>0.000000</td>\n",
       "    </tr>\n",
       "    <tr>\n",
       "      <th>4</th>\n",
       "      <td>E128</td>\n",
       "      <td>个体经营E128</td>\n",
       "      <td>0</td>\n",
       "      <td>5.776832e-12</td>\n",
       "      <td>0.710705</td>\n",
       "      <td>Z</td>\n",
       "      <td>0.756402</td>\n",
       "      <td>0.952134</td>\n",
       "      <td>0.079647</td>\n",
       "      <td>E</td>\n",
       "      <td>-0.133333</td>\n",
       "      <td>-0.083333</td>\n",
       "      <td>-0.066667</td>\n",
       "    </tr>\n",
       "    <tr>\n",
       "      <th>...</th>\n",
       "      <td>...</td>\n",
       "      <td>...</td>\n",
       "      <td>...</td>\n",
       "      <td>...</td>\n",
       "      <td>...</td>\n",
       "      <td>...</td>\n",
       "      <td>...</td>\n",
       "      <td>...</td>\n",
       "      <td>...</td>\n",
       "      <td>...</td>\n",
       "      <td>...</td>\n",
       "      <td>...</td>\n",
       "      <td>...</td>\n",
       "    </tr>\n",
       "    <tr>\n",
       "      <th>297</th>\n",
       "      <td>E421</td>\n",
       "      <td>***保温材料有限公司</td>\n",
       "      <td>3</td>\n",
       "      <td>2.224042e-01</td>\n",
       "      <td>0.358678</td>\n",
       "      <td>C</td>\n",
       "      <td>0.245536</td>\n",
       "      <td>0.845089</td>\n",
       "      <td>0.026899</td>\n",
       "      <td>NaN</td>\n",
       "      <td>NaN</td>\n",
       "      <td>NaN</td>\n",
       "      <td>NaN</td>\n",
       "    </tr>\n",
       "    <tr>\n",
       "      <th>298</th>\n",
       "      <td>E422</td>\n",
       "      <td>***童装店</td>\n",
       "      <td>3</td>\n",
       "      <td>6.782840e-23</td>\n",
       "      <td>0.244147</td>\n",
       "      <td>F</td>\n",
       "      <td>0.020859</td>\n",
       "      <td>0.814926</td>\n",
       "      <td>0.269309</td>\n",
       "      <td>NaN</td>\n",
       "      <td>NaN</td>\n",
       "      <td>NaN</td>\n",
       "      <td>NaN</td>\n",
       "    </tr>\n",
       "    <tr>\n",
       "      <th>299</th>\n",
       "      <td>E423</td>\n",
       "      <td>***通风设备有限公司</td>\n",
       "      <td>3</td>\n",
       "      <td>1.000000e+00</td>\n",
       "      <td>0.353076</td>\n",
       "      <td>C</td>\n",
       "      <td>0.228130</td>\n",
       "      <td>0.861310</td>\n",
       "      <td>0.037220</td>\n",
       "      <td>NaN</td>\n",
       "      <td>NaN</td>\n",
       "      <td>NaN</td>\n",
       "      <td>NaN</td>\n",
       "    </tr>\n",
       "    <tr>\n",
       "      <th>300</th>\n",
       "      <td>E424</td>\n",
       "      <td>***贸易有限公司</td>\n",
       "      <td>3</td>\n",
       "      <td>1.000000e+00</td>\n",
       "      <td>0.387780</td>\n",
       "      <td>F</td>\n",
       "      <td>0.285962</td>\n",
       "      <td>0.835670</td>\n",
       "      <td>0.071453</td>\n",
       "      <td>NaN</td>\n",
       "      <td>NaN</td>\n",
       "      <td>NaN</td>\n",
       "      <td>NaN</td>\n",
       "    </tr>\n",
       "    <tr>\n",
       "      <th>301</th>\n",
       "      <td>E425</td>\n",
       "      <td>***商贸有限公司</td>\n",
       "      <td>3</td>\n",
       "      <td>1.000000e+00</td>\n",
       "      <td>0.353832</td>\n",
       "      <td>F</td>\n",
       "      <td>0.253026</td>\n",
       "      <td>0.818357</td>\n",
       "      <td>0.003811</td>\n",
       "      <td>NaN</td>\n",
       "      <td>NaN</td>\n",
       "      <td>NaN</td>\n",
       "      <td>NaN</td>\n",
       "    </tr>\n",
       "  </tbody>\n",
       "</table>\n",
       "<p>302 rows × 13 columns</p>\n",
       "</div>"
      ],
      "text/plain": [
       "     企业代号         企业名称  信誉评级预测         违约概率预测      最终得分 具体类别        收支  \\\n",
       "0    E124    个体经营E124        0  1.479037e-118  0.824074    Z  0.984573   \n",
       "1    E125    个体经营E125        0  6.415670e-138  0.832943    Z  1.000000   \n",
       "2    E126    个体经营E126        0   1.823919e-36  0.791100    Z  0.890867   \n",
       "3    E127    个体经营E127        1   6.684340e-37  0.687190    Z  0.729281   \n",
       "4    E128    个体经营E128        0   5.776832e-12  0.710705    Z  0.756402   \n",
       "..    ...          ...     ...            ...       ...  ...       ...   \n",
       "297  E421  ***保温材料有限公司       3   2.224042e-01  0.358678    C  0.245536   \n",
       "298  E422       ***童装店       3   6.782840e-23  0.244147    F  0.020859   \n",
       "299  E423  ***通风设备有限公司       3   1.000000e+00  0.353076    C  0.228130   \n",
       "300  E424    ***贸易有限公司       3   1.000000e+00  0.387780    F  0.285962   \n",
       "301  E425    ***商贸有限公司       3   1.000000e+00  0.353832    F  0.253026   \n",
       "\n",
       "         市场稳定      进步因子 对应类别   factor1   factor2   factor3  \n",
       "0    0.823649  0.089913    A -0.033333 -0.033333 -0.016667  \n",
       "1    0.828448  0.075867    B -0.066667 -0.066667  0.016667  \n",
       "2    0.939260  0.075424    C -0.066667 -0.033333  0.016667  \n",
       "3    0.948611  0.037717    D  0.016667 -0.016667  0.000000  \n",
       "4    0.952134  0.079647    E -0.133333 -0.083333 -0.066667  \n",
       "..        ...       ...  ...       ...       ...       ...  \n",
       "297  0.845089  0.026899  NaN       NaN       NaN       NaN  \n",
       "298  0.814926  0.269309  NaN       NaN       NaN       NaN  \n",
       "299  0.861310  0.037220  NaN       NaN       NaN       NaN  \n",
       "300  0.835670  0.071453  NaN       NaN       NaN       NaN  \n",
       "301  0.818357  0.003811  NaN       NaN       NaN       NaN  \n",
       "\n",
       "[302 rows x 13 columns]"
      ]
     },
     "execution_count": 660,
     "metadata": {},
     "output_type": "execute_result"
    }
   ],
   "source": [
    "df_adj=pd.read_excel('pro2pre.xlsx')\n",
    "df_adj"
   ]
  },
  {
   "cell_type": "code",
   "execution_count": 661,
   "id": "17b57db1",
   "metadata": {
    "ExecuteTime": {
     "end_time": "2021-09-02T02:31:38.831840Z",
     "start_time": "2021-09-02T02:31:38.808880Z"
    }
   },
   "outputs": [
    {
     "data": {
      "text/html": [
       "<div>\n",
       "<style scoped>\n",
       "    .dataframe tbody tr th:only-of-type {\n",
       "        vertical-align: middle;\n",
       "    }\n",
       "\n",
       "    .dataframe tbody tr th {\n",
       "        vertical-align: top;\n",
       "    }\n",
       "\n",
       "    .dataframe thead th {\n",
       "        text-align: right;\n",
       "    }\n",
       "</style>\n",
       "<table border=\"1\" class=\"dataframe\">\n",
       "  <thead>\n",
       "    <tr style=\"text-align: right;\">\n",
       "      <th></th>\n",
       "      <th>对应类别</th>\n",
       "      <th>factor1</th>\n",
       "      <th>factor2</th>\n",
       "      <th>factor3</th>\n",
       "    </tr>\n",
       "  </thead>\n",
       "  <tbody>\n",
       "    <tr>\n",
       "      <th>0</th>\n",
       "      <td>A</td>\n",
       "      <td>-0.033333</td>\n",
       "      <td>-0.033333</td>\n",
       "      <td>-0.016667</td>\n",
       "    </tr>\n",
       "    <tr>\n",
       "      <th>1</th>\n",
       "      <td>B</td>\n",
       "      <td>-0.066667</td>\n",
       "      <td>-0.066667</td>\n",
       "      <td>0.016667</td>\n",
       "    </tr>\n",
       "    <tr>\n",
       "      <th>2</th>\n",
       "      <td>C</td>\n",
       "      <td>-0.066667</td>\n",
       "      <td>-0.033333</td>\n",
       "      <td>0.016667</td>\n",
       "    </tr>\n",
       "    <tr>\n",
       "      <th>3</th>\n",
       "      <td>D</td>\n",
       "      <td>0.016667</td>\n",
       "      <td>-0.016667</td>\n",
       "      <td>0.000000</td>\n",
       "    </tr>\n",
       "    <tr>\n",
       "      <th>4</th>\n",
       "      <td>E</td>\n",
       "      <td>-0.133333</td>\n",
       "      <td>-0.083333</td>\n",
       "      <td>-0.066667</td>\n",
       "    </tr>\n",
       "    <tr>\n",
       "      <th>5</th>\n",
       "      <td>F</td>\n",
       "      <td>-0.150000</td>\n",
       "      <td>-0.083333</td>\n",
       "      <td>-0.050000</td>\n",
       "    </tr>\n",
       "    <tr>\n",
       "      <th>6</th>\n",
       "      <td>G</td>\n",
       "      <td>-0.150000</td>\n",
       "      <td>-0.033333</td>\n",
       "      <td>-0.033333</td>\n",
       "    </tr>\n",
       "    <tr>\n",
       "      <th>7</th>\n",
       "      <td>H</td>\n",
       "      <td>-0.400000</td>\n",
       "      <td>-0.083333</td>\n",
       "      <td>-0.100000</td>\n",
       "    </tr>\n",
       "    <tr>\n",
       "      <th>8</th>\n",
       "      <td>I</td>\n",
       "      <td>0.150000</td>\n",
       "      <td>0.050000</td>\n",
       "      <td>0.133333</td>\n",
       "    </tr>\n",
       "    <tr>\n",
       "      <th>9</th>\n",
       "      <td>J</td>\n",
       "      <td>-0.033333</td>\n",
       "      <td>0.016667</td>\n",
       "      <td>0.000000</td>\n",
       "    </tr>\n",
       "    <tr>\n",
       "      <th>10</th>\n",
       "      <td>K</td>\n",
       "      <td>-0.066667</td>\n",
       "      <td>-0.033333</td>\n",
       "      <td>-0.050000</td>\n",
       "    </tr>\n",
       "    <tr>\n",
       "      <th>11</th>\n",
       "      <td>L</td>\n",
       "      <td>-0.133333</td>\n",
       "      <td>-0.050000</td>\n",
       "      <td>0.016667</td>\n",
       "    </tr>\n",
       "    <tr>\n",
       "      <th>12</th>\n",
       "      <td>M</td>\n",
       "      <td>-0.016667</td>\n",
       "      <td>0.033333</td>\n",
       "      <td>0.083333</td>\n",
       "    </tr>\n",
       "    <tr>\n",
       "      <th>13</th>\n",
       "      <td>N</td>\n",
       "      <td>0.000000</td>\n",
       "      <td>-0.016667</td>\n",
       "      <td>0.000000</td>\n",
       "    </tr>\n",
       "    <tr>\n",
       "      <th>14</th>\n",
       "      <td>O</td>\n",
       "      <td>-0.066667</td>\n",
       "      <td>-0.016667</td>\n",
       "      <td>-0.016667</td>\n",
       "    </tr>\n",
       "    <tr>\n",
       "      <th>15</th>\n",
       "      <td>Q</td>\n",
       "      <td>0.200000</td>\n",
       "      <td>0.016667</td>\n",
       "      <td>0.116667</td>\n",
       "    </tr>\n",
       "    <tr>\n",
       "      <th>16</th>\n",
       "      <td>R</td>\n",
       "      <td>-0.133333</td>\n",
       "      <td>-0.066667</td>\n",
       "      <td>-0.033333</td>\n",
       "    </tr>\n",
       "    <tr>\n",
       "      <th>17</th>\n",
       "      <td>Z</td>\n",
       "      <td>-0.083333</td>\n",
       "      <td>-0.083333</td>\n",
       "      <td>-0.050000</td>\n",
       "    </tr>\n",
       "  </tbody>\n",
       "</table>\n",
       "</div>"
      ],
      "text/plain": [
       "   对应类别   factor1   factor2   factor3\n",
       "0     A -0.033333 -0.033333 -0.016667\n",
       "1     B -0.066667 -0.066667  0.016667\n",
       "2     C -0.066667 -0.033333  0.016667\n",
       "3     D  0.016667 -0.016667  0.000000\n",
       "4     E -0.133333 -0.083333 -0.066667\n",
       "5     F -0.150000 -0.083333 -0.050000\n",
       "6     G -0.150000 -0.033333 -0.033333\n",
       "7     H -0.400000 -0.083333 -0.100000\n",
       "8     I  0.150000  0.050000  0.133333\n",
       "9     J -0.033333  0.016667  0.000000\n",
       "10    K -0.066667 -0.033333 -0.050000\n",
       "11    L -0.133333 -0.050000  0.016667\n",
       "12    M -0.016667  0.033333  0.083333\n",
       "13    N  0.000000 -0.016667  0.000000\n",
       "14    O -0.066667 -0.016667 -0.016667\n",
       "15    Q  0.200000  0.016667  0.116667\n",
       "16    R -0.133333 -0.066667 -0.033333\n",
       "17    Z -0.083333 -0.083333 -0.050000"
      ]
     },
     "execution_count": 661,
     "metadata": {},
     "output_type": "execute_result"
    }
   ],
   "source": [
    "factor=df_adj.iloc[:,-4:].dropna()\n",
    "factor"
   ]
  },
  {
   "cell_type": "code",
   "execution_count": 662,
   "id": "1786c51c",
   "metadata": {
    "ExecuteTime": {
     "end_time": "2021-09-02T02:31:52.550373Z",
     "start_time": "2021-09-02T02:31:52.542813Z"
    }
   },
   "outputs": [
    {
     "data": {
      "text/plain": [
       "{'A': array([0.966666667, 0.966666667, 0.983333333], dtype=object),\n",
       " 'B': array([0.933333333, 0.933333333, 1.016666667], dtype=object),\n",
       " 'C': array([0.933333333, 0.966666667, 1.016666667], dtype=object),\n",
       " 'D': array([1.016666667, 0.983333333, 1.0], dtype=object),\n",
       " 'E': array([0.8666666670000001, 0.916666667, 0.933333333], dtype=object),\n",
       " 'F': array([0.85, 0.916666667, 0.95], dtype=object),\n",
       " 'G': array([0.85, 0.966666667, 0.966666667], dtype=object),\n",
       " 'H': array([0.6, 0.916666667, 0.9], dtype=object),\n",
       " 'I': array([1.15, 1.05, 1.133333333], dtype=object),\n",
       " 'J': array([0.966666667, 1.016666667, 1.0], dtype=object),\n",
       " 'K': array([0.933333333, 0.966666667, 0.95], dtype=object),\n",
       " 'L': array([0.8666666670000001, 0.95, 1.016666667], dtype=object),\n",
       " 'M': array([0.983333333, 1.033333333, 1.083333333], dtype=object),\n",
       " 'N': array([1.0, 0.983333333, 1.0], dtype=object),\n",
       " 'O': array([0.933333333, 0.983333333, 0.983333333], dtype=object),\n",
       " 'Q': array([1.2, 1.016666667, 1.116666667], dtype=object),\n",
       " 'R': array([0.8666666670000001, 0.933333333, 0.966666667], dtype=object),\n",
       " 'Z': array([0.916666667, 0.916666667, 0.95], dtype=object)}"
      ]
     },
     "execution_count": 662,
     "metadata": {},
     "output_type": "execute_result"
    }
   ],
   "source": [
    "change_dic=dict(zip(factor.values[:,0],1+factor.values[:,1:]))\n",
    "change_dic"
   ]
  },
  {
   "cell_type": "code",
   "execution_count": 663,
   "id": "21a8647e",
   "metadata": {
    "ExecuteTime": {
     "end_time": "2021-09-02T02:31:57.171670Z",
     "start_time": "2021-09-02T02:31:57.158704Z"
    }
   },
   "outputs": [
    {
     "data": {
      "text/html": [
       "<div>\n",
       "<style scoped>\n",
       "    .dataframe tbody tr th:only-of-type {\n",
       "        vertical-align: middle;\n",
       "    }\n",
       "\n",
       "    .dataframe tbody tr th {\n",
       "        vertical-align: top;\n",
       "    }\n",
       "\n",
       "    .dataframe thead th {\n",
       "        text-align: right;\n",
       "    }\n",
       "</style>\n",
       "<table border=\"1\" class=\"dataframe\">\n",
       "  <thead>\n",
       "    <tr style=\"text-align: right;\">\n",
       "      <th></th>\n",
       "      <th>具体类别</th>\n",
       "      <th>收支</th>\n",
       "      <th>市场稳定</th>\n",
       "      <th>进步因子</th>\n",
       "    </tr>\n",
       "  </thead>\n",
       "  <tbody>\n",
       "    <tr>\n",
       "      <th>0</th>\n",
       "      <td>Z</td>\n",
       "      <td>0.984573</td>\n",
       "      <td>0.823649</td>\n",
       "      <td>0.089913</td>\n",
       "    </tr>\n",
       "    <tr>\n",
       "      <th>1</th>\n",
       "      <td>Z</td>\n",
       "      <td>1.000000</td>\n",
       "      <td>0.828448</td>\n",
       "      <td>0.075867</td>\n",
       "    </tr>\n",
       "    <tr>\n",
       "      <th>2</th>\n",
       "      <td>Z</td>\n",
       "      <td>0.890867</td>\n",
       "      <td>0.939260</td>\n",
       "      <td>0.075424</td>\n",
       "    </tr>\n",
       "    <tr>\n",
       "      <th>3</th>\n",
       "      <td>Z</td>\n",
       "      <td>0.729281</td>\n",
       "      <td>0.948611</td>\n",
       "      <td>0.037717</td>\n",
       "    </tr>\n",
       "    <tr>\n",
       "      <th>4</th>\n",
       "      <td>Z</td>\n",
       "      <td>0.756402</td>\n",
       "      <td>0.952134</td>\n",
       "      <td>0.079647</td>\n",
       "    </tr>\n",
       "    <tr>\n",
       "      <th>...</th>\n",
       "      <td>...</td>\n",
       "      <td>...</td>\n",
       "      <td>...</td>\n",
       "      <td>...</td>\n",
       "    </tr>\n",
       "    <tr>\n",
       "      <th>297</th>\n",
       "      <td>C</td>\n",
       "      <td>0.245536</td>\n",
       "      <td>0.845089</td>\n",
       "      <td>0.026899</td>\n",
       "    </tr>\n",
       "    <tr>\n",
       "      <th>298</th>\n",
       "      <td>F</td>\n",
       "      <td>0.020859</td>\n",
       "      <td>0.814926</td>\n",
       "      <td>0.269309</td>\n",
       "    </tr>\n",
       "    <tr>\n",
       "      <th>299</th>\n",
       "      <td>C</td>\n",
       "      <td>0.228130</td>\n",
       "      <td>0.861310</td>\n",
       "      <td>0.037220</td>\n",
       "    </tr>\n",
       "    <tr>\n",
       "      <th>300</th>\n",
       "      <td>F</td>\n",
       "      <td>0.285962</td>\n",
       "      <td>0.835670</td>\n",
       "      <td>0.071453</td>\n",
       "    </tr>\n",
       "    <tr>\n",
       "      <th>301</th>\n",
       "      <td>F</td>\n",
       "      <td>0.253026</td>\n",
       "      <td>0.818357</td>\n",
       "      <td>0.003811</td>\n",
       "    </tr>\n",
       "  </tbody>\n",
       "</table>\n",
       "<p>302 rows × 4 columns</p>\n",
       "</div>"
      ],
      "text/plain": [
       "    具体类别        收支      市场稳定      进步因子\n",
       "0      Z  0.984573  0.823649  0.089913\n",
       "1      Z  1.000000  0.828448  0.075867\n",
       "2      Z  0.890867  0.939260  0.075424\n",
       "3      Z  0.729281  0.948611  0.037717\n",
       "4      Z  0.756402  0.952134  0.079647\n",
       "..   ...       ...       ...       ...\n",
       "297    C  0.245536  0.845089  0.026899\n",
       "298    F  0.020859  0.814926  0.269309\n",
       "299    C  0.228130  0.861310  0.037220\n",
       "300    F  0.285962  0.835670  0.071453\n",
       "301    F  0.253026  0.818357  0.003811\n",
       "\n",
       "[302 rows x 4 columns]"
      ]
     },
     "execution_count": 663,
     "metadata": {},
     "output_type": "execute_result"
    }
   ],
   "source": [
    "score_raw=df_adj.iloc[:,5:9]\n",
    "score_raw"
   ]
  },
  {
   "cell_type": "code",
   "execution_count": 665,
   "id": "a58c2443",
   "metadata": {
    "ExecuteTime": {
     "end_time": "2021-09-02T02:32:21.022699Z",
     "start_time": "2021-09-02T02:32:20.943854Z"
    }
   },
   "outputs": [
    {
     "name": "stdout",
     "output_type": "stream",
     "text": [
      "<class 'pandas.core.frame.DataFrame'>\n",
      "RangeIndex: 302 entries, 0 to 301\n",
      "Data columns (total 5 columns):\n",
      " #   Column  Non-Null Count  Dtype  \n",
      "---  ------  --------------  -----  \n",
      " 0   具体类别    302 non-null    object \n",
      " 1   收支      302 non-null    float64\n",
      " 2   市场稳定    302 non-null    float64\n",
      " 3   进步因子    302 non-null    float64\n",
      " 4   change  302 non-null    object \n",
      "dtypes: float64(3), object(2)\n",
      "memory usage: 11.9+ KB\n"
     ]
    }
   ],
   "source": [
    "score_raw['change']=score_raw.iloc[:,0].map(change_dic)\n",
    "score_raw.to_excel('score_raw.xlsx',index=False)\n",
    "score_raw.info()"
   ]
  },
  {
   "cell_type": "code",
   "execution_count": 668,
   "id": "b29efdff",
   "metadata": {
    "ExecuteTime": {
     "end_time": "2021-09-02T02:33:17.649948Z",
     "start_time": "2021-09-02T02:33:17.628635Z"
    }
   },
   "outputs": [
    {
     "data": {
      "text/html": [
       "<div>\n",
       "<style scoped>\n",
       "    .dataframe tbody tr th:only-of-type {\n",
       "        vertical-align: middle;\n",
       "    }\n",
       "\n",
       "    .dataframe tbody tr th {\n",
       "        vertical-align: top;\n",
       "    }\n",
       "\n",
       "    .dataframe thead th {\n",
       "        text-align: right;\n",
       "    }\n",
       "</style>\n",
       "<table border=\"1\" class=\"dataframe\">\n",
       "  <thead>\n",
       "    <tr style=\"text-align: right;\">\n",
       "      <th></th>\n",
       "      <th>具体类别</th>\n",
       "      <th>收支</th>\n",
       "      <th>市场稳定</th>\n",
       "      <th>进步因子</th>\n",
       "      <th>change</th>\n",
       "    </tr>\n",
       "  </thead>\n",
       "  <tbody>\n",
       "    <tr>\n",
       "      <th>0</th>\n",
       "      <td>Z</td>\n",
       "      <td>0.902526</td>\n",
       "      <td>0.823649</td>\n",
       "      <td>0.089913</td>\n",
       "      <td>[0.916666667, 0.916666667, 0.95]</td>\n",
       "    </tr>\n",
       "    <tr>\n",
       "      <th>1</th>\n",
       "      <td>Z</td>\n",
       "      <td>0.916667</td>\n",
       "      <td>0.828448</td>\n",
       "      <td>0.075867</td>\n",
       "      <td>[0.916666667, 0.916666667, 0.95]</td>\n",
       "    </tr>\n",
       "    <tr>\n",
       "      <th>2</th>\n",
       "      <td>Z</td>\n",
       "      <td>0.816628</td>\n",
       "      <td>0.939260</td>\n",
       "      <td>0.075424</td>\n",
       "      <td>[0.916666667, 0.916666667, 0.95]</td>\n",
       "    </tr>\n",
       "    <tr>\n",
       "      <th>3</th>\n",
       "      <td>Z</td>\n",
       "      <td>0.668508</td>\n",
       "      <td>0.948611</td>\n",
       "      <td>0.037717</td>\n",
       "      <td>[0.916666667, 0.916666667, 0.95]</td>\n",
       "    </tr>\n",
       "    <tr>\n",
       "      <th>4</th>\n",
       "      <td>Z</td>\n",
       "      <td>0.693369</td>\n",
       "      <td>0.952134</td>\n",
       "      <td>0.079647</td>\n",
       "      <td>[0.916666667, 0.916666667, 0.95]</td>\n",
       "    </tr>\n",
       "    <tr>\n",
       "      <th>...</th>\n",
       "      <td>...</td>\n",
       "      <td>...</td>\n",
       "      <td>...</td>\n",
       "      <td>...</td>\n",
       "      <td>...</td>\n",
       "    </tr>\n",
       "    <tr>\n",
       "      <th>297</th>\n",
       "      <td>C</td>\n",
       "      <td>0.229167</td>\n",
       "      <td>0.845089</td>\n",
       "      <td>0.026899</td>\n",
       "      <td>[0.933333333, 0.966666667, 1.016666667]</td>\n",
       "    </tr>\n",
       "    <tr>\n",
       "      <th>298</th>\n",
       "      <td>F</td>\n",
       "      <td>0.017730</td>\n",
       "      <td>0.814926</td>\n",
       "      <td>0.269309</td>\n",
       "      <td>[0.85, 0.916666667, 0.95]</td>\n",
       "    </tr>\n",
       "    <tr>\n",
       "      <th>299</th>\n",
       "      <td>C</td>\n",
       "      <td>0.212922</td>\n",
       "      <td>0.861310</td>\n",
       "      <td>0.037220</td>\n",
       "      <td>[0.933333333, 0.966666667, 1.016666667]</td>\n",
       "    </tr>\n",
       "    <tr>\n",
       "      <th>300</th>\n",
       "      <td>F</td>\n",
       "      <td>0.243068</td>\n",
       "      <td>0.835670</td>\n",
       "      <td>0.071453</td>\n",
       "      <td>[0.85, 0.916666667, 0.95]</td>\n",
       "    </tr>\n",
       "    <tr>\n",
       "      <th>301</th>\n",
       "      <td>F</td>\n",
       "      <td>0.215072</td>\n",
       "      <td>0.818357</td>\n",
       "      <td>0.003811</td>\n",
       "      <td>[0.85, 0.916666667, 0.95]</td>\n",
       "    </tr>\n",
       "  </tbody>\n",
       "</table>\n",
       "<p>302 rows × 5 columns</p>\n",
       "</div>"
      ],
      "text/plain": [
       "    具体类别        收支      市场稳定      进步因子  \\\n",
       "0      Z  0.902526  0.823649  0.089913   \n",
       "1      Z  0.916667  0.828448  0.075867   \n",
       "2      Z  0.816628  0.939260  0.075424   \n",
       "3      Z  0.668508  0.948611  0.037717   \n",
       "4      Z  0.693369  0.952134  0.079647   \n",
       "..   ...       ...       ...       ...   \n",
       "297    C  0.229167  0.845089  0.026899   \n",
       "298    F  0.017730  0.814926  0.269309   \n",
       "299    C  0.212922  0.861310  0.037220   \n",
       "300    F  0.243068  0.835670  0.071453   \n",
       "301    F  0.215072  0.818357  0.003811   \n",
       "\n",
       "                                      change  \n",
       "0           [0.916666667, 0.916666667, 0.95]  \n",
       "1           [0.916666667, 0.916666667, 0.95]  \n",
       "2           [0.916666667, 0.916666667, 0.95]  \n",
       "3           [0.916666667, 0.916666667, 0.95]  \n",
       "4           [0.916666667, 0.916666667, 0.95]  \n",
       "..                                       ...  \n",
       "297  [0.933333333, 0.966666667, 1.016666667]  \n",
       "298                [0.85, 0.916666667, 0.95]  \n",
       "299  [0.933333333, 0.966666667, 1.016666667]  \n",
       "300                [0.85, 0.916666667, 0.95]  \n",
       "301                [0.85, 0.916666667, 0.95]  \n",
       "\n",
       "[302 rows x 5 columns]"
      ]
     },
     "execution_count": 668,
     "metadata": {},
     "output_type": "execute_result"
    }
   ],
   "source": [
    "score_adj=pd.DataFrame(score_raw)\n",
    "score_adj#.iloc[:,-1]"
   ]
  },
  {
   "cell_type": "code",
   "execution_count": 671,
   "id": "027bcf95",
   "metadata": {
    "ExecuteTime": {
     "end_time": "2021-09-02T02:35:50.056556Z",
     "start_time": "2021-09-02T02:35:49.966085Z"
    }
   },
   "outputs": [
    {
     "data": {
      "text/html": [
       "<div>\n",
       "<style scoped>\n",
       "    .dataframe tbody tr th:only-of-type {\n",
       "        vertical-align: middle;\n",
       "    }\n",
       "\n",
       "    .dataframe tbody tr th {\n",
       "        vertical-align: top;\n",
       "    }\n",
       "\n",
       "    .dataframe thead th {\n",
       "        text-align: right;\n",
       "    }\n",
       "</style>\n",
       "<table border=\"1\" class=\"dataframe\">\n",
       "  <thead>\n",
       "    <tr style=\"text-align: right;\">\n",
       "      <th></th>\n",
       "      <th>具体类别</th>\n",
       "      <th>收支</th>\n",
       "      <th>市场稳定</th>\n",
       "      <th>进步因子</th>\n",
       "      <th>change</th>\n",
       "    </tr>\n",
       "  </thead>\n",
       "  <tbody>\n",
       "    <tr>\n",
       "      <th>0</th>\n",
       "      <td>Z</td>\n",
       "      <td>0.695174</td>\n",
       "      <td>0.692094</td>\n",
       "      <td>0.081146</td>\n",
       "      <td>[0.916666667, 0.916666667, 0.95]</td>\n",
       "    </tr>\n",
       "    <tr>\n",
       "      <th>1</th>\n",
       "      <td>Z</td>\n",
       "      <td>0.706067</td>\n",
       "      <td>0.696126</td>\n",
       "      <td>0.068470</td>\n",
       "      <td>[0.916666667, 0.916666667, 0.95]</td>\n",
       "    </tr>\n",
       "    <tr>\n",
       "      <th>2</th>\n",
       "      <td>Z</td>\n",
       "      <td>0.629011</td>\n",
       "      <td>0.789239</td>\n",
       "      <td>0.068070</td>\n",
       "      <td>[0.916666667, 0.916666667, 0.95]</td>\n",
       "    </tr>\n",
       "    <tr>\n",
       "      <th>3</th>\n",
       "      <td>Z</td>\n",
       "      <td>0.514921</td>\n",
       "      <td>0.797097</td>\n",
       "      <td>0.034040</td>\n",
       "      <td>[0.916666667, 0.916666667, 0.95]</td>\n",
       "    </tr>\n",
       "    <tr>\n",
       "      <th>4</th>\n",
       "      <td>Z</td>\n",
       "      <td>0.534070</td>\n",
       "      <td>0.800057</td>\n",
       "      <td>0.071881</td>\n",
       "      <td>[0.916666667, 0.916666667, 0.95]</td>\n",
       "    </tr>\n",
       "    <tr>\n",
       "      <th>...</th>\n",
       "      <td>...</td>\n",
       "      <td>...</td>\n",
       "      <td>...</td>\n",
       "      <td>...</td>\n",
       "      <td>...</td>\n",
       "    </tr>\n",
       "    <tr>\n",
       "      <th>297</th>\n",
       "      <td>C</td>\n",
       "      <td>0.186321</td>\n",
       "      <td>0.789689</td>\n",
       "      <td>0.027803</td>\n",
       "      <td>[0.933333333, 0.966666667, 1.016666667]</td>\n",
       "    </tr>\n",
       "    <tr>\n",
       "      <th>298</th>\n",
       "      <td>F</td>\n",
       "      <td>0.010889</td>\n",
       "      <td>0.684765</td>\n",
       "      <td>0.243051</td>\n",
       "      <td>[0.85, 0.916666667, 0.95]</td>\n",
       "    </tr>\n",
       "    <tr>\n",
       "      <th>299</th>\n",
       "      <td>C</td>\n",
       "      <td>0.173113</td>\n",
       "      <td>0.804847</td>\n",
       "      <td>0.038471</td>\n",
       "      <td>[0.933333333, 0.966666667, 1.016666667]</td>\n",
       "    </tr>\n",
       "    <tr>\n",
       "      <th>300</th>\n",
       "      <td>F</td>\n",
       "      <td>0.149274</td>\n",
       "      <td>0.702195</td>\n",
       "      <td>0.064486</td>\n",
       "      <td>[0.85, 0.916666667, 0.95]</td>\n",
       "    </tr>\n",
       "    <tr>\n",
       "      <th>301</th>\n",
       "      <td>F</td>\n",
       "      <td>0.132081</td>\n",
       "      <td>0.687647</td>\n",
       "      <td>0.003439</td>\n",
       "      <td>[0.85, 0.916666667, 0.95]</td>\n",
       "    </tr>\n",
       "  </tbody>\n",
       "</table>\n",
       "<p>302 rows × 5 columns</p>\n",
       "</div>"
      ],
      "text/plain": [
       "    具体类别        收支      市场稳定      进步因子  \\\n",
       "0      Z  0.695174  0.692094  0.081146   \n",
       "1      Z  0.706067  0.696126  0.068470   \n",
       "2      Z  0.629011  0.789239  0.068070   \n",
       "3      Z  0.514921  0.797097  0.034040   \n",
       "4      Z  0.534070  0.800057  0.071881   \n",
       "..   ...       ...       ...       ...   \n",
       "297    C  0.186321  0.789689  0.027803   \n",
       "298    F  0.010889  0.684765  0.243051   \n",
       "299    C  0.173113  0.804847  0.038471   \n",
       "300    F  0.149274  0.702195  0.064486   \n",
       "301    F  0.132081  0.687647  0.003439   \n",
       "\n",
       "                                      change  \n",
       "0           [0.916666667, 0.916666667, 0.95]  \n",
       "1           [0.916666667, 0.916666667, 0.95]  \n",
       "2           [0.916666667, 0.916666667, 0.95]  \n",
       "3           [0.916666667, 0.916666667, 0.95]  \n",
       "4           [0.916666667, 0.916666667, 0.95]  \n",
       "..                                       ...  \n",
       "297  [0.933333333, 0.966666667, 1.016666667]  \n",
       "298                [0.85, 0.916666667, 0.95]  \n",
       "299  [0.933333333, 0.966666667, 1.016666667]  \n",
       "300                [0.85, 0.916666667, 0.95]  \n",
       "301                [0.85, 0.916666667, 0.95]  \n",
       "\n",
       "[302 rows x 5 columns]"
      ]
     },
     "execution_count": 671,
     "metadata": {},
     "output_type": "execute_result"
    }
   ],
   "source": [
    "score_adj['收支']=score_raw['收支']*score_adj['change'].map(lambda x: x[0])\n",
    "score_adj['市场稳定']=score_raw['市场稳定']*score_adj['change'].map(lambda x: x[1])\n",
    "score_adj['进步因子']=score_raw['进步因子']*score_adj['change'].map(lambda x: x[2])\n",
    "score_adj.to_excel('score_adj.xlsx',index=False)\n",
    "score_adj"
   ]
  },
  {
   "cell_type": "code",
   "execution_count": 647,
   "id": "76505c95",
   "metadata": {
    "ExecuteTime": {
     "end_time": "2021-09-02T02:14:40.501865Z",
     "start_time": "2021-09-02T02:14:40.424015Z"
    },
    "collapsed": true
   },
   "outputs": [
    {
     "data": {
      "text/plain": [
       "[('A',\n",
       "      具体类别        收支      市场稳定      进步因子\n",
       "  61     A  0.617148  0.884305  0.056894\n",
       "  212    A  0.426855  0.779978  0.054314),\n",
       " ('B',\n",
       "      具体类别        收支      市场稳定      进步因子\n",
       "  64     B  0.798413  0.978259  0.050234\n",
       "  65     B  0.742415  0.926667  0.104915\n",
       "  123    B  0.673478  0.966204  0.082757),\n",
       " ('C',\n",
       "      具体类别        收支      市场稳定      进步因子\n",
       "  11     C  0.773414  0.886959  0.069897\n",
       "  12     C  0.828062  0.973408  0.108409\n",
       "  17     C  0.791831  0.954198  0.064162\n",
       "  21     C  0.829855  0.962896  0.053445\n",
       "  22     C  0.838337  0.934536  0.059350\n",
       "  27     C  0.730495  0.917228  0.057977\n",
       "  33     C  0.772761  0.791967  0.108726\n",
       "  36     C  0.869887  0.935254  0.051613\n",
       "  50     C  0.805472  0.970241  0.048436\n",
       "  51     C  0.798682  0.954264  0.051643\n",
       "  57     C  0.799803  0.970028  0.060566\n",
       "  59     C  0.742768  0.836715  0.075847\n",
       "  68     C  0.715552  0.815671  0.115135\n",
       "  72     C  0.771829  0.957335  0.047099\n",
       "  73     C  0.842838  0.965150  0.064898\n",
       "  79     C  0.728983  0.817277  0.077259\n",
       "  82     C  0.799283  0.888108  0.063595\n",
       "  92     C  0.753864  0.860835  0.071514\n",
       "  94     C  0.747912  0.840946  0.160140\n",
       "  100    C  0.816829  0.965855  0.031393\n",
       "  102    C  0.752165  0.911928  0.072360\n",
       "  126    C  0.679836  0.933785  0.049984\n",
       "  127    C  0.647621  0.896918  0.409795\n",
       "  128    C  0.728168  0.953536  0.038783\n",
       "  129    C  0.692777  0.888105  0.081126\n",
       "  130    C  0.645213  0.831847  0.043612\n",
       "  137    C  0.651347  0.955249  0.092460\n",
       "  142    C  0.595099  0.940351  0.039713\n",
       "  152    C  0.607329  0.825828  0.070115\n",
       "  153    C  0.666736  0.963949  0.049653\n",
       "  155    C  0.682052  0.950288  0.051874\n",
       "  159    C  0.676797  0.976712  0.051568\n",
       "  160    C  0.656919  0.959841  0.061548\n",
       "  162    C  0.654386  0.934030  0.090815\n",
       "  163    C  0.670449  0.910137  0.054039\n",
       "  166    C  0.634110  0.961475  0.052094\n",
       "  167    C  0.658574  0.892895  0.113726\n",
       "  171    C  0.658956  0.944779  0.060645\n",
       "  176    C  0.671301  0.898525  0.217321\n",
       "  178    C  0.594498  0.931897  0.091804\n",
       "  191    C  0.583420  0.962856  0.051401\n",
       "  201    C  0.683573  0.960981  0.042159\n",
       "  202    C  0.636464  0.915726  0.044993\n",
       "  217    C  0.513871  0.958229  0.029422\n",
       "  218    C  0.552093  0.923613  0.054493\n",
       "  220    C  0.495610  0.923514  0.052125\n",
       "  223    C  0.478445  0.953050  0.045354\n",
       "  255    C  0.495936  0.894329  0.022230\n",
       "  256    C  0.160978  0.533051  0.063183\n",
       "  279    C  0.359394  0.944413  0.024447\n",
       "  284    C  0.318892  0.910270  0.042108\n",
       "  285    C  0.263205  0.902436  0.121852\n",
       "  287    C  0.344284  0.855994  0.054218\n",
       "  289    C  0.252632  0.903597  0.273755\n",
       "  297    C  0.245536  0.845089  0.026899\n",
       "  299    C  0.228130  0.861310  0.037220),\n",
       " ('D',\n",
       "      具体类别        收支      市场稳定      进步因子\n",
       "  53     D  0.804473  0.895267  0.034622\n",
       "  56     D  0.785886  0.971285  0.062222\n",
       "  175    D  0.695737  0.949217  0.059110),\n",
       " ('E',\n",
       "      具体类别        收支      市场稳定      进步因子\n",
       "  13     E  0.832081  0.884256  0.063930\n",
       "  16     E  0.739472  0.879077  0.048412\n",
       "  23     E  0.851570  0.888426  0.034398\n",
       "  25     E  0.613080  0.853227  0.097753\n",
       "  26     E  0.811515  0.947325  0.074929\n",
       "  34     E  0.787231  0.852344  0.137017\n",
       "  37     E  0.654824  0.811133  0.040639\n",
       "  42     E  0.667751  0.660938  0.146810\n",
       "  44     E  0.637808  0.953566  0.083076\n",
       "  45     E  0.807411  0.861698  0.066038\n",
       "  46     E  0.756778  0.883891  0.143688\n",
       "  60     E  0.748906  0.886146  0.079323\n",
       "  62     E  0.668374  0.844607  0.082212\n",
       "  75     E  0.544701  0.717104  0.104457\n",
       "  86     E  0.674632  0.912854  0.156674\n",
       "  90     E  0.761171  0.856961  0.053524\n",
       "  91     E  0.557620  0.851958  0.222810\n",
       "  106    E  0.520526  0.728387  0.047111\n",
       "  107    E  0.728196  0.832406  0.299871\n",
       "  121    E  0.499495  0.804316  0.084826\n",
       "  125    E  0.741127  0.835121  0.028283\n",
       "  133    E  0.687952  0.895571  0.050001\n",
       "  144    E  0.643154  0.783435  0.036895\n",
       "  150    E  0.414136  0.679813  0.150764\n",
       "  172    E  0.627764  0.858311  0.230345\n",
       "  196    E  0.602507  0.592727  0.133666\n",
       "  198    E  0.630481  0.927532  0.109874\n",
       "  199    E  0.580671  0.807390  0.589067\n",
       "  228    E  0.584133  0.928752  0.036952\n",
       "  232    E  0.293694  0.615328  0.096805\n",
       "  236    E  0.208641  0.509643  0.016888\n",
       "  238    E  0.473350  0.859131  0.013095\n",
       "  239    E  0.394639  0.875232  0.188366\n",
       "  252    E  0.233038  0.608492  0.235427\n",
       "  261    E  0.287214  0.788934  0.117080\n",
       "  266    E  0.236250  0.901900  0.055189\n",
       "  275    E  0.257051  0.903404  0.027575\n",
       "  283    E  0.444604  0.820057  0.137644),\n",
       " ('F',\n",
       "      具体类别        收支      市场稳定      进步因子\n",
       "  24     F  0.753997  0.832131  0.066840\n",
       "  49     F  0.822942  0.972095  0.047112\n",
       "  54     F  0.799564  0.955353  0.079782\n",
       "  67     F  0.892401  0.926502  0.018569\n",
       "  74     F  0.775868  0.932628  0.076453\n",
       "  105    F  0.772246  0.965174  0.048418\n",
       "  110    F  0.656941  0.970360  0.138824\n",
       "  132    F  0.679102  0.970497  0.044104\n",
       "  154    F  0.651321  0.964335  0.084569\n",
       "  169    F  0.616410  0.928901  0.117822\n",
       "  188    F  0.719612  0.961523  0.043685\n",
       "  194    F  0.555910  0.950271  0.046970\n",
       "  200    F  0.731770  0.949472  0.029688\n",
       "  208    F  0.696903  0.959156  0.011037\n",
       "  214    F  0.503826  0.905671  0.046169\n",
       "  215    F  0.545551  0.974521  0.022725\n",
       "  219    F  0.203937  0.570234  0.071808\n",
       "  231    F  0.447834  0.477259  0.134816\n",
       "  233    F  0.345974  0.653371  0.097968\n",
       "  234    F  0.173793  0.524414  0.094342\n",
       "  235    F  0.157534  0.564264  0.052664\n",
       "  250    F  0.336101  0.564954  0.020005\n",
       "  251    F  0.149361  0.580994  0.068693\n",
       "  254    F  0.458341  0.941061  0.284183\n",
       "  259    F  0.377577  0.860174  0.000000\n",
       "  263    F  0.177172  0.644631  0.054775\n",
       "  264    F  0.355739  0.967876  0.048510\n",
       "  267    F  0.180398  0.758131  0.035365\n",
       "  269    F  0.406887  0.937796  0.044635\n",
       "  273    F  0.396045  0.590658  0.049650\n",
       "  276    F  0.329559  0.771910  0.028743\n",
       "  278    F  0.392224  0.862455  0.044584\n",
       "  288    F  0.296581  0.940099  0.037407\n",
       "  298    F  0.020859  0.814926  0.269309\n",
       "  300    F  0.285962  0.835670  0.071453\n",
       "  301    F  0.253026  0.818357  0.003811),\n",
       " ('G',\n",
       "      具体类别        收支      市场稳定      进步因子\n",
       "  18     G  0.786847  0.929769  0.078843\n",
       "  28     G  0.709310  0.965395  0.064135\n",
       "  39     G  0.821307  0.947372  0.047911\n",
       "  48     G  0.767831  0.972666  0.110812\n",
       "  77     G  0.751446  0.952565  0.128156\n",
       "  134    G  0.722148  0.940583  0.019933\n",
       "  165    G  0.645635  0.958091  0.040313\n",
       "  168    G  0.618365  0.936128  0.090280\n",
       "  189    G  0.630084  0.955564  0.053227\n",
       "  197    G  0.614057  0.946342  0.068718\n",
       "  216    G  0.395606  0.782173  0.036789\n",
       "  290    G  0.231134  0.783183  0.001744),\n",
       " ('H',\n",
       "      具体类别        收支      市场稳定      进步因子\n",
       "  184    H  0.626231  0.861997  0.055418),\n",
       " ('I',\n",
       "      具体类别        收支      市场稳定      进步因子\n",
       "  38     I  0.843377  0.898853  0.131572\n",
       "  139    I  0.685491  0.869037  0.051951\n",
       "  151    I  0.598646  0.820357  0.048710\n",
       "  183    I  0.565529  0.701047  0.338383\n",
       "  240    I  0.444246  0.928847  0.038873\n",
       "  241    I  0.525652  0.842445  0.116019\n",
       "  243    I  0.418819  0.668712  0.039322\n",
       "  244    I  0.429194  0.720758  0.067255\n",
       "  245    I  0.450086  0.949841  0.033190\n",
       "  257    I  0.635812  0.896342  0.052568\n",
       "  271    I  0.437314  0.894510  0.012057),\n",
       " ('J',\n",
       "      具体类别        收支      市场稳定      进步因子\n",
       "  108    J  0.738017  0.412853  0.134937),\n",
       " ('K',\n",
       "      具体类别        收支      市场稳定      进步因子\n",
       "  190    K  0.567652  0.894485  0.080540\n",
       "  209    K  0.534536  0.894875  0.067258\n",
       "  242    K  0.416697  0.516916  0.061263),\n",
       " ('L',\n",
       "      具体类别        收支      市场稳定      进步因子\n",
       "  10     L  0.695830  0.888704  0.082641\n",
       "  88     L  0.553575  0.880769  0.054597\n",
       "  109    L  0.530690  0.946885  0.637307\n",
       "  157    L  0.676118  0.953536  0.064788\n",
       "  173    L  0.648111  0.963595  0.028603\n",
       "  177    L  0.610720  0.927532  0.068418\n",
       "  181    L  0.721038  0.820807  0.026034\n",
       "  186    L  0.592664  0.941531  0.095219\n",
       "  187    L  0.569062  0.933348  0.087182\n",
       "  206    L  0.566901  0.960806  0.065887\n",
       "  211    L  0.566437  0.814052  0.130253\n",
       "  224    L  0.463895  0.867945  0.056224\n",
       "  226    L  0.427270  0.919686  0.115254\n",
       "  229    L  0.448798  0.914689  0.034966\n",
       "  258    L  0.131125  0.764465  0.195449\n",
       "  274    L  0.319623  0.926225  0.055490\n",
       "  281    L  0.326069  0.562519  0.014734\n",
       "  282    L  0.380885  0.867276  0.079507\n",
       "  294    L  0.286793  0.900499  0.005560),\n",
       " ('M',\n",
       "      具体类别        收支      市场稳定      进步因子\n",
       "  19     M  0.768570  0.936457  0.161862\n",
       "  52     M  0.690023  0.955416  0.053988\n",
       "  58     M  0.793594  0.984635  0.055910\n",
       "  80     M  0.801154  0.932575  0.036299\n",
       "  85     M  0.767128  0.865730  0.074401\n",
       "  89     M  0.765369  0.942776  0.048606\n",
       "  97     M  0.735345  0.849660  0.056702\n",
       "  98     M  0.777849  0.897249  0.062919\n",
       "  99     M  0.735475  0.941300  0.250433\n",
       "  103    M  0.764537  0.873704  0.062794\n",
       "  119    M  0.647273  0.855449  0.059001\n",
       "  124    M  0.676598  0.915789  0.095224\n",
       "  145    M  0.586797  0.908539  0.023798\n",
       "  147    M  0.731646  0.923035  0.039249\n",
       "  193    M  0.542399  0.896306  0.202695\n",
       "  204    M  0.575743  0.893447  0.122324\n",
       "  210    M  0.599350  0.968904  0.074747\n",
       "  221    M  0.463059  0.953755  0.070663\n",
       "  247    M  0.395086  0.891720  0.050530\n",
       "  268    M  0.351046  0.953007  0.044611\n",
       "  270    M  0.466480  0.721205  1.000000\n",
       "  277    M  0.348119  0.862866  0.239654\n",
       "  286    M  0.245908  0.932166  0.047613\n",
       "  292    M  0.309876  0.557668  0.072640\n",
       "  295    M  0.412218  0.919678  0.122865),\n",
       " ('N',\n",
       "      具体类别        收支      市场稳定      进步因子\n",
       "  55     N  0.757219  0.853105  0.065869\n",
       "  141    N  0.702627  0.859465  0.071969\n",
       "  143    N  0.560372  0.859193  0.015351\n",
       "  180    N  0.650003  0.963920  0.087650\n",
       "  205    N  0.278846  0.785914  0.098964\n",
       "  293    N  0.293644  0.815718  0.028869),\n",
       " ('O',\n",
       "      具体类别        收支      市场稳定      进步因子\n",
       "  20     O  0.719259  0.810142  0.330116\n",
       "  30     O  0.812094  0.958782  0.111266\n",
       "  47     O  0.782396  0.897274  0.058270\n",
       "  66     O  0.660266  0.802750  0.040153\n",
       "  101    O  0.767944  0.918863  0.049373\n",
       "  122    O  0.661110  0.903918  0.052741\n",
       "  174    O  0.624494  0.801086  0.057704\n",
       "  246    O  0.203732  0.616824  0.062944\n",
       "  248    O  0.455110  0.957480  0.035026\n",
       "  265    O  0.178944  0.630990  0.090679),\n",
       " ('Q',\n",
       "      具体类别        收支      市场稳定      进步因子\n",
       "  71     Q  0.810988  0.958061  0.034884\n",
       "  296    Q  0.367806  0.972092  0.048004),\n",
       " ('R',\n",
       "      具体类别        收支      市场稳定      进步因子\n",
       "  41     R  0.815594  0.880895  0.038882\n",
       "  43     R  0.838100  0.960434  0.045952\n",
       "  70     R  0.721221  0.961996  0.058323\n",
       "  95     R  0.740712  0.924787  0.084505\n",
       "  96     R  0.780092  0.870065  0.049941\n",
       "  104    R  0.751253  0.819187  0.061105\n",
       "  135    R  0.702494  0.924055  0.046997\n",
       "  136    R  0.691192  0.961017  0.093745\n",
       "  158    R  0.665495  0.858057  0.045867\n",
       "  179    R  0.595878  0.882357  0.053925\n",
       "  207    R  0.524571  0.892594  0.070238\n",
       "  225    R  0.296051  0.844833  0.029212\n",
       "  227    R  0.402397  0.813914  0.453316\n",
       "  230    R  0.457893  0.817102  0.048552\n",
       "  253    R  0.386349  0.759823  0.099088\n",
       "  272    R  0.419622  0.853852  0.015054\n",
       "  291    R  0.179588  0.570663  0.048248),\n",
       " ('Z',\n",
       "      具体类别        收支      市场稳定      进步因子\n",
       "  0      Z  0.984573  0.823649  0.089913\n",
       "  1      Z  1.000000  0.828448  0.075867\n",
       "  2      Z  0.890867  0.939260  0.075424\n",
       "  3      Z  0.729281  0.948611  0.037717\n",
       "  4      Z  0.756402  0.952134  0.079647\n",
       "  5      Z  0.863811  0.945270  0.038056\n",
       "  6      Z  0.805937  0.774354  0.288368\n",
       "  7      Z  0.855198  0.921592  0.045195\n",
       "  8      Z  0.827966  0.870696  0.061405\n",
       "  9      Z  0.785049  0.854718  0.072229\n",
       "  14     Z  0.757892  0.949522  0.065893\n",
       "  15     Z  0.678221  0.953200  0.042348\n",
       "  29     Z  0.580411  0.728018  0.022500\n",
       "  31     Z  0.795140  0.956919  0.091869\n",
       "  32     Z  0.685434  0.822437  0.031637\n",
       "  35     Z  0.797935  0.931051  0.044595\n",
       "  40     Z  0.810847  0.840643  0.057599\n",
       "  63     Z  0.789979  0.796961  0.060422\n",
       "  69     Z  0.759181  0.963055  0.029693\n",
       "  76     Z  0.759231  0.959530  0.090478\n",
       "  78     Z  0.726835  0.801465  0.041759\n",
       "  81     Z  0.754692  0.941484  0.038903\n",
       "  83     Z  0.805682  0.858443  0.035949\n",
       "  84     Z  0.797786  0.951476  0.043115\n",
       "  87     Z  0.721270  0.798152  0.082986\n",
       "  93     Z  0.768738  0.820179  0.053240\n",
       "  111    Z  0.703875  0.966973  0.064830\n",
       "  112    Z  0.671185  0.724858  0.048075\n",
       "  113    Z  0.685425  0.650831  0.544697\n",
       "  114    Z  0.719439  0.902874  0.039276\n",
       "  115    Z  0.716245  0.937823  0.083919\n",
       "  116    Z  0.761822  0.730122  0.290719\n",
       "  117    Z  0.669668  0.959678  0.048100\n",
       "  118    Z  0.683345  0.827669  0.136362\n",
       "  120    Z  0.705043  0.933944  0.037934\n",
       "  131    Z  0.697683  0.947353  0.044462\n",
       "  138    Z  0.688539  0.963350  0.046114\n",
       "  140    Z  0.713614  0.795539  0.058148\n",
       "  146    Z  0.647631  0.937159  0.079817\n",
       "  148    Z  0.616710  0.927600  0.066666\n",
       "  149    Z  0.660969  0.900363  0.038896\n",
       "  156    Z  0.663838  0.978479  0.055767\n",
       "  161    Z  0.703250  0.934948  0.055805\n",
       "  164    Z  0.671573  0.953924  0.044886\n",
       "  170    Z  0.637451  0.955712  0.038502\n",
       "  182    Z  0.600976  0.905954  0.067579\n",
       "  185    Z  0.628153  0.853904  0.046769\n",
       "  192    Z  0.583909  0.946235  0.073156\n",
       "  195    Z  0.636331  0.968398  0.036286\n",
       "  203    Z  0.662746  0.971447  0.029429\n",
       "  213    Z  0.501379  0.916785  0.026720\n",
       "  222    Z  0.518685  0.969696  0.047483\n",
       "  237    Z  0.555563  0.866344  0.043369\n",
       "  249    Z  0.574237  0.975458  0.185895\n",
       "  260    Z  0.520140  0.927480  0.918166\n",
       "  262    Z  0.441074  0.804657  0.014031\n",
       "  280    Z  0.451254  0.784079  0.057855)]"
      ]
     },
     "execution_count": 647,
     "metadata": {},
     "output_type": "execute_result"
    }
   ],
   "source": [
    "[ (category, category_scores)for category, category_scores in score_raw.groupby('具体类别')]"
   ]
  },
  {
   "cell_type": "code",
   "execution_count": null,
   "id": "a2e89c2d",
   "metadata": {},
   "outputs": [],
   "source": []
  }
 ],
 "metadata": {
  "kernelspec": {
   "display_name": "Python 3",
   "language": "python",
   "name": "python3"
  },
  "language_info": {
   "codemirror_mode": {
    "name": "ipython",
    "version": 3
   },
   "file_extension": ".py",
   "mimetype": "text/x-python",
   "name": "python",
   "nbconvert_exporter": "python",
   "pygments_lexer": "ipython3",
   "version": "3.8.10"
  },
  "toc": {
   "base_numbering": 1,
   "nav_menu": {},
   "number_sections": true,
   "sideBar": true,
   "skip_h1_title": false,
   "title_cell": "Table of Contents",
   "title_sidebar": "Contents",
   "toc_cell": false,
   "toc_position": {
    "height": "calc(100% - 180px)",
    "left": "10px",
    "top": "150px",
    "width": "165px"
   },
   "toc_section_display": true,
   "toc_window_display": true
  },
  "varInspector": {
   "cols": {
    "lenName": 16,
    "lenType": 16,
    "lenVar": 40
   },
   "kernels_config": {
    "python": {
     "delete_cmd_postfix": "",
     "delete_cmd_prefix": "del ",
     "library": "var_list.py",
     "varRefreshCmd": "print(var_dic_list())"
    },
    "r": {
     "delete_cmd_postfix": ") ",
     "delete_cmd_prefix": "rm(",
     "library": "var_list.r",
     "varRefreshCmd": "cat(var_dic_list()) "
    }
   },
   "types_to_exclude": [
    "module",
    "function",
    "builtin_function_or_method",
    "instance",
    "_Feature"
   ],
   "window_display": false
  }
 },
 "nbformat": 4,
 "nbformat_minor": 5
}
